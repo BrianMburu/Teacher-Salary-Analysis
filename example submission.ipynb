{
 "cells": [
  {
   "cell_type": "markdown",
   "metadata": {
    "colab_type": "text",
    "id": "e3u18jMWIeDK",
    "toc": true
   },
   "source": [
    "<h1>Table of Contents<span class=\"tocSkip\"></span></h1>\n",
    "<div class=\"toc\"><ul class=\"toc-item\"><li><span><a href=\"#Business-Story\" data-toc-modified-id=\"Business-Story-1\"><span class=\"toc-item-num\">1&nbsp;&nbsp;</span>Business Story</a></span></li><li><span><a href=\"#Import-Required-Modules\" data-toc-modified-id=\"Import-Required-Modules-2\"><span class=\"toc-item-num\">2&nbsp;&nbsp;</span>Import Required Modules</a></span></li><li><span><a href=\"#Read-in-Dataset\" data-toc-modified-id=\"Read-in-Dataset-3\"><span class=\"toc-item-num\">3&nbsp;&nbsp;</span>Read in Dataset</a></span></li><li><span><a href=\"#Data-Preparation\" data-toc-modified-id=\"Data-Preparation-4\"><span class=\"toc-item-num\">4&nbsp;&nbsp;</span>Data Preparation</a></span><ul class=\"toc-item\"><li><span><a href=\"#Keep-Necessary-Columns\" data-toc-modified-id=\"Keep-Necessary-Columns-4.1\"><span class=\"toc-item-num\">4.1&nbsp;&nbsp;</span>Keep Necessary Columns</a></span></li><li><span><a href=\"#Create-New-Features\" data-toc-modified-id=\"Create-New-Features-4.2\"><span class=\"toc-item-num\">4.2&nbsp;&nbsp;</span>Create New Features</a></span></li><li><span><a href=\"#Input-Supplementary-Data\" data-toc-modified-id=\"Input-Supplementary-Data-4.3\"><span class=\"toc-item-num\">4.3&nbsp;&nbsp;</span>Input Supplementary Data</a></span></li><li><span><a href=\"#Handle-Missing-Values\" data-toc-modified-id=\"Handle-Missing-Values-4.4\"><span class=\"toc-item-num\">4.4&nbsp;&nbsp;</span>Handle Missing Values</a></span></li><li><span><a href=\"#Categorise-Data\" data-toc-modified-id=\"Categorise-Data-4.5\"><span class=\"toc-item-num\">4.5&nbsp;&nbsp;</span>Categorise Data</a></span></li></ul></li><li><span><a href=\"#Exploratory-Data-Analysis\" data-toc-modified-id=\"Exploratory-Data-Analysis-5\"><span class=\"toc-item-num\">5&nbsp;&nbsp;</span>Exploratory Data Analysis</a></span><ul class=\"toc-item\"><li><span><a href=\"#Explore-the-relationship-between-price/score-and-state\" data-toc-modified-id=\"Explore-the-relationship-between-price/score-and-state-5.1\"><span class=\"toc-item-num\">5.1&nbsp;&nbsp;</span>Explore the relationship between price/score and state</a></span></li><li><span><a href=\"#Explore-the-relationship-between-price/score-and-temperature/rainfall/heat_summation\" data-toc-modified-id=\"Explore-the-relationship-between-price/score-and-temperature/rainfall/heat_summation-5.2\"><span class=\"toc-item-num\">5.2&nbsp;&nbsp;</span>Explore the relationship between price/score and temperature/rainfall/heat_summation</a></span></li><li><span><a href=\"#Explore-the-relationship-between-price-and-score\" data-toc-modified-id=\"Explore-the-relationship-between-price-and-score-5.3\"><span class=\"toc-item-num\">5.3&nbsp;&nbsp;</span>Explore the relationship between price and score</a></span></li><li><span><a href=\"#Explore-the-relationship-between-price/score-and-winery/variety/year\" data-toc-modified-id=\"Explore-the-relationship-between-price/score-and-winery/variety/year-5.4\"><span class=\"toc-item-num\">5.4&nbsp;&nbsp;</span>Explore the relationship between price/score and winery/variety/year</a></span></li><li><span><a href=\"#The-relationship-between-price/score-and-production-year\" data-toc-modified-id=\"The-relationship-between-price/score-and-production-year-5.5\"><span class=\"toc-item-num\">5.5&nbsp;&nbsp;</span>The relationship between price/score and production year</a></span></li></ul></li><li><span><a href=\"#Predictive-Modeling\" data-toc-modified-id=\"Predictive-Modeling-6\"><span class=\"toc-item-num\">6&nbsp;&nbsp;</span>Predictive Modeling</a></span><ul class=\"toc-item\"><li><span><a href=\"#Data-Engineering\" data-toc-modified-id=\"Data-Engineering-6.1\"><span class=\"toc-item-num\">6.1&nbsp;&nbsp;</span>Data Engineering</a></span></li><li><span><a href=\"#Model-Construction\" data-toc-modified-id=\"Model-Construction-6.2\"><span class=\"toc-item-num\">6.2&nbsp;&nbsp;</span>Model Construction</a></span><ul class=\"toc-item\"><li><span><a href=\"#Model-Selection\" data-toc-modified-id=\"Model-Selection-6.2.1\"><span class=\"toc-item-num\">6.2.1&nbsp;&nbsp;</span>Model Selection</a></span></li><li><span><a href=\"#Divide-into-Train/Test-Dataset\" data-toc-modified-id=\"Divide-into-Train/Test-Dataset-6.2.2\"><span class=\"toc-item-num\">6.2.2&nbsp;&nbsp;</span>Divide into Train/Test Dataset</a></span></li><li><span><a href=\"#DecisionTree\" data-toc-modified-id=\"DecisionTree-6.2.3\"><span class=\"toc-item-num\">6.2.3&nbsp;&nbsp;</span>DecisionTree</a></span></li><li><span><a href=\"#RandomForest\" data-toc-modified-id=\"RandomForest-6.2.4\"><span class=\"toc-item-num\">6.2.4&nbsp;&nbsp;</span>RandomForest</a></span></li><li><span><a href=\"#AdaBoost\" data-toc-modified-id=\"AdaBoost-6.2.5\"><span class=\"toc-item-num\">6.2.5&nbsp;&nbsp;</span>AdaBoost</a></span></li><li><span><a href=\"#Hyperparameter-Tuning\" data-toc-modified-id=\"Hyperparameter-Tuning-6.2.6\"><span class=\"toc-item-num\">6.2.6&nbsp;&nbsp;</span>Hyperparameter Tuning</a></span></li></ul></li><li><span><a href=\"#Result\" data-toc-modified-id=\"Result-6.3\"><span class=\"toc-item-num\">6.3&nbsp;&nbsp;</span>Result</a></span></li></ul></li><li><span><a href=\"#Business-Insight\" data-toc-modified-id=\"Business-Insight-7\"><span class=\"toc-item-num\">7&nbsp;&nbsp;</span>Business Insight</a></span></li></ul></div>"
   ]
  },
  {
   "cell_type": "markdown",
   "metadata": {
    "colab_type": "text",
    "id": "_fKdvC9_IeDM"
   },
   "source": [
    "# Business Story"
   ]
  },
  {
   "cell_type": "markdown",
   "metadata": {
    "colab_type": "text",
    "id": "sjij_pwyIeDN"
   },
   "source": [
    "I work for the data science group of a US-based large supermarket chain. Today, I am going to develop a predictive model that can help to improve the future sale of domestic wine. As the dataset does not contain any data about the sale, I make an assumption that customers tend to buy wine with higher scores. Therefore, the objective of the task is to find out a suitable model that could predict scores of wine and to figure out which factors could influence scores most so that our supermarket could identify unscored valuable wine and put them on the shelf for sale."
   ]
  },
  {
   "cell_type": "markdown",
   "metadata": {
    "colab_type": "text",
    "id": "5dMvnrRCIeDO"
   },
   "source": [
    "# Import Required Modules"
   ]
  },
  {
   "cell_type": "code",
   "execution_count": 0,
   "metadata": {
    "colab": {},
    "colab_type": "code",
    "id": "ravuPvG7IeDP"
   },
   "outputs": [],
   "source": [
    "# DataFrame\n",
    "import pandas as pd\n",
    "import numpy as np\n",
    "from numpy import *\n",
    "\n",
    "# Crawling Data\n",
    "import requests\n",
    "import html5lib\n",
    "from bs4 import BeautifulSoup\n",
    "import re\n",
    "\n",
    "# Visualisation and statistic method\n",
    "from matplotlib import pyplot as plt\n",
    "import seaborn as sns\n",
    "import statsmodels.api as sm\n",
    "import scipy, scipy.stats\n",
    "\n",
    "# Data Engineering\n",
    "from sklearn.preprocessing import LabelEncoder\n",
    "\n",
    "# train_test_split\n",
    "from sklearn.model_selection import train_test_split\n",
    "from sklearn.model_selection import cross_val_score\n",
    "# Machine learning model\n",
    "from sklearn.ensemble import RandomForestClassifier\n",
    "from sklearn.tree import DecisionTreeClassifier\n",
    "from sklearn.ensemble import AdaBoostClassifier\n",
    "from sklearn import metrics\n",
    "from sklearn.model_selection import GridSearchCV"
   ]
  },
  {
   "cell_type": "markdown",
   "metadata": {
    "colab_type": "text",
    "id": "y0TKbrJdIeDS"
   },
   "source": [
    "# Read in Dataset"
   ]
  },
  {
   "cell_type": "code",
   "execution_count": 0,
   "metadata": {
    "colab": {},
    "colab_type": "code",
    "id": "-XhWTGcXIeDT"
   },
   "outputs": [],
   "source": [
    "data = pd.read_csv(r'wine_project.csv',index_col=0)\n",
    "# print(data.info())\n",
    "# print(data.head())"
   ]
  },
  {
   "cell_type": "markdown",
   "metadata": {
    "colab_type": "text",
    "id": "Si-aaMQvIeDX"
   },
   "source": [
    "# Data Preparation"
   ]
  },
  {
   "cell_type": "markdown",
   "metadata": {
    "colab_type": "text",
    "id": "rnL_5zqiIeDY"
   },
   "source": [
    "   ## Keep Necessary Columns"
   ]
  },
  {
   "cell_type": "markdown",
   "metadata": {
    "colab_type": "text",
    "id": "iND6ekcGIeDY"
   },
   "source": [
    "Because all observations have the same country-US, I drop the meaningless column, country."
   ]
  },
  {
   "cell_type": "code",
   "execution_count": 61,
   "metadata": {
    "colab": {
     "base_uri": "https://localhost:8080/",
     "height": 252
    },
    "colab_type": "code",
    "id": "vc2wiqiLIeDZ",
    "outputId": "7e53ed5c-904e-4677-bd24-deeeb33e1b68"
   },
   "outputs": [
    {
     "name": "stdout",
     "output_type": "stream",
     "text": [
      "<class 'pandas.core.frame.DataFrame'>\n",
      "Int64Index: 54503 entries, 1 to 54503\n",
      "Data columns (total 8 columns):\n",
      "title       54503 non-null object\n",
      "score       54503 non-null int64\n",
      "price       51544 non-null float64\n",
      "state       54503 non-null object\n",
      "region_1    54225 non-null object\n",
      "region_2    50510 non-null object\n",
      "variety     52263 non-null object\n",
      "winery      54197 non-null object\n",
      "dtypes: float64(1), int64(1), object(6)\n",
      "memory usage: 3.7+ MB\n",
      "None\n"
     ]
    }
   ],
   "source": [
    "data = data.drop('country',axis=1)\n",
    "print(data.info())"
   ]
  },
  {
   "cell_type": "markdown",
   "metadata": {
    "colab_type": "text",
    "id": "tAdRsQ9WIeDc"
   },
   "source": [
    "   ## Create New Features"
   ]
  },
  {
   "cell_type": "markdown",
   "metadata": {
    "colab_type": "text",
    "id": "Lul0L7uZIeDd"
   },
   "source": [
    "Through observing dataset, I find out that the column, title, contains information about the production date, which is important for evaluating wine. \n",
    "\n",
    "Therefore, I leverage regular expression to extract the date as a new column, Production_year. "
   ]
  },
  {
   "cell_type": "code",
   "execution_count": 62,
   "metadata": {
    "colab": {
     "base_uri": "https://localhost:8080/",
     "height": 269
    },
    "colab_type": "code",
    "id": "lWQRjxd3IeDe",
    "outputId": "05486558-2f7e-4146-97cc-38761fad7bdb"
   },
   "outputs": [
    {
     "name": "stdout",
     "output_type": "stream",
     "text": [
      "<class 'pandas.core.frame.DataFrame'>\n",
      "Int64Index: 54503 entries, 1 to 54503\n",
      "Data columns (total 9 columns):\n",
      "title              54503 non-null object\n",
      "score              54503 non-null int64\n",
      "price              51544 non-null float64\n",
      "state              54503 non-null object\n",
      "region_1           54225 non-null object\n",
      "region_2           50510 non-null object\n",
      "variety            52263 non-null object\n",
      "winery             54197 non-null object\n",
      "Production_year    53584 non-null object\n",
      "dtypes: float64(1), int64(1), object(7)\n",
      "memory usage: 4.2+ MB\n",
      "None\n"
     ]
    }
   ],
   "source": [
    "#All valid dates in this dataset start with number 1 or 2\n",
    "data['Production_year']=data['title'].str.extract('\\s([12][09]\\d\\d)')\n",
    "print(data.info())"
   ]
  },
  {
   "cell_type": "markdown",
   "metadata": {
    "colab_type": "text",
    "id": "8LOBiocnIeDh"
   },
   "source": [
    "   ## Input Supplementary Data"
   ]
  },
  {
   "cell_type": "markdown",
   "metadata": {
    "colab_type": "text",
    "id": "1NDse3ucIeDi"
   },
   "source": [
    "By conducting desk research on the authoritative wine website, https://www.winespectator.com/, I find out that the flavor of wine could be influenced by the temperature, rainfall and heat summation. According to Jones et al.(2005), heat summation refers to the sum of the mean monthly temperature above 50 Fahrenheit degree between April and October. For example, if the mean for a day is 70 Fahrenheit degree, the summation is 20 degree-days and if the mean for June is 65 Fahrenheit degree, the summation is 450 degree-days.\n",
    "Therefore, I crawl \n",
    "\n",
    "(1) annual average temperature data from 1989 to 2016 of each state in the US from: \n",
    "https://www.ncdc.noaa.gov/cag/statewide/time-series/50/tavg/12/12/1989-2016?base_prd=true&begbaseyear=1901&endbaseyear=2000  \n",
    "\n",
    "(2) annual precipitation data from: \n",
    "https://www.ncdc.noaa.gov/cag/statewide/time-series/50/pcp/12/12/1989-2016?base_prd=true&begbaseyear=1901&endbaseyear=2000\n",
    "\n",
    "(3) average temperature data from April to October in the period bewteen 1989 and 2016\n",
    "https://www.ncdc.noaa.gov/cag/statewide/time-series/45/tavg/7/10/1989-2016?base_prd=true&begbaseyear=1925&endbaseyear=2000\n",
    "    \n",
    "Cell 1 contains the codes for temperature data, cell 2 contains the codes for precipitation data and cell 3 contains the codes for heat summation data. The data have already been uploaded, so the codes are only for demonstration.\n",
    "    \n",
    "    \n",
    "Reference: Jones, G.V., White, M.A., Cooper, O.R. and Storchmann, K. (2005). Climate Change and Global Wine Quality. Climatic Change, 73(3): 319–343."
   ]
  },
  {
   "cell_type": "code",
   "execution_count": 47,
   "metadata": {
    "colab": {
     "base_uri": "https://localhost:8080/",
     "height": 1000
    },
    "colab_type": "code",
    "id": "TqBdMfiMIeDi",
    "outputId": "b5949848-7507-45df-bc4c-060be10a7209"
   },
   "outputs": [
    {
     "name": "stdout",
     "output_type": "stream",
     "text": [
      "{1: 'Alabama', 50: 'Alaska', 2: 'Arizona', 3: 'Arkansas', 4: 'California', 5: 'Colorado', 6: 'Connecticut', 7: 'Delaware', 8: 'Florida', 9: 'Georgia', 10: 'Idaho', 11: 'Illinois', 12: 'Indiana', 13: 'Iowa', 14: 'Kansas', 15: 'Kentucky', 16: 'Louisiana', 17: 'Maine', 18: 'Maryland', 19: 'Massachusetts', 20: 'Michigan', 21: 'Minnesota', 22: 'Mississippi', 23: 'Missouri', 24: 'Montana', 25: 'Nebraska', 26: 'Nevada', 27: 'New Hampshire', 28: 'New Jersey', 29: 'New Mexico', 30: 'New York', 31: 'North Carolina', 32: 'North Dakota', 33: 'Ohio', 34: 'Oklahoma', 35: 'Oregon', 36: 'Pennsylvania', 37: 'Rhode Island', 38: 'South Carolina', 39: 'South Dakota', 40: 'Tennessee', 41: 'Texas', 42: 'Utah', 43: 'Vermont', 44: 'Virginia', 45: 'Washington', 46: 'West Virginia', 47: 'Wisconsin', 48: 'Wyoming'}\n",
      "1\n",
      "2\n",
      "3\n",
      "4\n",
      "5\n",
      "6\n",
      "7\n",
      "8\n",
      "9\n",
      "10\n",
      "11\n",
      "12\n",
      "13\n",
      "14\n",
      "15\n",
      "16\n",
      "17\n",
      "18\n",
      "19\n",
      "20\n",
      "21\n",
      "22\n",
      "23\n",
      "24\n",
      "25\n",
      "26\n",
      "27\n",
      "28\n",
      "29\n",
      "30\n",
      "31\n",
      "32\n",
      "33\n",
      "34\n",
      "35\n",
      "36\n",
      "37\n",
      "38\n",
      "39\n",
      "40\n",
      "41\n",
      "42\n",
      "43\n",
      "44\n",
      "45\n",
      "46\n",
      "47\n",
      "48\n",
      "50\n",
      "<bound method DataFrame.info of                 1989  1990  1991  1992  1993  ...  2012  2013  2014  2015  2016\n",
      "Alabama         62.2  64.9  64.0  62.1  62.3  ...  64.9  62.6  62.0  64.6  65.3\n",
      "Arizona         61.2  59.7  59.2  59.6  59.8  ...  62.1  60.4  62.2  61.8  62.2\n",
      "Arkansas        59.0  61.8  61.3  59.9  59.3  ...  63.6  59.6  58.7  61.4  62.8\n",
      "California      58.1  58.0  58.1  59.3  57.7  ...  59.5  59.3  61.4  60.8  60.1\n",
      "Colorado        45.4  45.6  45.0  45.3  43.8  ...  48.3  45.1  46.1  47.4  47.3\n",
      "Connecticut     47.9  51.1  51.0  47.7  48.6  ...  52.5  49.8  48.7  49.8  51.8\n",
      "Delaware        54.2  57.2  56.9  53.9  54.8  ...  58.5  55.8  54.7  56.4  57.4\n",
      "Florida         71.0  72.5  71.8  70.3  70.3  ...  71.9  71.7  70.6  73.4  72.5\n",
      "Georgia         63.2  65.7  64.5  62.7  63.2  ...  65.5  63.4  63.0  65.3  65.8\n",
      "Idaho           42.8  43.5  43.3  45.0  40.9  ...  45.1  43.7  45.1  46.4  45.1\n",
      "Illinois        50.4  53.6  53.7  51.9  50.9  ...  55.8  51.1  49.5  52.9  54.7\n",
      "Indiana         50.2  53.3  53.7  51.3  50.8  ...  55.1  51.2  49.4  52.3  54.2\n",
      "Iowa            46.6  49.5  48.6  47.8  45.7  ...  52.1  46.7  45.5  49.3  50.7\n",
      "Kansas          53.1  55.5  55.7  54.2  51.9  ...  58.2  53.7  53.7  56.3  57.2\n",
      "Kentucky        54.3  57.3  57.4  55.1  55.0  ...  58.4  55.0  54.3  56.6  57.9\n",
      "Louisiana       65.5  67.8  66.9  65.8  65.6  ...  68.7  66.2  65.1  68.1  68.7\n",
      "Maine           39.3  42.4  41.7  39.8  40.0  ...  43.9  42.0  41.2  41.2  43.3\n",
      "Maryland        53.5  56.6  56.5  53.5  54.2  ...  57.5  54.7  53.6  55.4  56.5\n",
      "Massachusetts   46.6  49.7  49.6  46.4  47.3  ...  51.3  48.8  47.7  48.5  50.3\n",
      "Michigan        42.6  45.7  45.8  43.3  43.2  ...  48.4  44.1  41.9  45.1  47.4\n",
      "Minnesota       39.1  42.5  41.7  40.9  38.9  ...  45.2  39.3  38.6  43.5  44.6\n",
      "Mississippi     62.4  65.1  64.3  62.8  62.7  ...  65.7  63.1  62.3  65.3  65.9\n",
      "Missouri        53.0  56.2  56.1  54.5  53.0  ...  58.5  53.6  52.9  55.8  57.4\n",
      "Montana         40.8  42.8  42.9  43.5  39.6  ...  44.5  42.4  41.9  44.9  44.6\n",
      "Nebraska        48.0  50.0  50.1  48.9  46.0  ...  52.7  48.5  48.0  50.8  51.6\n",
      "Nevada          50.1  50.0  49.9  51.4  48.6  ...  52.4  50.5  53.0  52.9  51.9\n",
      "New Hampshire   41.7  45.0  44.5  41.8  42.5  ...  46.6  44.2  43.0  43.6  45.7\n",
      "New Jersey      51.5  54.4  54.4  51.2  52.2  ...  55.9  53.2  51.9  53.9  54.9\n",
      "New Mexico      54.0  53.3  52.5  52.6  53.1  ...  56.0  53.7  54.8  54.9  55.5\n",
      "New York        43.8  47.3  47.1  43.8  44.2  ...  48.8  45.7  44.5  45.7  47.6\n",
      "North Carolina  58.2  61.1  60.2  58.2  58.7  ...  60.7  58.6  58.4  60.5  60.8\n",
      "North Dakota    39.4  42.6  42.3  41.2  38.3  ...  44.1  38.8  39.0  43.4  44.4\n",
      "Ohio            49.4  52.7  53.1  50.3  50.4  ...  54.0  50.9  49.2  51.6  53.6\n",
      "Oklahoma        58.1  60.7  60.3  59.3  58.1  ...  63.2  58.8  58.9  60.8  62.3\n",
      "Oregon          46.5  47.4  47.6  49.4  45.5  ...  48.0  47.6  49.6  50.4  48.8\n",
      "Pennsylvania    47.5  50.7  50.7  47.6  48.2  ...  51.8  49.0  47.4  49.5  50.9\n",
      "Rhode Island    48.6  51.5  51.4  48.4  49.3  ...  52.9  50.6  49.7  50.4  52.2\n",
      "South Carolina  62.2  65.0  63.8  61.9  62.6  ...  64.5  62.3  62.2  64.5  64.9\n",
      "South Dakota    44.3  46.9  46.8  45.6  42.3  ...  49.3  44.0  43.7  47.5  48.4\n",
      "Tennessee       56.6  59.4  59.1  57.0  57.2  ...  60.3  57.1  56.6  59.0  60.3\n",
      "Texas           64.3  65.6  64.8  64.4  64.1  ...  67.8  65.1  64.8  65.8  67.2\n",
      "Utah            48.6  48.7  47.5  49.0  46.8  ...  50.9  47.8  50.4  50.7  50.2\n",
      "Vermont         40.7  44.0  43.5  40.6  41.2  ...  45.8  43.2  42.0  42.6  44.6\n",
      "Virginia        54.4  57.4  57.0  54.4  55.1  ...  57.6  55.1  54.4  56.5  57.1\n",
      "Washington      46.6  47.3  47.1  48.6  45.6  ...  47.1  47.2  48.4  50.0  48.6\n",
      "West Virginia   50.9  53.9  53.8  51.3  51.9  ...  54.3  51.8  50.8  53.1  54.1\n",
      "Wisconsin       41.1  44.5  43.7  42.7  41.7  ...  47.4  41.8  40.2  44.8  46.2\n",
      "Wyoming         41.2  41.8  41.7  42.5  38.9  ...  44.8  41.7  42.1  44.2  43.9\n",
      "Alaska          26.8  25.4  27.0  25.0  29.9  ...  24.3  27.8  30.3  30.0  31.9\n",
      "\n",
      "[49 rows x 28 columns]>\n"
     ]
    }
   ],
   "source": [
    "# Cell 1\n",
    "# Temperature data of each state in the US from 1986 to 2016\n",
    "from numpy import *\n",
    "import requests\n",
    "import html5lib\n",
    "from bs4 import BeautifulSoup\n",
    "import re\n",
    "import pandas as pd\n",
    "\n",
    "headers={'User-Agent':'Mozilla/5.0 (Windows NT 10.0; Win64; x64) AppleWebKit/537.36 (KHTML, like Gecko) Chrome/80.0.3987.132 Safari/537.36'}\n",
    "\n",
    "def parse_page(url,i):\n",
    "    temperature=[]\n",
    "    response = requests.get(url, headers=headers)\n",
    "    text = response.content.decode()\n",
    "    soup = BeautifulSoup(text,'lxml')\n",
    "    table = soup.find('table', id='valuesTable')\n",
    "    # The first tr tag contains the headline of the table which I do not want, so skip it.\n",
    "    trs=table.find_all('tr')[1:]\n",
    "    for tr in trs:\n",
    "        # Target data are under the td tags as texts\n",
    "        tds = tr.find_all('td')\n",
    "        # Use .string to extract texts\n",
    "        data=tds[1].string.strip('')\n",
    "        # Use regular expression to ensure the content extracted doesn't have other information\n",
    "        number_after = re.findall(r'(\\d+\\.\\d+)', data)\n",
    "        temperature.append(float(number_after[0]))    \n",
    "    # Extract the corresponding state name based on the i from the list\n",
    "    state_key=list[i]\n",
    "    # Use the state name as the key\n",
    "    temperature_dict[state_key]=temperature\n",
    "    print(i)\n",
    "    \n",
    "\n",
    "# Because the state name is not on the same page. (The website is quite tricky, it uses another hidden url for the temperature data)\n",
    "# I get the number-state name pairs on the pages and store them for matching state names to numbers. \n",
    "def number_state_match(url):\n",
    "    number_state_dict={}\n",
    "    response = requests.get(url, headers=headers)\n",
    "    text = response.content.decode()\n",
    "    soup = BeautifulSoup(text, 'lxml')\n",
    "    state = soup.find('select', id='state')\n",
    "    numbers=state.find_all('option')\n",
    "    for number in numbers:\n",
    "        # id information is in the value attribute\n",
    "        id=int(number['value'])\n",
    "        # The corresponding state name is in the text after the value attribute\n",
    "        state_name=number.string\n",
    "        # store the information in a dict. \n",
    "        number_state_dict[id]=state_name\n",
    "    return number_state_dict\n",
    "if __name__ == '__main__':\n",
    "    base_url = 'https://www.ncdc.noaa.gov/cag/statewide/time-series/{}/tavg/12/12/1989-2016/data.html?base_prd=true&begbaseyear=1901&endbaseyear=2000'\n",
    "    first_url='https://www.ncdc.noaa.gov/cag/statewide/time-series'\n",
    "    list=number_state_match(first_url)\n",
    "    print(list)\n",
    "    temperature_dict={}\n",
    "    for i in range(1,51):\n",
    "        # Because the data of index 49 is a null, skip it\n",
    "        if i==49:\n",
    "            continue\n",
    "        else:\n",
    "            # The only change in the url is the id \n",
    "            url=base_url.format(i)\n",
    "            parse_page(url,i)\n",
    "    # print(temperature_dict)\n",
    "    state_temperature_df = pd.DataFrame.from_dict(temperature_dict, orient='index', columns=['1989','1990','1991','1992','1993','1994','1995','1996','1997','1998','1999','2000','2001','2002','2003','2004','2005','2006','2007','2008','2009','2010','2011','2012','2013','2014','2015','2016'])\n",
    "    print(state_temperature_df.info)\n",
    "    # print(state_temperature_df.head())\n",
    "    state_temperature_df.to_csv('state_temperature.csv')"
   ]
  },
  {
   "cell_type": "code",
   "execution_count": 7,
   "metadata": {
    "colab": {
     "base_uri": "https://localhost:8080/",
     "height": 1000
    },
    "colab_type": "code",
    "id": "tCpQOl7xIeDl",
    "outputId": "74754534-1ba3-4640-ba27-bea08daf0403"
   },
   "outputs": [
    {
     "name": "stdout",
     "output_type": "stream",
     "text": [
      "{1: 'Alabama', 50: 'Alaska', 2: 'Arizona', 3: 'Arkansas', 4: 'California', 5: 'Colorado', 6: 'Connecticut', 7: 'Delaware', 8: 'Florida', 9: 'Georgia', 10: 'Idaho', 11: 'Illinois', 12: 'Indiana', 13: 'Iowa', 14: 'Kansas', 15: 'Kentucky', 16: 'Louisiana', 17: 'Maine', 18: 'Maryland', 19: 'Massachusetts', 20: 'Michigan', 21: 'Minnesota', 22: 'Mississippi', 23: 'Missouri', 24: 'Montana', 25: 'Nebraska', 26: 'Nevada', 27: 'New Hampshire', 28: 'New Jersey', 29: 'New Mexico', 30: 'New York', 31: 'North Carolina', 32: 'North Dakota', 33: 'Ohio', 34: 'Oklahoma', 35: 'Oregon', 36: 'Pennsylvania', 37: 'Rhode Island', 38: 'South Carolina', 39: 'South Dakota', 40: 'Tennessee', 41: 'Texas', 42: 'Utah', 43: 'Vermont', 44: 'Virginia', 45: 'Washington', 46: 'West Virginia', 47: 'Wisconsin', 48: 'Wyoming'}\n",
      "{'Alabama': [65.2, 56.87, 63.25, 59.79, 50.28, 60.33, 59.57, 58.33, 62.96, 59.26, 49.01, 42.49, 59.04, 57.13, 63.72, 59.88, 57.08, 47.54, 37.86, 53.07, 73.77, 47.19, 50.71, 53.38, 64.7, 56.03, 61.36, 45.01], 'Arizona': [7.67, 14.08, 12.91, 18.15, 16.77, 12.45, 11.44, 8.74, 12.71, 14.44, 10.37, 11.13, 10.79, 6.97, 10.51, 13.52, 13.09, 9.76, 10.99, 12.31, 7.03, 13.91, 9.63, 9.56, 12.13, 11.07, 14.39, 12.28], 'Arkansas': [51.35, 66.91, 61.52, 48.26, 52.04, 54.39, 42.84, 51.75, 51.93, 49.17, 43.8, 45.7, 55.41, 52.83, 44.84, 57.02, 35.75, 49.33, 46.7, 60.48, 72.2, 38.79, 55.84, 39.81, 54.24, 47.91, 67.31, 50.44], 'California': [14.95, 13.99, 19.79, 23.23, 26.7, 17.54, 35.2, 32.51, 20.6, 36.41, 17.63, 21.43, 23.02, 18.68, 21.63, 21.76, 30.1, 23.61, 13.83, 17.85, 17.05, 31.18, 18.79, 23.45, 7.93, 19.9, 15.04, 25.73], 'Colorado': [14.74, 19.9, 18.65, 18.53, 19.9, 17.13, 21.79, 19.85, 22.24, 18.77, 20.03, 16.91, 16.81, 11.85, 16.44, 18.93, 18.95, 18.67, 18.71, 17.46, 18.79, 18.19, 17.62, 12.31, 18.79, 19.14, 21.73, 17.08], 'Connecticut': [57.55, 55.68, 47.77, 48.79, 45.75, 50.41, 42.29, 60.3, 42.68, 50.08, 49.15, 48.74, 39.54, 47.42, 56.12, 48.61, 54.68, 57.01, 45.54, 59.53, 50.5, 48.54, 63.69, 39.39, 43.39, 45.01, 37.08, 36.73], 'Delaware': [56.76, 43.03, 41.84, 40.54, 44.44, 47.31, 38.39, 57.9, 41.11, 41.54, 45.64, 46.19, 39.22, 46.47, 57.82, 44.71, 46.87, 46.76, 38.4, 42.61, 55.94, 40.56, 44.56, 39.32, 50.75, 45.0, 46.27, 45.67], 'Florida': [48.7, 42.61, 62.61, 56.18, 49.91, 64.78, 59.1, 53.96, 59.65, 57.05, 49.69, 40.29, 52.21, 58.49, 58.77, 57.22, 59.48, 41.0, 43.72, 53.13, 53.77, 48.12, 46.77, 55.09, 56.87, 59.13, 52.86, 53.41], 'Georgia': [55.32, 44.85, 57.84, 58.74, 45.86, 61.23, 49.67, 48.7, 57.29, 52.9, 40.86, 41.38, 41.8, 49.72, 57.23, 52.16, 54.74, 39.0, 38.07, 46.99, 61.48, 43.04, 40.11, 42.02, 63.49, 51.41, 55.74, 40.9], 'Idaho': [20.96, 23.41, 22.42, 18.96, 24.08, 20.39, 31.11, 32.1, 25.28, 28.95, 22.64, 20.89, 19.13, 18.98, 22.56, 23.18, 24.58, 26.38, 19.56, 21.97, 22.88, 26.14, 24.69, 25.71, 17.64, 26.47, 22.52, 24.88], 'Illinois': [32.39, 49.94, 36.12, 35.81, 51.18, 35.51, 38.91, 38.82, 35.1, 44.49, 35.71, 39.77, 39.65, 39.06, 37.78, 39.97, 31.43, 40.64, 36.69, 50.17, 50.96, 40.68, 46.1, 30.11, 42.49, 41.29, 48.8, 39.75], 'Indiana': [43.42, 53.54, 36.31, 40.34, 48.59, 35.56, 38.26, 47.67, 39.8, 44.88, 35.04, 43.4, 43.96, 42.19, 46.4, 43.4, 40.89, 51.02, 41.79, 49.69, 46.06, 37.39, 55.2, 33.82, 45.14, 43.57, 47.51, 43.38], 'Iowa': [24.69, 38.91, 37.74, 36.21, 47.88, 29.55, 32.26, 33.66, 29.21, 39.57, 32.28, 29.73, 34.59, 29.48, 28.69, 35.41, 29.84, 32.4, 42.41, 42.92, 39.15, 44.05, 31.83, 25.61, 34.44, 38.69, 42.53, 38.1], 'Kansas': [26.44, 27.93, 23.15, 33.79, 38.47, 25.0, 29.68, 30.76, 30.29, 32.31, 30.26, 25.48, 27.75, 22.44, 25.11, 30.91, 29.6, 24.73, 33.26, 33.34, 31.8, 27.84, 24.17, 19.29, 29.03, 25.43, 32.78, 30.68], 'Kentucky': [57.74, 55.41, 46.03, 42.79, 46.87, 48.66, 47.95, 56.75, 49.05, 49.32, 38.09, 45.29, 45.43, 53.51, 55.98, 55.94, 39.8, 52.37, 41.86, 46.51, 54.35, 43.54, 64.35, 43.21, 55.78, 47.11, 58.31, 49.19], 'Louisiana': [64.0, 58.77, 79.48, 66.56, 58.94, 59.07, 62.33, 53.08, 64.31, 62.98, 47.84, 47.8, 68.31, 64.27, 51.95, 72.48, 45.57, 55.4, 52.42, 56.13, 64.04, 41.76, 43.01, 62.88, 61.43, 55.94, 67.31, 67.08], 'Maine': [41.82, 51.18, 44.24, 37.5, 43.61, 41.68, 42.72, 51.39, 39.51, 45.24, 46.35, 43.15, 29.83, 40.98, 46.02, 38.8, 61.59, 51.65, 47.63, 56.02, 49.46, 49.31, 50.04, 47.38, 45.61, 49.45, 43.16, 41.36], 'Maryland': [51.18, 46.27, 35.79, 42.32, 45.72, 45.83, 39.53, 58.97, 38.77, 42.46, 44.27, 43.92, 36.02, 41.47, 60.74, 46.59, 44.03, 44.97, 36.05, 45.0, 51.27, 40.89, 51.11, 40.4, 46.04, 44.76, 46.86, 41.66], 'Massachusetts': [50.38, 52.01, 48.23, 44.79, 44.45, 47.81, 41.49, 60.61, 41.12, 50.16, 46.04, 50.19, 39.98, 47.23, 53.29, 46.5, 57.01, 53.7, 45.49, 59.7, 51.71, 49.63, 60.83, 41.78, 46.39, 50.1, 41.39, 36.83], 'Michigan': [27.57, 36.19, 35.5, 33.36, 32.44, 32.39, 31.83, 34.0, 29.93, 29.56, 31.4, 33.02, 35.17, 30.9, 31.08, 35.35, 29.89, 35.85, 30.66, 36.85, 33.87, 31.22, 36.82, 31.0, 38.23, 36.66, 31.74, 35.86], 'Minnesota': [22.47, 26.36, 32.2, 25.47, 31.44, 28.23, 29.51, 27.77, 25.2, 28.83, 29.67, 27.98, 29.28, 28.59, 22.2, 29.87, 31.6, 22.78, 29.21, 27.34, 26.39, 33.44, 24.35, 26.17, 29.01, 29.12, 29.46, 33.54], 'Mississippi': [65.52, 60.97, 73.9, 56.01, 55.08, 60.49, 57.45, 54.12, 64.85, 57.05, 47.9, 44.64, 66.28, 66.08, 58.98, 65.81, 50.64, 52.47, 41.78, 59.44, 68.42, 43.91, 52.84, 59.17, 62.93, 58.22, 60.57, 53.13], 'Missouri': [33.32, 50.45, 39.12, 41.75, 56.61, 42.08, 42.05, 43.68, 39.81, 49.87, 36.85, 35.7, 43.61, 40.21, 40.03, 44.53, 36.41, 38.01, 39.58, 56.1, 51.71, 44.57, 45.7, 31.03, 45.71, 39.32, 55.52, 39.44], 'Montana': [21.16, 16.9, 20.06, 17.51, 22.5, 16.05, 22.02, 20.6, 19.44, 20.25, 17.44, 15.67, 14.94, 17.17, 17.39, 16.84, 20.01, 18.24, 17.97, 19.48, 17.45, 21.99, 22.85, 16.81, 20.02, 21.6, 16.88, 21.17], 'Nebraska': [16.71, 21.5, 22.03, 25.59, 31.87, 21.91, 25.19, 25.49, 22.14, 25.93, 22.84, 20.36, 24.48, 15.65, 19.98, 22.93, 23.57, 21.56, 28.64, 28.1, 25.7, 27.07, 25.81, 13.36, 23.44, 24.98, 28.07, 25.31], 'Nevada': [7.55, 9.16, 10.07, 9.72, 10.79, 9.53, 13.75, 12.19, 10.01, 16.91, 7.74, 10.48, 8.93, 6.24, 9.82, 11.35, 13.55, 9.67, 7.59, 7.69, 9.22, 13.06, 8.62, 8.89, 7.46, 9.92, 11.34, 11.15], 'New Hampshire': [45.87, 53.75, 46.41, 38.99, 42.13, 43.76, 43.66, 57.33, 43.12, 47.57, 46.18, 48.77, 34.87, 44.89, 50.38, 43.24, 61.09, 58.25, 48.33, 60.78, 51.67, 50.0, 57.49, 45.18, 45.76, 49.64, 44.01, 39.57], 'New Jersey': [54.54, 48.96, 42.41, 41.7, 44.71, 47.31, 39.7, 59.18, 42.87, 41.75, 47.26, 45.25, 35.55, 45.91, 56.48, 48.7, 48.81, 51.41, 46.93, 47.22, 53.17, 44.6, 63.95, 41.99, 46.38, 48.95, 43.86, 39.59], 'New Mexico': [11.01, 15.96, 19.02, 15.53, 14.1, 14.43, 11.74, 14.13, 18.64, 14.1, 14.95, 13.36, 11.82, 12.29, 9.07, 17.25, 14.34, 15.97, 14.75, 13.74, 11.94, 14.82, 9.8, 8.41, 13.67, 13.2, 19.33, 12.94], 'New York': [42.8, 50.02, 37.07, 42.69, 41.37, 42.11, 37.1, 50.83, 39.01, 41.4, 38.77, 46.24, 34.14, 43.56, 48.02, 45.17, 46.85, 48.89, 44.47, 47.73, 42.37, 43.92, 55.71, 39.56, 43.99, 43.22, 40.64, 38.17], 'North Carolina': [60.57, 48.6, 47.87, 52.61, 46.14, 50.11, 54.35, 56.79, 46.09, 53.83, 52.47, 44.36, 37.81, 47.53, 63.16, 49.15, 47.58, 51.17, 34.75, 45.81, 53.2, 46.27, 45.99, 46.62, 56.45, 50.08, 58.32, 50.61], 'North Dakota': [14.33, 15.07, 19.72, 14.72, 22.95, 20.4, 19.59, 18.52, 16.52, 21.18, 20.44, 21.31, 16.82, 15.83, 16.24, 18.86, 20.98, 14.02, 19.0, 19.76, 18.96, 23.48, 21.44, 15.09, 23.28, 18.61, 17.72, 21.85], 'Ohio': [42.63, 51.07, 31.61, 39.78, 38.63, 35.6, 38.67, 46.85, 38.35, 39.97, 33.07, 40.85, 37.3, 38.6, 46.42, 45.45, 40.11, 43.56, 41.16, 44.11, 36.5, 36.76, 55.95, 37.28, 41.69, 38.56, 43.01, 37.39], 'Oklahoma': [35.39, 43.26, 38.72, 41.44, 39.18, 36.27, 37.81, 37.28, 39.31, 36.18, 37.27, 36.93, 31.98, 35.01, 27.87, 40.19, 27.56, 29.81, 43.57, 38.31, 38.04, 32.04, 26.24, 25.7, 36.7, 28.87, 53.72, 31.19], 'Oregon': [26.97, 29.91, 29.57, 27.55, 31.15, 28.59, 41.42, 48.87, 32.6, 42.91, 31.64, 27.91, 26.84, 26.21, 32.06, 29.69, 33.22, 36.44, 28.99, 28.63, 27.62, 37.91, 30.68, 40.08, 22.72, 35.29, 30.17, 34.68], 'Pennsylvania': [44.28, 49.7, 33.36, 41.61, 45.8, 48.19, 37.51, 56.31, 38.8, 40.41, 41.12, 41.38, 34.36, 43.55, 53.57, 53.9, 42.97, 47.57, 44.12, 45.82, 42.77, 42.31, 61.0, 43.49, 41.82, 42.43, 43.1, 39.0], 'Rhode Island': [55.0, 49.99, 46.72, 48.14, 43.76, 46.0, 40.19, 56.46, 40.88, 56.39, 45.98, 48.84, 43.24, 47.45, 52.96, 47.61, 57.83, 56.7, 44.46, 56.7, 54.02, 53.32, 57.53, 41.13, 43.17, 47.24, 40.88, 41.26], 'South Carolina': [53.95, 46.18, 50.92, 54.79, 44.12, 56.17, 54.41, 45.99, 53.87, 54.12, 44.14, 41.24, 34.72, 46.54, 55.19, 45.85, 47.51, 43.73, 34.9, 45.77, 50.56, 41.19, 38.21, 43.77, 56.39, 47.03, 60.66, 46.25], 'South Dakota': [16.27, 17.31, 21.24, 19.83, 25.43, 18.9, 25.47, 22.91, 21.12, 24.87, 21.61, 19.12, 20.18, 14.3, 17.13, 20.79, 20.7, 15.93, 22.94, 23.68, 22.59, 24.68, 22.13, 14.58, 24.94, 20.19, 22.78, 20.68], 'Tennessee': [65.53, 60.64, 60.41, 49.64, 48.25, 61.91, 52.15, 60.07, 56.51, 57.57, 46.05, 45.02, 54.0, 59.22, 61.76, 61.24, 44.68, 48.87, 37.72, 49.77, 60.28, 49.65, 62.59, 46.89, 63.27, 53.52, 59.16, 47.04], 'Texas': [25.24, 31.44, 37.2, 33.6, 27.37, 29.31, 27.68, 24.6, 34.19, 27.99, 22.05, 27.83, 29.11, 30.65, 24.2, 39.36, 22.2, 25.13, 36.2, 23.8, 28.54, 27.81, 14.7, 24.1, 26.02, 24.01, 41.23, 32.1], 'Utah': [9.04, 12.15, 13.51, 13.0, 15.64, 13.12, 15.55, 14.18, 16.8, 17.4, 12.43, 13.53, 11.69, 9.04, 11.53, 15.27, 16.68, 14.41, 11.28, 11.66, 11.8, 17.23, 14.71, 10.69, 13.21, 13.33, 15.41, 14.04], 'Vermont': [44.92, 54.25, 41.76, 38.56, 41.79, 43.08, 42.19, 52.62, 42.78, 47.53, 42.45, 48.62, 34.36, 47.26, 49.82, 41.85, 52.39, 54.28, 48.83, 54.63, 47.43, 49.21, 58.22, 42.35, 46.56, 46.08, 42.44, 38.62], 'Virginia': [52.51, 45.48, 38.95, 44.03, 44.97, 45.38, 44.31, 55.89, 38.08, 45.94, 42.72, 40.33, 34.88, 42.62, 61.89, 48.94, 39.83, 46.2, 35.19, 40.64, 51.25, 41.74, 48.3, 40.05, 51.37, 43.75, 49.76, 45.41], 'Washington': [36.56, 50.91, 40.48, 37.13, 33.68, 42.51, 51.08, 54.95, 51.07, 48.61, 49.3, 34.21, 39.16, 36.51, 43.47, 37.65, 38.64, 50.26, 40.24, 37.39, 39.9, 47.32, 43.82, 52.87, 35.68, 48.8, 43.25, 49.14], 'West Virginia': [54.16, 49.5, 41.77, 41.19, 44.31, 49.45, 44.06, 59.17, 41.23, 46.11, 38.98, 42.59, 39.86, 48.56, 59.42, 53.07, 41.89, 43.63, 42.85, 46.04, 46.8, 42.43, 55.1, 44.62, 47.59, 42.79, 48.62, 45.36], 'Wisconsin': [24.48, 36.01, 38.47, 31.01, 35.65, 30.89, 32.88, 33.0, 28.43, 32.43, 33.25, 34.19, 35.05, 35.08, 28.02, 34.91, 28.55, 30.08, 33.49, 32.72, 29.76, 39.02, 31.04, 28.8, 36.53, 37.08, 35.88, 39.39], 'Wyoming': [15.02, 15.38, 17.09, 14.98, 18.5, 14.02, 20.28, 17.3, 17.98, 19.57, 15.94, 14.31, 11.91, 11.97, 15.13, 14.56, 16.27, 12.74, 15.05, 16.05, 17.0, 17.25, 18.55, 10.96, 16.32, 18.1, 16.71, 17.28], 'Alaska': [37.52, 39.07, 38.7, 38.54, 39.25, 39.17, 31.29, 31.64, 35.81, 36.54, 40.29, 40.08, 37.5, 40.52, 39.0, 38.74, 40.36, 38.71, 34.09, 37.09, 35.21, 33.85, 38.74, 37.28, 40.81, 36.75, 40.1, 37.07]}\n",
      "<bound method DataFrame.info of                  1989   1990   1991   1992  ...   2013   2014   2015   2016\n",
      "Alabama         65.20  56.87  63.25  59.79  ...  64.70  56.03  61.36  45.01\n",
      "Arizona          7.67  14.08  12.91  18.15  ...  12.13  11.07  14.39  12.28\n",
      "Arkansas        51.35  66.91  61.52  48.26  ...  54.24  47.91  67.31  50.44\n",
      "California      14.95  13.99  19.79  23.23  ...   7.93  19.90  15.04  25.73\n",
      "Colorado        14.74  19.90  18.65  18.53  ...  18.79  19.14  21.73  17.08\n",
      "Connecticut     57.55  55.68  47.77  48.79  ...  43.39  45.01  37.08  36.73\n",
      "Delaware        56.76  43.03  41.84  40.54  ...  50.75  45.00  46.27  45.67\n",
      "Florida         48.70  42.61  62.61  56.18  ...  56.87  59.13  52.86  53.41\n",
      "Georgia         55.32  44.85  57.84  58.74  ...  63.49  51.41  55.74  40.90\n",
      "Idaho           20.96  23.41  22.42  18.96  ...  17.64  26.47  22.52  24.88\n",
      "Illinois        32.39  49.94  36.12  35.81  ...  42.49  41.29  48.80  39.75\n",
      "Indiana         43.42  53.54  36.31  40.34  ...  45.14  43.57  47.51  43.38\n",
      "Iowa            24.69  38.91  37.74  36.21  ...  34.44  38.69  42.53  38.10\n",
      "Kansas          26.44  27.93  23.15  33.79  ...  29.03  25.43  32.78  30.68\n",
      "Kentucky        57.74  55.41  46.03  42.79  ...  55.78  47.11  58.31  49.19\n",
      "Louisiana       64.00  58.77  79.48  66.56  ...  61.43  55.94  67.31  67.08\n",
      "Maine           41.82  51.18  44.24  37.50  ...  45.61  49.45  43.16  41.36\n",
      "Maryland        51.18  46.27  35.79  42.32  ...  46.04  44.76  46.86  41.66\n",
      "Massachusetts   50.38  52.01  48.23  44.79  ...  46.39  50.10  41.39  36.83\n",
      "Michigan        27.57  36.19  35.50  33.36  ...  38.23  36.66  31.74  35.86\n",
      "Minnesota       22.47  26.36  32.20  25.47  ...  29.01  29.12  29.46  33.54\n",
      "Mississippi     65.52  60.97  73.90  56.01  ...  62.93  58.22  60.57  53.13\n",
      "Missouri        33.32  50.45  39.12  41.75  ...  45.71  39.32  55.52  39.44\n",
      "Montana         21.16  16.90  20.06  17.51  ...  20.02  21.60  16.88  21.17\n",
      "Nebraska        16.71  21.50  22.03  25.59  ...  23.44  24.98  28.07  25.31\n",
      "Nevada           7.55   9.16  10.07   9.72  ...   7.46   9.92  11.34  11.15\n",
      "New Hampshire   45.87  53.75  46.41  38.99  ...  45.76  49.64  44.01  39.57\n",
      "New Jersey      54.54  48.96  42.41  41.70  ...  46.38  48.95  43.86  39.59\n",
      "New Mexico      11.01  15.96  19.02  15.53  ...  13.67  13.20  19.33  12.94\n",
      "New York        42.80  50.02  37.07  42.69  ...  43.99  43.22  40.64  38.17\n",
      "North Carolina  60.57  48.60  47.87  52.61  ...  56.45  50.08  58.32  50.61\n",
      "North Dakota    14.33  15.07  19.72  14.72  ...  23.28  18.61  17.72  21.85\n",
      "Ohio            42.63  51.07  31.61  39.78  ...  41.69  38.56  43.01  37.39\n",
      "Oklahoma        35.39  43.26  38.72  41.44  ...  36.70  28.87  53.72  31.19\n",
      "Oregon          26.97  29.91  29.57  27.55  ...  22.72  35.29  30.17  34.68\n",
      "Pennsylvania    44.28  49.70  33.36  41.61  ...  41.82  42.43  43.10  39.00\n",
      "Rhode Island    55.00  49.99  46.72  48.14  ...  43.17  47.24  40.88  41.26\n",
      "South Carolina  53.95  46.18  50.92  54.79  ...  56.39  47.03  60.66  46.25\n",
      "South Dakota    16.27  17.31  21.24  19.83  ...  24.94  20.19  22.78  20.68\n",
      "Tennessee       65.53  60.64  60.41  49.64  ...  63.27  53.52  59.16  47.04\n",
      "Texas           25.24  31.44  37.20  33.60  ...  26.02  24.01  41.23  32.10\n",
      "Utah             9.04  12.15  13.51  13.00  ...  13.21  13.33  15.41  14.04\n",
      "Vermont         44.92  54.25  41.76  38.56  ...  46.56  46.08  42.44  38.62\n",
      "Virginia        52.51  45.48  38.95  44.03  ...  51.37  43.75  49.76  45.41\n",
      "Washington      36.56  50.91  40.48  37.13  ...  35.68  48.80  43.25  49.14\n",
      "West Virginia   54.16  49.50  41.77  41.19  ...  47.59  42.79  48.62  45.36\n",
      "Wisconsin       24.48  36.01  38.47  31.01  ...  36.53  37.08  35.88  39.39\n",
      "Wyoming         15.02  15.38  17.09  14.98  ...  16.32  18.10  16.71  17.28\n",
      "Alaska          37.52  39.07  38.70  38.54  ...  40.81  36.75  40.10  37.07\n",
      "\n",
      "[49 rows x 28 columns]>\n",
      "             1989   1990   1991   1992  ...   2013   2014   2015   2016\n",
      "Alabama     65.20  56.87  63.25  59.79  ...  64.70  56.03  61.36  45.01\n",
      "Arizona      7.67  14.08  12.91  18.15  ...  12.13  11.07  14.39  12.28\n",
      "Arkansas    51.35  66.91  61.52  48.26  ...  54.24  47.91  67.31  50.44\n",
      "California  14.95  13.99  19.79  23.23  ...   7.93  19.90  15.04  25.73\n",
      "Colorado    14.74  19.90  18.65  18.53  ...  18.79  19.14  21.73  17.08\n",
      "\n",
      "[5 rows x 28 columns]\n"
     ]
    }
   ],
   "source": [
    "# Cell 2\n",
    "# Precipitation data of each state in the US from 1986 to 2016\n",
    "from numpy import *\n",
    "import requests\n",
    "import html5lib\n",
    "from bs4 import BeautifulSoup\n",
    "import re\n",
    "import pandas as pd\n",
    "\n",
    "#https://www.ncdc.noaa.gov/cag/statewide/time-series/50/pcp/12/2/1985-2015/data.html?base_prd=true&begbaseyear=1901&endbaseyear=2000\n",
    "#https://www.ncdc.noaa.gov/cag/statewide/time-series/1/pcp/12/12/1989-2016?base_prd=true&begbaseyear=1901&endbaseyear=2000\n",
    "headers={'User-Agent':'Mozilla/5.0 (Windows NT 10.0; Win64; x64) AppleWebKit/537.36 (KHTML, like Gecko) Chrome/80.0.3987.132 Safari/537.36'}\n",
    "\n",
    "# This function is to get data of temperature.\n",
    "def parse_page(url,i):\n",
    "    precipitation=[]\n",
    "    response = requests.get(url, headers=headers)\n",
    "    text = response.content.decode()\n",
    "    soup = BeautifulSoup(text,'lxml')\n",
    "    table = soup.find('table', id='valuesTable')\n",
    "    trs=table.find_all('tr')[1:]\n",
    "    for tr in trs:\n",
    "        tds = tr.find_all('td')\n",
    "        # print(len(tds))\n",
    "        data=tds[1].string.strip('\"')\n",
    "        # Because the data contain Fahrenheit degree symbol. like 61.2°F, I use regualr expression to extract the number.\n",
    "        number_after = re.findall(r'(\\d+\\.\\d+)', data)\n",
    "        precipitation.append(float(number_after[0]))\n",
    "    state_key=list[i]\n",
    "    precipitation_dict[state_key]=precipitation\n",
    "\n",
    "# Because the state name is not on the same page. (The website is quite tricky, it uses another hidden url for the temperature data)\n",
    "# I get the number-state name pairs on the pages and store them for matching state names to numbers. \n",
    "def number_state_match(url):\n",
    "    number_state_dict={}\n",
    "    response = requests.get(url, headers=headers)\n",
    "    text = response.content.decode()\n",
    "    soup = BeautifulSoup(text, 'lxml')\n",
    "    state = soup.find('select', id='state')\n",
    "    numbers=state.find_all('option')\n",
    "    for number in numbers:\n",
    "        id=int(number['value'])\n",
    "        state_name=number.string\n",
    "        number_state_dict[id]=state_name\n",
    "    return number_state_dict\n",
    "if __name__ == '__main__':\n",
    "    base_url = 'https://www.ncdc.noaa.gov/cag/statewide/time-series/{}/pcp/12/12/1989-2016/data.html?base_prd=true&begbaseyear=1901&endbaseyear=2000'\n",
    "    first_url='https://www.ncdc.noaa.gov/cag/statewide/time-series'\n",
    "    list=number_state_match(first_url)\n",
    "    print(list)\n",
    "    precipitation_dict={}\n",
    "    for i in range(1,51):\n",
    "        # Because the data of index 49 is a null, skip it\n",
    "        if i==49:\n",
    "            continue\n",
    "        else:\n",
    "            url=base_url.format(i)\n",
    "            parse_page(url,i)\n",
    "    print(precipitation_dict)\n",
    "    state_precipitation_df = pd.DataFrame.from_dict(precipitation_dict, orient='index', columns=['1989','1990','1991','1992','1993','1994','1995','1996','1997','1998','1999','2000','2001','2002','2003','2004','2005','2006','2007','2008','2009','2010','2011','2012','2013','2014','2015','2016'])\n",
    "    print(state_precipitation_df.info)\n",
    "    print(state_precipitation_df.head())\n",
    "    state_precipitation_df.to_csv('state_precipitation.csv')"
   ]
  },
  {
   "cell_type": "code",
   "execution_count": 8,
   "metadata": {
    "colab": {
     "base_uri": "https://localhost:8080/",
     "height": 890
    },
    "colab_type": "code",
    "id": "klllKghLIeDn",
    "outputId": "f22e1abc-650d-497d-fcb5-2c99f17f2978"
   },
   "outputs": [
    {
     "name": "stdout",
     "output_type": "stream",
     "text": [
      "<bound method DataFrame.info of                 1989  1990  1991  1992  1993  ...  2012  2013  2014  2015  2016\n",
      "Alabama         71.2  72.7  73.5  70.8  72.0  ...  72.9  72.0  72.8  73.8  74.8\n",
      "Arizona         71.5  70.5  69.2  70.6  69.8  ...  72.4  71.0  71.5  71.2  71.6\n",
      "Arkansas        69.9  71.1  72.3  69.5  70.5  ...  73.2  70.9  70.7  72.6  73.3\n",
      "California      66.5  67.1  66.0  68.3  66.0  ...  68.1  67.8  69.2  68.6  68.1\n",
      "Colorado        56.8  57.1  56.4  56.9  55.0  ...  59.4  56.9  57.3  58.1  58.0\n",
      "Connecticut     60.5  61.1  62.5  58.6  61.0  ...  63.1  61.8  61.4  62.6  62.9\n",
      "Delaware        66.1  66.3  67.6  63.8  66.5  ...  68.7  67.2  66.8  68.0  68.2\n",
      "Florida         77.2  77.9  78.2  76.3  76.8  ...  77.8  77.6  77.7  79.1  78.9\n",
      "Georgia         71.7  73.3  73.5  71.0  72.8  ...  73.4  72.1  73.1  74.0  74.9\n",
      "Idaho           54.2  55.1  53.6  55.7  51.8  ...  55.5  55.3  55.6  56.8  55.5\n",
      "Illinois        64.1  64.1  67.5  62.9  64.0  ...  66.9  64.9  64.6  66.2  67.4\n",
      "Indiana         63.1  63.1  66.8  61.8  63.3  ...  65.8  64.4  63.9  65.3  66.5\n",
      "Iowa            62.1  62.2  63.7  59.8  60.2  ...  64.3  61.9  61.6  63.3  64.3\n",
      "Kansas          66.4  67.5  68.7  65.2  65.1  ...  69.8  66.8  67.6  68.8  69.1\n",
      "Kentucky        65.6  66.0  68.9  65.0  66.5  ...  68.1  66.8  67.3  68.0  69.4\n",
      "Louisiana       74.2  75.5  76.0  74.1  74.8  ...  76.3  75.5  75.1  77.2  77.2\n",
      "Maine           54.5  54.9  55.2  53.0  54.0  ...  56.5  55.5  55.5  55.4  55.7\n",
      "Maryland        65.5  65.8  67.6  63.6  66.1  ...  67.8  66.3  66.0  67.3  67.6\n",
      "Massachusetts   59.4  59.9  61.1  57.4  59.7  ...  62.0  60.9  60.4  61.3  61.5\n",
      "Michigan        56.9  56.9  59.4  54.7  56.0  ...  59.5  57.6  56.9  58.7  59.6\n",
      "Minnesota       57.3  56.9  58.2  54.4  54.4  ...  58.9  56.3  56.6  58.7  58.7\n",
      "Mississippi     71.7  73.1  74.1  71.7  72.5  ...  73.7  73.0  73.2  74.9  75.5\n",
      "Missouri        65.9  66.5  68.8  64.9  65.6  ...  69.2  66.4  66.9  68.1  69.4\n",
      "Montana         54.1  54.9  54.2  53.9  51.8  ...  55.9  54.6  54.9  56.2  55.4\n",
      "Nebraska        62.2  62.6  63.3  60.3  59.6  ...  64.9  61.9  62.1  63.4  63.8\n",
      "Nevada          61.1  61.7  59.9  62.9  59.4  ...  63.1  61.7  62.8  62.8  62.3\n",
      "New Hampshire   55.9  56.4  57.1  54.0  55.9  ...  58.2  57.3  56.8  57.4  57.5\n",
      "New Jersey      63.6  64.0  65.5  61.5  64.1  ...  66.3  64.9  64.5  66.1  66.0\n",
      "New Mexico      64.4  63.9  62.7  63.4  63.2  ...  66.4  64.6  64.8  65.1  65.3\n",
      "New York        57.4  57.9  59.6  55.5  57.5  ...  59.9  58.7  58.5  59.3  59.4\n",
      "North Carolina  68.1  69.2  69.9  67.0  69.2  ...  69.5  68.5  69.4  70.3  70.9\n",
      "North Dakota    57.8  57.2  57.7  54.5  53.6  ...  58.2  55.5  56.1  58.5  58.1\n",
      "Ohio            61.7  62.0  65.6  60.7  62.6  ...  64.5  63.5  63.1  64.4  65.5\n",
      "Oklahoma        70.1  71.4  71.9  69.4  70.1  ...  73.9  70.8  71.7  72.5  73.3\n",
      "Oregon          55.5  56.8  55.4  58.2  54.6  ...  56.7  56.7  58.2  58.7  57.2\n",
      "Pennsylvania    59.9  60.3  62.6  58.3  60.5  ...  62.3  61.4  60.8  62.2  62.6\n",
      "Rhode Island    60.7  61.2  62.4  58.9  61.2  ...  63.0  62.3  61.7  62.5  62.8\n",
      "South Carolina  71.4  72.9  73.1  70.5  72.7  ...  72.8  71.6  72.9  73.7  74.6\n",
      "South Dakota    60.7  60.2  60.9  57.7  56.7  ...  62.4  58.8  59.0  61.2  61.7\n",
      "Tennessee       67.0  67.9  69.8  66.4  68.1  ...  69.4  68.0  68.7  69.6  71.3\n",
      "Texas           74.5  74.6  74.5  73.6  74.0  ...  76.8  75.3  75.5  76.1  76.2\n",
      "Utah            60.8  61.2  59.2  61.5  58.3  ...  62.4  60.5  61.3  61.7  61.6\n",
      "Vermont         55.5  55.6  56.6  53.2  55.0  ...  57.7  56.6  56.2  56.8  56.7\n",
      "Virginia        65.3  65.8  67.4  63.9  66.3  ...  67.0  66.0  66.2  67.3  67.8\n",
      "Washington      55.9  56.6  55.4  57.2  55.5  ...  55.8  56.6  58.0  58.7  57.1\n",
      "West Virginia   61.9  62.5  65.0  61.1  63.1  ...  64.0  63.3  63.2  64.5  65.4\n",
      "Wisconsin       57.2  57.4  59.0  55.1  55.5  ...  59.5  57.3  56.9  59.0  59.6\n",
      "Wyoming         53.8  54.0  53.3  54.1  50.8  ...  56.2  53.8  54.0  55.4  55.1\n",
      "Alaska          41.7  42.1  41.4  37.7  42.9  ...  40.4  40.8  41.5  42.8  44.3\n",
      "\n",
      "[49 rows x 28 columns]>\n"
     ]
    }
   ],
   "source": [
    "# Cell 3\n",
    "import requests\n",
    "import html5lib\n",
    "from bs4 import BeautifulSoup\n",
    "import re\n",
    "import pandas as pd\n",
    "\n",
    "#https://www.ncdc.noaa.gov/cag/statewide/time-series/50/pcp/12/2/1985-2015/data.html?base_prd=true&begbaseyear=1901&endbaseyear=2000\n",
    "#https://www.ncdc.noaa.gov/cag/statewide/time-series/1/pcp/12/12/1989-2016?base_prd=true&begbaseyear=1901&endbaseyear=2000\n",
    "url='https://www.ncdc.noaa.gov/cag/statewide/time-series/1/pcp/12/12/1989-2016/data.html?base_prd=true&begbaseyear=1901&endbaseyear=2000'\n",
    "headers={'User-Agent':'Mozilla/5.0 (Windows NT 10.0; Win64; x64) AppleWebKit/537.36 (KHTML, like Gecko) Chrome/80.0.3987.132 Safari/537.36'}\n",
    "\n",
    "def parse_page(url,i):\n",
    "    precipitation=[]\n",
    "    response = requests.get(url, headers=headers)\n",
    "    text = response.content.decode()\n",
    "    soup = BeautifulSoup(text,'lxml')\n",
    "    table = soup.find('table', id='valuesTable')\n",
    "    trs=table.find_all('tr')[1:]\n",
    "    for tr in trs:\n",
    "        tds = tr.find_all('td')\n",
    "        # print(len(tds))\n",
    "        data=tds[1].string.strip('\"')\n",
    "        # print(data)\n",
    "        number_after = re.findall(r'(\\d+\\.\\d+)', data)\n",
    "        precipitation.append(float(number_after[0]))\n",
    "    state_key=list[i]\n",
    "    precipitation_dict[state_key]=precipitation\n",
    "    # print(i)\n",
    "def number_state_match(url):\n",
    "    number_state_dict={}\n",
    "    response = requests.get(url, headers=headers)\n",
    "    text = response.content.decode()\n",
    "    soup = BeautifulSoup(text, 'lxml')\n",
    "    state = soup.find('select', id='state')\n",
    "    numbers=state.find_all('option')\n",
    "    for number in numbers:\n",
    "        id=int(number['value'])\n",
    "        state_name=number.string\n",
    "        number_state_dict[id]=state_name\n",
    "    return number_state_dict\n",
    "if __name__ == '__main__':\n",
    "    base_url = 'https://www.ncdc.noaa.gov/cag/statewide/time-series/{}/tavg/7/10/1989-2016/data.html?base_prd=true&begbaseyear=1925&endbaseyear=2000'\n",
    "    first_url='https://www.ncdc.noaa.gov/cag/statewide/time-series'\n",
    "    list=number_state_match(first_url)\n",
    "    # print(list)\n",
    "    precipitation_dict={}\n",
    "    for i in range(1,51):\n",
    "        if i==49:\n",
    "            continue\n",
    "        else:\n",
    "            url=base_url.format(i)\n",
    "            parse_page(url,i)\n",
    "    # print(precipitation_dict)\n",
    "    state_precipitation_df = pd.DataFrame.from_dict(precipitation_dict, orient='index', columns=['1989','1990','1991','1992','1993','1994','1995','1996','1997','1998','1999','2000','2001','2002','2003','2004','2005','2006','2007','2008','2009','2010','2011','2012','2013','2014','2015','2016'])\n",
    "    print(state_precipitation_df.info)\n",
    "    # print(state_precipitation_df.head())\n",
    "    state_precipitation_df.to_csv('April-October.csv')"
   ]
  },
  {
   "cell_type": "markdown",
   "metadata": {
    "colab_type": "text",
    "id": "wgutdRKYIeDq"
   },
   "source": [
    "After the data have been stored in three separate csv files. I use merge function provided by pandas package to conflate these supplementary datasets with the wine dataset."
   ]
  },
  {
   "cell_type": "code",
   "execution_count": 0,
   "metadata": {
    "colab": {},
    "colab_type": "code",
    "id": "sLUXs9QYIeDr"
   },
   "outputs": [],
   "source": [
    "# Read in supplementary datasets\n",
    "data_temperature = pd.read_csv(r'state_temperature.csv',index_col=0)\n",
    "data_precipitation = pd.read_csv(r'state_precipitation.csv',index_col=0)\n",
    "data_heat_summation = pd.read_csv(r'April-October.csv',index_col=0)\n",
    "\n",
    "# Convert the column name into a new column\n",
    "data_1 = data_temperature.stack()\n",
    "data_2 = data_precipitation.stack()\n",
    "data_3 = data_heat_summation.stack()\n",
    "\n",
    "# Create new DataFrames\n",
    "data_temp = data_1.reset_index()\n",
    "data_rainfall = data_2.reset_index()\n",
    "data_summation = data_3.reset_index()\n",
    "\n",
    "# Assign new column names\n",
    "data_temp.columns=['state','Production_year','temperature']\n",
    "data_rainfall.columns=['state','Production_year','rainfall']\n",
    "data_summation.columns = ['state','Production_year','heat_summation']\n",
    "data_summation['heat_summation'] = (data_summation['heat_summation']-50)*210"
   ]
  },
  {
   "cell_type": "code",
   "execution_count": 0,
   "metadata": {
    "colab": {},
    "colab_type": "code",
    "id": "O8ckEFboIeDt"
   },
   "outputs": [],
   "source": [
    "# Left join original dataset with the supplementary datasets in sequence on two common columns, state and production_year\n",
    "data_plus_temperature = pd.merge(data,data_temp,on=['state','Production_year'],how='left')\n",
    "data_plus_temperature_preciptation = pd.merge(data_plus_temperature,data_rainfall,on=['state','Production_year'],how='left')\n",
    "data_plus_temperature_preciptation_summation = pd.merge(data_plus_temperature_preciptation,data_summation,on=['state','Production_year'],how='left')\n",
    "data = data_plus_temperature_preciptation_summation\n",
    "# print(data.isnull().sum())"
   ]
  },
  {
   "cell_type": "markdown",
   "metadata": {
    "colab_type": "text",
    "id": "t0wx1AU0IeDv"
   },
   "source": [
    "   ## Handle Missing Values"
   ]
  },
  {
   "cell_type": "code",
   "execution_count": 65,
   "metadata": {
    "colab": {
     "base_uri": "https://localhost:8080/",
     "height": 235
    },
    "colab_type": "code",
    "id": "4P1RF3STIeDw",
    "outputId": "8a740479-d2be-4185-f241-30bd788a8be1"
   },
   "outputs": [
    {
     "name": "stdout",
     "output_type": "stream",
     "text": [
      "title                 0\n",
      "score                 0\n",
      "price              2959\n",
      "state                 0\n",
      "region_1            278\n",
      "region_2           3993\n",
      "variety            2240\n",
      "winery              306\n",
      "Production_year     919\n",
      "temperature         984\n",
      "rainfall            984\n",
      "heat_summation      984\n",
      "dtype: int64\n"
     ]
    }
   ],
   "source": [
    "print(data.isnull().sum())"
   ]
  },
  {
   "cell_type": "markdown",
   "metadata": {
    "colab_type": "text",
    "id": "LXLd_v4mIeDz"
   },
   "source": [
    "There are two states, America and Washington-Oregon that do not really exist. Therefore, I drop all observations with these two states."
   ]
  },
  {
   "cell_type": "code",
   "execution_count": 66,
   "metadata": {
    "colab": {
     "base_uri": "https://localhost:8080/",
     "height": 319
    },
    "colab_type": "code",
    "id": "pNlsyDg-IeD0",
    "outputId": "9bc3322a-bf7d-4d7e-8ac2-5f3b2c3304cc"
   },
   "outputs": [
    {
     "name": "stdout",
     "output_type": "stream",
     "text": [
      "<class 'pandas.core.frame.DataFrame'>\n",
      "Int64Index: 54401 entries, 0 to 54502\n",
      "Data columns (total 12 columns):\n",
      "title              54401 non-null object\n",
      "score              54401 non-null int64\n",
      "price              51445 non-null float64\n",
      "state              54401 non-null object\n",
      "region_1           54225 non-null object\n",
      "region_2           50510 non-null object\n",
      "variety            52167 non-null object\n",
      "winery             54095 non-null object\n",
      "Production_year    53522 non-null object\n",
      "temperature        53519 non-null float64\n",
      "rainfall           53519 non-null float64\n",
      "heat_summation     53519 non-null float64\n",
      "dtypes: float64(4), int64(1), object(7)\n",
      "memory usage: 5.4+ MB\n",
      "None\n"
     ]
    }
   ],
   "source": [
    "data = data.drop(data.loc[(data['state'] == 'America') | (data['state'] == 'Washington-Oregon')].index)\n",
    "# print(data.isnull().sum())\n",
    "print(data.info())"
   ]
  },
  {
   "cell_type": "markdown",
   "metadata": {
    "colab_type": "text",
    "id": "pLOKucedIeD3"
   },
   "source": [
    "Let's move onto the missing value handling part.\n",
    "\n",
    "Firstly, through observation, I find out that title columns actually contains information of all missing values in the both variety and winery columns. Therefore, I leverage regular expression to extract these information.  "
   ]
  },
  {
   "cell_type": "code",
   "execution_count": 67,
   "metadata": {
    "colab": {
     "base_uri": "https://localhost:8080/",
     "height": 319
    },
    "colab_type": "code",
    "id": "QNYiFZKQIeD3",
    "outputId": "c02e14a3-c072-4858-cb01-65d9e2fe81bb"
   },
   "outputs": [
    {
     "name": "stdout",
     "output_type": "stream",
     "text": [
      "<class 'pandas.core.frame.DataFrame'>\n",
      "Int64Index: 54401 entries, 0 to 54502\n",
      "Data columns (total 12 columns):\n",
      "title              54401 non-null object\n",
      "score              54401 non-null int64\n",
      "price              51445 non-null float64\n",
      "state              54401 non-null object\n",
      "region_1           54225 non-null object\n",
      "region_2           50510 non-null object\n",
      "variety            54401 non-null object\n",
      "winery             54095 non-null object\n",
      "Production_year    53522 non-null object\n",
      "temperature        53519 non-null float64\n",
      "rainfall           53519 non-null float64\n",
      "heat_summation     53519 non-null float64\n",
      "dtypes: float64(4), int64(1), object(7)\n",
      "memory usage: 5.4+ MB\n",
      "None\n"
     ]
    }
   ],
   "source": [
    "data['title'] = data['title'].str.replace(':Nota Bene','')\n",
    "# Variety\n",
    "# Extract the last word before the bracket or the last word of the title\n",
    "data['variety_match_with_bracket'] = data.loc[data['title'].str.contains(r'[(]')]['title'].str.extract(r'(\\w+)\\s+[(]')\n",
    "data['variety_match_without_bracket'] = data.loc[data['title'].str.contains('[(]') == False]['title'].str.extract(r'.+\\s(\\w+)')\n",
    "\n",
    "# Fill the missing values with extracted words\n",
    "data.loc[data['variety'].isnull(),'variety']=data[data['variety'].isnull()]['variety_match_with_bracket']\n",
    "data.loc[data['variety'].isnull(),'variety']=data[data['variety'].isnull()]['variety_match_without_bracket']\n",
    "\n",
    "# But some variety names have two words\n",
    "# Match xxxx Blanc\n",
    "data['Blanc']=data.loc[data['variety']=='Blanc']['title'].str.extract('(\\w+\\s[B][l][a][n][c])')\n",
    "data.loc[data['variety']=='Blanc','variety'] = data[data['variety']=='Blanc']['Blanc']\n",
    "\n",
    "# Match Pinot Noir and Cabernet Sauvignon\n",
    "data.loc[(data['variety']=='Noir'),'variety' ] = 'Pinot Noir'\n",
    "data.loc[(data['variety']=='Sauvignon'),'variety' ] = 'Cabernet Sauvignon'\n",
    "data = data.drop(['variety_match_with_bracket','variety_match_without_bracket','Blanc'],axis = 1)\n",
    "\n",
    "# Match G-S-M\n",
    "data.loc[(data['variety']=='M')|(data['variety']=='G'),'variety' ] = 'G-S-M'\n",
    "print(data.info())"
   ]
  },
  {
   "cell_type": "markdown",
   "metadata": {
    "colab_type": "text",
    "id": "BgDmjLIfIeD6"
   },
   "source": [
    "Because of the existence of ':Nota Bene', I use the most frequently appeared winery in Washington to replace ':Nota Bene'."
   ]
  },
  {
   "cell_type": "code",
   "execution_count": 68,
   "metadata": {
    "colab": {
     "base_uri": "https://localhost:8080/",
     "height": 319
    },
    "colab_type": "code",
    "id": "TGcuwoDqIeD6",
    "outputId": "26a69477-664e-4cb4-d0bf-f6b74a4d0ddb"
   },
   "outputs": [
    {
     "name": "stdout",
     "output_type": "stream",
     "text": [
      "<class 'pandas.core.frame.DataFrame'>\n",
      "Int64Index: 54401 entries, 0 to 54502\n",
      "Data columns (total 12 columns):\n",
      "title              54401 non-null object\n",
      "score              54401 non-null int64\n",
      "price              51445 non-null float64\n",
      "state              54401 non-null object\n",
      "region_1           54225 non-null object\n",
      "region_2           50510 non-null object\n",
      "variety            54401 non-null object\n",
      "winery             54401 non-null object\n",
      "Production_year    53522 non-null object\n",
      "temperature        53519 non-null float64\n",
      "rainfall           53519 non-null float64\n",
      "heat_summation     53519 non-null float64\n",
      "dtypes: float64(4), int64(1), object(7)\n",
      "memory usage: 5.4+ MB\n",
      "None\n"
     ]
    }
   ],
   "source": [
    "# Winery\n",
    "# The words right before the production dates are the names of wineries\n",
    "data['winery_match']=data['title'].str.extract('(.+)\\s[12N]')\n",
    "data.loc[data['winery'].isnull(),'winery']=data[data['winery'].isnull()]['winery_match']\n",
    "data = data.drop('winery_match',axis=1)\n",
    "# print(data.isnull().sum())\n",
    "\n",
    "#Deal with :Nota Bene\n",
    "data['winery'] = data['winery'].str.replace(':Nota Bene','NA')\n",
    "\n",
    "# Because all 'NA' belongs to Washington, I use the most frequently appeared winery in Washington to replace these incorrect records\n",
    "# Find the name of the most frequently appeared winery\n",
    "data1=data.loc[data['state']=='Washington']\n",
    "washington_winery = data1['winery'].value_counts().sort_values(ascending=False)\n",
    "dict_washington = {'winery':washington_winery.index,'counts':washington_winery.values}\n",
    "df_washington = pd.DataFrame(dict_washington)\n",
    "Most_popular_winery=df_washington.loc[0,'winery']\n",
    "\n",
    "# Replace 'NA'\n",
    "data.loc[data['winery']=='NA','winery'] = Most_popular_winery\n",
    "print(data.info())"
   ]
  },
  {
   "cell_type": "markdown",
   "metadata": {
    "colab_type": "text",
    "id": "egaq9jCdIeD9"
   },
   "source": [
    "Those are all I can do with the information of the title column, and the rest of missing values need to leverage other   methods to fill.\n",
    "  \n",
    "  (1)If missing values belong to a continuous variable: utlising mean, mode or median to fill them based on the distribution\n",
    "    \n",
    "  (2)If missing values belong to a categorical variable, the thing becomes complicated: \n",
    "  \n",
    "   There are two methods:\n",
    "   \n",
    "   a.fill the missing values with NAN (generate a new group called NAN for the missing values)\n",
    "\n",
    "   b.fill the missing values based on the relevant columns to make reasonable predictions"
   ]
  },
  {
   "cell_type": "markdown",
   "metadata": {
    "colab_type": "text",
    "id": "slL_z0OMIeD9"
   },
   "source": [
    "As for price, I use the average price of each state to fill the missing values "
   ]
  },
  {
   "cell_type": "code",
   "execution_count": 69,
   "metadata": {
    "colab": {
     "base_uri": "https://localhost:8080/",
     "height": 759
    },
    "colab_type": "code",
    "id": "oFMEg0bWIeD-",
    "outputId": "02c5aa92-1ee9-41d0-8409-2e720860700a"
   },
   "outputs": [
    {
     "data": {
      "image/png": "[encoded data removed]",
      "text/plain": [
       "<Figure size 432x288 with 1 Axes>"
      ]
     },
     "metadata": {
      "tags": []
     },
     "output_type": "display_data"
    },
    {
     "name": "stdout",
     "output_type": "stream",
     "text": [
      "title                 0\n",
      "score                 0\n",
      "price                 0\n",
      "state                 0\n",
      "region_1            176\n",
      "region_2           3885\n",
      "variety               0\n",
      "winery                0\n",
      "Production_year     873\n",
      "temperature         873\n",
      "rainfall            873\n",
      "heat_summation      873\n",
      "dtype: int64\n"
     ]
    },
    {
     "data": {
      "image/png": "[encoded data removed]",
      "text/plain": [
       "<Figure size 432x288 with 1 Axes>"
      ]
     },
     "metadata": {
      "tags": []
     },
     "output_type": "display_data"
    }
   ],
   "source": [
    "# price\n",
    "#The original distribution is a positive distribution\n",
    "sns.distplot(data['price'])\n",
    "plt.show()\n",
    "\n",
    "# Calculate the average price of each state\n",
    "state_mean = data.groupby('state')['price'].mean()\n",
    "state_mean_dict=state_mean.to_dict()\n",
    "\n",
    "# Match the average price to each state by using map function and generate a new temporary column 'mean'\n",
    "data['mean'] = data.loc[data['price'].isnull()==True]['state'].map(state_mean_dict)\n",
    "\n",
    "# Fill the missing value with the corresponding values in the mean column\n",
    "data.loc[data['price'].isnull(),'price'] = data[data['price'].isnull()]['mean']\n",
    "data = data.drop('mean',axis=1)\n",
    "\n",
    "\n",
    "# filter out the outliers\n",
    "# The z score of two-tail 99% confidence level is 2.58\n",
    "top = data['price'].mean()+2.58*data['price'].std()\n",
    "bot = data['price'].mean()-2.58*data['price'].std()\n",
    "\n",
    "# There are 979 outliers in total\n",
    "# Drop these outliers\n",
    "data = data.drop(data[data['price']>top].index)\n",
    "data = data.drop(data[data['price']<bot].index)\n",
    "data.reset_index()\n",
    "print(data.isnull().sum())\n",
    "sns.distplot(data['price'])\n",
    "plt.show()"
   ]
  },
  {
   "cell_type": "markdown",
   "metadata": {
    "colab_type": "text",
    "id": "FU1Uf13IIeEA"
   },
   "source": [
    "Regarding temperature and preciptation, I use the average temperature and preciptation of a state to fill other missing values in the same state. However, Hawaii and Illinois have neither climate information nor production year data, so I drop these 7 observation dirctly."
   ]
  },
  {
   "cell_type": "code",
   "execution_count": 0,
   "metadata": {
    "colab": {},
    "colab_type": "code",
    "id": "FOpbEsBTIeEB"
   },
   "outputs": [],
   "source": [
    "data = data.drop(data.loc[(data['state'] == 'Hawaii')|(data['state'] == 'Illinois')].index)\n",
    "# print(data.isnull().sum())\n",
    "# print(data.info())"
   ]
  },
  {
   "cell_type": "code",
   "execution_count": 71,
   "metadata": {
    "colab": {
     "base_uri": "https://localhost:8080/",
     "height": 319
    },
    "colab_type": "code",
    "id": "UZhMB6lLIeED",
    "outputId": "33ed8edc-d859-4fc7-d008-1a4e1df5e7a6"
   },
   "outputs": [
    {
     "name": "stdout",
     "output_type": "stream",
     "text": [
      "<class 'pandas.core.frame.DataFrame'>\n",
      "Int64Index: 53415 entries, 0 to 54502\n",
      "Data columns (total 12 columns):\n",
      "title              53415 non-null object\n",
      "score              53415 non-null int64\n",
      "price              53415 non-null float64\n",
      "state              53415 non-null object\n",
      "region_1           53239 non-null object\n",
      "region_2           49537 non-null object\n",
      "variety            53415 non-null object\n",
      "winery             53415 non-null object\n",
      "Production_year    52549 non-null object\n",
      "temperature        53415 non-null float64\n",
      "rainfall           52549 non-null float64\n",
      "heat_summation     52549 non-null float64\n",
      "dtypes: float64(4), int64(1), object(7)\n",
      "memory usage: 5.3+ MB\n",
      "None\n"
     ]
    }
   ],
   "source": [
    "# The method for temperature column is the same as that for price column\n",
    "state_mean = data.groupby('state')['temperature'].mean()\n",
    "state_mean_dict=state_mean.to_dict()\n",
    "data['mean_temperature'] = data.loc[data['temperature'].isnull()==True]['state'].map(state_mean_dict)\n",
    "\n",
    "data.loc[data['temperature'].isnull(),'temperature'] = data[data['temperature'].isnull()]['mean_temperature']\n",
    "data = data.drop('mean_temperature',axis=1)\n",
    "print(data.info())"
   ]
  },
  {
   "cell_type": "code",
   "execution_count": 72,
   "metadata": {
    "colab": {
     "base_uri": "https://localhost:8080/",
     "height": 319
    },
    "colab_type": "code",
    "id": "viLu7n-vIeEG",
    "outputId": "e526f3c9-e83d-4033-960b-69e4a3d7b4bd"
   },
   "outputs": [
    {
     "name": "stdout",
     "output_type": "stream",
     "text": [
      "<class 'pandas.core.frame.DataFrame'>\n",
      "Int64Index: 53415 entries, 0 to 54502\n",
      "Data columns (total 12 columns):\n",
      "title              53415 non-null object\n",
      "score              53415 non-null int64\n",
      "price              53415 non-null float64\n",
      "state              53415 non-null object\n",
      "region_1           53239 non-null object\n",
      "region_2           49537 non-null object\n",
      "variety            53415 non-null object\n",
      "winery             53415 non-null object\n",
      "Production_year    52549 non-null object\n",
      "temperature        53415 non-null float64\n",
      "rainfall           53415 non-null float64\n",
      "heat_summation     52549 non-null float64\n",
      "dtypes: float64(4), int64(1), object(7)\n",
      "memory usage: 5.3+ MB\n",
      "None\n"
     ]
    }
   ],
   "source": [
    "# The method for rainfall column is the same as that for price column\n",
    "state_mean = data.groupby('state')['rainfall'].mean()\n",
    "state_mean_dict=state_mean.to_dict()\n",
    "data['mean_rainfall'] = data.loc[data['rainfall'].isnull()==True]['state'].map(state_mean_dict)\n",
    "\n",
    "# print(data.info())\n",
    "data.loc[data['rainfall'].isnull(),'rainfall'] = data[data['rainfall'].isnull()]['mean_rainfall']\n",
    "data = data.drop('mean_rainfall',axis=1)\n",
    "# print(data.isnull().sum())\n",
    "print(data.info())"
   ]
  },
  {
   "cell_type": "code",
   "execution_count": 73,
   "metadata": {
    "colab": {
     "base_uri": "https://localhost:8080/",
     "height": 319
    },
    "colab_type": "code",
    "id": "_sdkJz50IeEI",
    "outputId": "07c85479-4bde-4e7d-8679-b85eced2f4ac"
   },
   "outputs": [
    {
     "name": "stdout",
     "output_type": "stream",
     "text": [
      "<class 'pandas.core.frame.DataFrame'>\n",
      "Int64Index: 53415 entries, 0 to 54502\n",
      "Data columns (total 12 columns):\n",
      "title              53415 non-null object\n",
      "score              53415 non-null int64\n",
      "price              53415 non-null float64\n",
      "state              53415 non-null object\n",
      "region_1           53239 non-null object\n",
      "region_2           49537 non-null object\n",
      "variety            53415 non-null object\n",
      "winery             53415 non-null object\n",
      "Production_year    52549 non-null object\n",
      "temperature        53415 non-null float64\n",
      "rainfall           53415 non-null float64\n",
      "heat_summation     53415 non-null float64\n",
      "dtypes: float64(4), int64(1), object(7)\n",
      "memory usage: 5.3+ MB\n",
      "None\n"
     ]
    }
   ],
   "source": [
    "# The method for heat_summation column is the same as that for price column\n",
    "state_mean = data.groupby('state')['heat_summation'].mean()\n",
    "state_mean_dict=state_mean.to_dict()\n",
    "data['mean_heat_summation'] = data.loc[data['heat_summation'].isnull()==True]['state'].map(state_mean_dict)\n",
    "\n",
    "data.loc[data['heat_summation'].isnull(),'heat_summation'] = data[data['heat_summation'].isnull()]['mean_heat_summation']\n",
    "data = data.drop('mean_heat_summation',axis=1)\n",
    "print(data.info())"
   ]
  },
  {
   "cell_type": "markdown",
   "metadata": {
    "colab_type": "text",
    "id": "BJK7VXufIeEK"
   },
   "source": [
    "As for Production_year, it is a kind of categorical data. Therefore, I use the mode (2013) to fill it."
   ]
  },
  {
   "cell_type": "code",
   "execution_count": 74,
   "metadata": {
    "colab": {
     "base_uri": "https://localhost:8080/",
     "height": 846
    },
    "colab_type": "code",
    "id": "SeuTaU3dIeEK",
    "outputId": "455e4102-8051-4323-cec3-22a4690bba03"
   },
   "outputs": [
    {
     "data": {
      "image/png": "[encoded data removed]",
      "text/plain": [
       "<Figure size 432x288 with 1 Axes>"
      ]
     },
     "metadata": {
      "tags": []
     },
     "output_type": "display_data"
    },
    {
     "data": {
      "image/png": "[encoded data removed]",
      "text/plain": [
       "<Figure size 432x288 with 1 Axes>"
      ]
     },
     "metadata": {
      "tags": []
     },
     "output_type": "display_data"
    },
    {
     "name": "stdout",
     "output_type": "stream",
     "text": [
      "<class 'pandas.core.frame.DataFrame'>\n",
      "Int64Index: 53415 entries, 0 to 54502\n",
      "Data columns (total 12 columns):\n",
      "title              53415 non-null object\n",
      "score              53415 non-null int64\n",
      "price              53415 non-null float64\n",
      "state              53415 non-null object\n",
      "region_1           53239 non-null object\n",
      "region_2           49537 non-null object\n",
      "variety            53415 non-null object\n",
      "winery             53415 non-null object\n",
      "Production_year    53415 non-null object\n",
      "temperature        53415 non-null float64\n",
      "rainfall           53415 non-null float64\n",
      "heat_summation     53415 non-null float64\n",
      "dtypes: float64(4), int64(1), object(7)\n",
      "memory usage: 5.3+ MB\n",
      "None\n"
     ]
    }
   ],
   "source": [
    "# Production_year\n",
    "# Convert string type data into numeric in order to get a more clear graph\n",
    "data['Production_year'] = pd.to_numeric(data['Production_year'])\n",
    "sns.distplot(data['Production_year'])\n",
    "plt.show()\n",
    "data['Production_year'] = data['Production_year'].fillna(2013)\n",
    "sns.distplot(data['Production_year'])\n",
    "plt.show()\n",
    "data['Production_year']=data['Production_year'].astype(str)\n",
    "print(data.info())"
   ]
  },
  {
   "cell_type": "markdown",
   "metadata": {
    "colab_type": "text",
    "id": "HpvoznbPIeEM"
   },
   "source": [
    "As for region_1 and region_2, in some previous projects on Kaggle.com, many analysts believe these two columns are too specific for high level strategic analysis. But I believe this could have certain influence on the final scores. Based on the common sense, the region_1 is highly relevant to the state and the region_2 is highly relevant to the region_1. Therefore I used the mode of the regions under the same state to fill the missing values of region_1."
   ]
  },
  {
   "cell_type": "code",
   "execution_count": 75,
   "metadata": {
    "colab": {
     "base_uri": "https://localhost:8080/",
     "height": 319
    },
    "colab_type": "code",
    "id": "GXMez4LoIeEN",
    "outputId": "7c3118c5-f938-408f-a983-0479e1798bc0"
   },
   "outputs": [
    {
     "name": "stdout",
     "output_type": "stream",
     "text": [
      "<class 'pandas.core.frame.DataFrame'>\n",
      "Int64Index: 53415 entries, 0 to 54502\n",
      "Data columns (total 12 columns):\n",
      "title              53415 non-null object\n",
      "score              53415 non-null int64\n",
      "price              53415 non-null float64\n",
      "state              53415 non-null object\n",
      "region_1           53415 non-null object\n",
      "region_2           49537 non-null object\n",
      "variety            53415 non-null object\n",
      "winery             53415 non-null object\n",
      "Production_year    53415 non-null object\n",
      "temperature        53415 non-null float64\n",
      "rainfall           53415 non-null float64\n",
      "heat_summation     53415 non-null float64\n",
      "dtypes: float64(4), int64(1), object(7)\n",
      "memory usage: 5.3+ MB\n",
      "None\n"
     ]
    }
   ],
   "source": [
    "state1 = data['state'].unique()\n",
    "for i in state1:\n",
    "    # Find the most frequently appeared region_1\n",
    "    data_region_1_sorted = data.loc[data['state'] == i].groupby('region_1')['title'].count().sort_values(ascending = False)\n",
    "    # print(data_region_1_sorted)\n",
    "    region_1_max = data_region_1_sorted.index[0]\n",
    "    # region_1_max = list(data_region_1_sorted.head(1).index)\n",
    "    # print(region_1_max)\n",
    "    \n",
    "    # Fill the missing values with the most frequently appeared region_1 in the same state\n",
    "    data.loc[(data['state'] == i) & (data['region_1'].isnull()),'region_1'] = region_1_max\n",
    "print(data.info())"
   ]
  },
  {
   "cell_type": "markdown",
   "metadata": {
    "colab_type": "text",
    "id": "Iditu5p9IeEP"
   },
   "source": [
    "Regarding region_2, I used the similar method to fill the missing values of region_2."
   ]
  },
  {
   "cell_type": "code",
   "execution_count": 76,
   "metadata": {
    "colab": {
     "base_uri": "https://localhost:8080/",
     "height": 235
    },
    "colab_type": "code",
    "id": "4rQjRjx0IeEQ",
    "outputId": "035dcd4e-5b38-41f7-de9a-eabf40d2b344",
    "scrolled": true
   },
   "outputs": [
    {
     "name": "stdout",
     "output_type": "stream",
     "text": [
      "title              0\n",
      "score              0\n",
      "price              0\n",
      "state              0\n",
      "region_1           0\n",
      "region_2           0\n",
      "variety            0\n",
      "winery             0\n",
      "Production_year    0\n",
      "temperature        0\n",
      "rainfall           0\n",
      "heat_summation     0\n",
      "dtype: int64\n"
     ]
    }
   ],
   "source": [
    "state2 = data['region_1'].unique()\n",
    "for i in state2:\n",
    "    # Find the most frequently appeared region_2\n",
    "    data_region_2_sorted = data.loc[data['region_1'] == i].groupby('region_2')['title'].count().sort_values(ascending = False)\n",
    "    data_region_2_sorted = data_region_2_sorted.reset_index()\n",
    "    data_region_2_sorted = data_region_2_sorted[['region_2']]\n",
    "    # some region_1 doesn't have any record of region_2, so if region_2 is empty, use region_1 to fill region_2.\n",
    "    if data_region_2_sorted.empty == True:\n",
    "      data.loc[(data['region_1'] == i) & (data['region_2'].isnull()),'region_2'] = i\n",
    "    else:\n",
    "      region_2_max = data_region_2_sorted.loc[0,'region_2']\n",
    "      data.loc[(data['region_1'] == i) & (data['region_2'].isnull()),'region_2'] = region_2_max\n",
    "print(data.isnull().sum())"
   ]
  },
  {
   "cell_type": "markdown",
   "metadata": {
    "colab_type": "text",
    "id": "dF-_ra9LIeES"
   },
   "source": [
    "So for all missing values have been filled. Then let's move onto the Categorise Data stage"
   ]
  },
  {
   "cell_type": "markdown",
   "metadata": {
    "colab_type": "text",
    "id": "_rX8Gd0WIeET"
   },
   "source": [
    "   ## Categorise Data"
   ]
  },
  {
   "cell_type": "markdown",
   "metadata": {
    "colab_type": "text",
    "id": "fskjJJzOIeEU"
   },
   "source": [
    "According to the https://www.winespectator.com/articles/scoring-scale, the scores of wine above 80 are usually categorised into 4 groups. They are:\n",
    "    \n",
    "  95-100: Classic\n",
    "  \n",
    "  90-94: Outstanding\n",
    "  \n",
    "  85-89: Very good\n",
    " \n",
    "  80-84: Good\n",
    "  \n",
    "  So, the categories of wine in this case are in line with the above scale."
   ]
  },
  {
   "cell_type": "code",
   "execution_count": 77,
   "metadata": {
    "colab": {
     "base_uri": "https://localhost:8080/",
     "height": 521
    },
    "colab_type": "code",
    "id": "qk8drdkGIeEU",
    "outputId": "8511d4d9-7aa8-4d94-c358-8086091a82e9"
   },
   "outputs": [
    {
     "name": "stdout",
     "output_type": "stream",
     "text": [
      "  Group\n",
      "0     1\n",
      "1     1\n",
      "2     2\n",
      "3     1\n",
      "4     1\n",
      "5     1\n",
      "6     2\n",
      "7     1\n",
      "8     1\n",
      "9     2\n",
      "<class 'pandas.core.frame.DataFrame'>\n",
      "Int64Index: 53415 entries, 0 to 54502\n",
      "Data columns (total 13 columns):\n",
      "title              53415 non-null object\n",
      "score              53415 non-null int64\n",
      "price              53415 non-null float64\n",
      "state              53415 non-null object\n",
      "region_1           53415 non-null object\n",
      "region_2           53415 non-null object\n",
      "variety            53415 non-null object\n",
      "winery             53415 non-null object\n",
      "Production_year    53415 non-null object\n",
      "temperature        53415 non-null float64\n",
      "rainfall           53415 non-null float64\n",
      "heat_summation     53415 non-null float64\n",
      "Group              53415 non-null category\n",
      "dtypes: category(1), float64(4), int64(1), object(7)\n",
      "memory usage: 5.3+ MB\n",
      "None\n"
     ]
    }
   ],
   "source": [
    "data['score']=pd.to_numeric(data['score'])\n",
    "\n",
    "# Split the score column into 4 groups corresponding to the markdown above and create a new column group to store these data\n",
    "data['Group'] = pd.cut(data['score'], [79,85,90,95,100], labels =\n",
    "[0,1,2,3])\n",
    "print(data[['Group']].head(10))\n",
    "print(data.info())"
   ]
  },
  {
   "cell_type": "markdown",
   "metadata": {
    "colab_type": "text",
    "id": "qTQSwQVRIeEW"
   },
   "source": [
    "After dropping title and score columns, the final data have 12 features, including \n",
    "  \n",
    "  5 numeric features: price, rainfall, temperature, GDP and score (which will be removed later)\n",
    "  \n",
    "  7 categorical features: state, region_1, region_2, variety, winery, Production_year and Group\n",
    "  \n",
    "  In order to explore the correlations between these features, next part will be Exploratory Data Analysis."
   ]
  },
  {
   "cell_type": "code",
   "execution_count": 78,
   "metadata": {
    "colab": {
     "base_uri": "https://localhost:8080/",
     "height": 319
    },
    "colab_type": "code",
    "id": "GvVWHxlLIeEX",
    "outputId": "ada8d128-9f86-4fac-c0a8-ddaf5af0af98"
   },
   "outputs": [
    {
     "name": "stdout",
     "output_type": "stream",
     "text": [
      "<class 'pandas.core.frame.DataFrame'>\n",
      "Int64Index: 53415 entries, 0 to 54502\n",
      "Data columns (total 12 columns):\n",
      "score              53415 non-null int64\n",
      "price              53415 non-null float64\n",
      "state              53415 non-null object\n",
      "region_1           53415 non-null object\n",
      "region_2           53415 non-null object\n",
      "variety            53415 non-null object\n",
      "winery             53415 non-null object\n",
      "Production_year    53415 non-null object\n",
      "temperature        53415 non-null float64\n",
      "rainfall           53415 non-null float64\n",
      "heat_summation     53415 non-null float64\n",
      "Group              53415 non-null category\n",
      "dtypes: category(1), float64(4), int64(1), object(6)\n",
      "memory usage: 4.9+ MB\n",
      "None\n"
     ]
    }
   ],
   "source": [
    "data=data.drop(['title'],axis=1)\n",
    "print(data.info())"
   ]
  },
  {
   "cell_type": "markdown",
   "metadata": {
    "colab_type": "text",
    "id": "52ealYiWIeEZ"
   },
   "source": [
    "# Exploratory Data Analysis"
   ]
  },
  {
   "cell_type": "markdown",
   "metadata": {
    "colab_type": "text",
    "id": "iTi0-QwrIeEa"
   },
   "source": [
    "   ## Explore the relationship between price/score and state"
   ]
  },
  {
   "cell_type": "code",
   "execution_count": 79,
   "metadata": {
    "colab": {
     "base_uri": "https://localhost:8080/",
     "height": 1000
    },
    "colab_type": "code",
    "id": "0EDrtHiPIeEa",
    "outputId": "a8966dda-f6e5-4e88-a9c1-94b749c45b41"
   },
   "outputs": [
    {
     "data": {
      "image/png": "[encoded data removed]",
      "text/plain": [
       "<Figure size 432x288 with 1 Axes>"
      ]
     },
     "metadata": {
      "tags": []
     },
     "output_type": "display_data"
    },
    {
     "data": {
      "image/png": "[encoded data removed]",
      "text/plain": [
       "<Figure size 432x288 with 1 Axes>"
      ]
     },
     "metadata": {
      "tags": []
     },
     "output_type": "display_data"
    },
    {
     "data": {
      "image/png": "[encoded data removed]",
      "text/plain": [
       "<Figure size 432x288 with 1 Axes>"
      ]
     },
     "metadata": {
      "tags": []
     },
     "output_type": "display_data"
    },
    {
     "data": {
      "image/png": "[encoded data removed]",
      "text/plain": [
       "<Figure size 432x288 with 1 Axes>"
      ]
     },
     "metadata": {
      "tags": []
     },
     "output_type": "display_data"
    },
    {
     "data": {
      "image/png": "[encoded data removed]",
      "text/plain": [
       "<Figure size 432x288 with 1 Axes>"
      ]
     },
     "metadata": {
      "tags": []
     },
     "output_type": "display_data"
    }
   ],
   "source": [
    "def state_and_continuous_factors(a,b):#a is the state column,b is a column with continuous factors\n",
    "    # Group by state to find the average number of each continuous feature\n",
    "    continuous_factors_by_state = data.groupby(a)[b].mean().sort_values(ascending = False)\n",
    "    name='Average_'+b\n",
    "    data_1 = continuous_factors_by_state.reset_index(name=name)\n",
    "    sns.barplot(x=name,y=a,data=data_1)\n",
    "    title=b+' VS '+a\n",
    "    plt.title(title,color='blue')\n",
    "    plt.tick_params(color='blue',labelcolor='blue')\n",
    "    plt.show()\n",
    "continuous_list = ['price','score','temperature','rainfall','heat_summation']\n",
    "for i in continuous_list:\n",
    "    state_and_continuous_factors('state',i)"
   ]
  },
  {
   "cell_type": "markdown",
   "metadata": {
    "colab_type": "text",
    "id": "YKUzeqZaIeEc"
   },
   "source": [
    "   ## Explore the relationship between price/score and temperature/rainfall/heat_summation"
   ]
  },
  {
   "cell_type": "code",
   "execution_count": 80,
   "metadata": {
    "colab": {
     "base_uri": "https://localhost:8080/",
     "height": 1000
    },
    "colab_type": "code",
    "id": "vPVlzhj-IeEd",
    "outputId": "dba253a2-863e-48a6-9465-ede080345a68"
   },
   "outputs": [
    {
     "data": {
      "image/png": "[encoded data removed]",
      "text/plain": [
       "<Figure size 432x288 with 1 Axes>"
      ]
     },
     "metadata": {
      "tags": []
     },
     "output_type": "display_data"
    },
    {
     "data": {
      "image/png": "[encoded data removed]",
      "text/plain": [
       "<Figure size 432x288 with 1 Axes>"
      ]
     },
     "metadata": {
      "tags": []
     },
     "output_type": "display_data"
    },
    {
     "data": {
      "image/png": "[encoded data removed]",
      "text/plain": [
       "<Figure size 432x288 with 1 Axes>"
      ]
     },
     "metadata": {
      "tags": []
     },
     "output_type": "display_data"
    },
    {
     "data": {
      "image/png": "[encoded data removed]",
      "text/plain": [
       "<Figure size 432x288 with 1 Axes>"
      ]
     },
     "metadata": {
      "tags": []
     },
     "output_type": "display_data"
    },
    {
     "data": {
      "image/png": "[encoded data removed]",
      "text/plain": [
       "<Figure size 432x288 with 1 Axes>"
      ]
     },
     "metadata": {
      "tags": []
     },
     "output_type": "display_data"
    },
    {
     "data": {
      "image/png": "[encoded data removed]",
      "text/plain": [
       "<Figure size 432x288 with 1 Axes>"
      ]
     },
     "metadata": {
      "tags": []
     },
     "output_type": "display_data"
    }
   ],
   "source": [
    "def continuous_and_continuous(a,b):# a is the price column\n",
    "    continuous_continuous_by_state = data.groupby('state')[[a,b]].agg(['mean'])\n",
    "    column1 = 'Average_'+a\n",
    "    column2 = 'Average_'+b\n",
    "    continuous_continuous_by_state.columns=[column1,column2]\n",
    "\n",
    "    # Generate Scatterplot \n",
    "    sns.scatterplot(x = column1,y = column2,data = continuous_continuous_by_state)\n",
    "\n",
    "    # Add a regression line on the plot\n",
    "    sns.regplot(x = column1,y = column2,data = continuous_continuous_by_state)\n",
    "    title = b+' VS '+a\n",
    "    plt.title(title,color='blue')\n",
    "    plt.tick_params(color='blue',labelcolor='blue')\n",
    "    plt.show()\n",
    "\n",
    "list1 = ['price','score']\n",
    "list2 = ['temperature','rainfall','heat_summation']\n",
    "for i in list1:\n",
    "    for j in list2:\n",
    "        continuous_and_continuous(i,j)"
   ]
  },
  {
   "cell_type": "markdown",
   "metadata": {
    "colab_type": "text",
    "id": "MOjk6Zc_IeEf"
   },
   "source": [
    "From the result we can see, a large amount of rainfall may not be helpful for selling wine at high prices and achieving high scores. High temperature and heat summation could also have negative effect on scores, but the relationship between temperature and price is not obvious. "
   ]
  },
  {
   "cell_type": "markdown",
   "metadata": {
    "colab_type": "text",
    "id": "F5ZPCl5hIeEg"
   },
   "source": [
    "   ## Explore the relationship between price and score"
   ]
  },
  {
   "cell_type": "code",
   "execution_count": 81,
   "metadata": {
    "colab": {
     "base_uri": "https://localhost:8080/",
     "height": 606
    },
    "colab_type": "code",
    "id": "2wbm6gzMIeEg",
    "outputId": "8ee5437b-52bf-4755-fb81-851d4d159b7f"
   },
   "outputs": [
    {
     "data": {
      "image/png": "[encoded data removed]",
      "text/plain": [
       "<Figure size 720x720 with 1 Axes>"
      ]
     },
     "metadata": {
      "tags": []
     },
     "output_type": "display_data"
    }
   ],
   "source": [
    "fig = plt.figure(figsize = (10,10))\n",
    "sns.barplot(x = 'score', y = 'price', data = data)\n",
    "plt.tick_params(color='blue',labelcolor='blue')\n",
    "plt.show()"
   ]
  },
  {
   "cell_type": "markdown",
   "metadata": {
    "colab_type": "text",
    "id": "uRofQ14bIeEj"
   },
   "source": [
    "It is clear that better wine is more expensive. To make it more robust, I am going to use linear regression to test the significance."
   ]
  },
  {
   "cell_type": "code",
   "execution_count": 82,
   "metadata": {
    "colab": {
     "base_uri": "https://localhost:8080/",
     "height": 279
    },
    "colab_type": "code",
    "id": "_zPFzzGoIeEk",
    "outputId": "6ebf9c03-4dcc-40a8-a81e-2ffe7042b3cb"
   },
   "outputs": [
    {
     "data": {
      "image/png": "[encoded data removed]",
      "text/plain": [
       "<Figure size 432x288 with 1 Axes>"
      ]
     },
     "metadata": {
      "tags": []
     },
     "output_type": "display_data"
    }
   ],
   "source": [
    "sns.scatterplot(x='price',y='score',data=data,color='Red')\n",
    "sns.regplot(x=data['price'],y=data['score'],line_kws={\"color\":\"r\"})\n",
    "plt.tick_params(color='blue',labelcolor='blue')\n",
    "plt.show()"
   ]
  },
  {
   "cell_type": "markdown",
   "metadata": {
    "colab_type": "text",
    "id": "0SspgbGPIeEn"
   },
   "source": [
    "It looks like a linear relationship between price and score.\n",
    "    \n",
    "Go one step further, I use the P-value of the regression model to verify the argument."
   ]
  },
  {
   "cell_type": "markdown",
   "metadata": {
    "colab_type": "text",
    "id": "CcODmq7AIeEo"
   },
   "source": [
    "  Null hypothesis: price coefficient = 0 (no linear relationship)\n",
    "\n",
    "  Alternative hypothesis: price coefficient is non-zero\n",
    "\n",
    "  alpha = 0.05"
   ]
  },
  {
   "cell_type": "code",
   "execution_count": 83,
   "metadata": {
    "colab": {
     "base_uri": "https://localhost:8080/",
     "height": 426
    },
    "colab_type": "code",
    "id": "g9x4fTzOIeEo",
    "outputId": "9c152724-0d77-4e6c-f0e8-3923b92af662"
   },
   "outputs": [
    {
     "data": {
      "text/html": [
       "<table class=\"simpletable\">\n",
       "<caption>OLS Regression Results</caption>\n",
       "<tr>\n",
       "  <th>Dep. Variable:</th>          <td>score</td>      <th>  R-squared:         </th>  <td>   0.246</td>  \n",
       "</tr>\n",
       "<tr>\n",
       "  <th>Model:</th>                   <td>OLS</td>       <th>  Adj. R-squared:    </th>  <td>   0.246</td>  \n",
       "</tr>\n",
       "<tr>\n",
       "  <th>Method:</th>             <td>Least Squares</td>  <th>  F-statistic:       </th>  <td>1.743e+04</td> \n",
       "</tr>\n",
       "<tr>\n",
       "  <th>Date:</th>             <td>Sun, 22 Mar 2020</td> <th>  Prob (F-statistic):</th>   <td>  0.00</td>   \n",
       "</tr>\n",
       "<tr>\n",
       "  <th>Time:</th>                 <td>12:36:34</td>     <th>  Log-Likelihood:    </th> <td>-1.2820e+05</td>\n",
       "</tr>\n",
       "<tr>\n",
       "  <th>No. Observations:</th>      <td> 53415</td>      <th>  AIC:               </th>  <td>2.564e+05</td> \n",
       "</tr>\n",
       "<tr>\n",
       "  <th>Df Residuals:</th>          <td> 53413</td>      <th>  BIC:               </th>  <td>2.564e+05</td> \n",
       "</tr>\n",
       "<tr>\n",
       "  <th>Df Model:</th>              <td>     1</td>      <th>                     </th>      <td> </td>     \n",
       "</tr>\n",
       "<tr>\n",
       "  <th>Covariance Type:</th>      <td>nonrobust</td>    <th>                     </th>      <td> </td>     \n",
       "</tr>\n",
       "</table>\n",
       "<table class=\"simpletable\">\n",
       "<tr>\n",
       "    <td></td>       <th>coef</th>     <th>std err</th>      <th>t</th>      <th>P>|t|</th>  <th>[0.025</th>    <th>0.975]</th>  \n",
       "</tr>\n",
       "<tr>\n",
       "  <th>price</th> <td>    0.0849</td> <td>    0.001</td> <td>  132.017</td> <td> 0.000</td> <td>    0.084</td> <td>    0.086</td>\n",
       "</tr>\n",
       "<tr>\n",
       "  <th>Ones</th>  <td>   85.5685</td> <td>    0.025</td> <td> 3425.259</td> <td> 0.000</td> <td>   85.520</td> <td>   85.618</td>\n",
       "</tr>\n",
       "</table>\n",
       "<table class=\"simpletable\">\n",
       "<tr>\n",
       "  <th>Omnibus:</th>       <td>691.727</td> <th>  Durbin-Watson:     </th> <td>   1.220</td> \n",
       "</tr>\n",
       "<tr>\n",
       "  <th>Prob(Omnibus):</th> <td> 0.000</td>  <th>  Jarque-Bera (JB):  </th> <td> 710.572</td> \n",
       "</tr>\n",
       "<tr>\n",
       "  <th>Skew:</th>          <td>-0.275</td>  <th>  Prob(JB):          </th> <td>5.03e-155</td>\n",
       "</tr>\n",
       "<tr>\n",
       "  <th>Kurtosis:</th>      <td> 2.872</td>  <th>  Cond. No.          </th> <td>    84.1</td> \n",
       "</tr>\n",
       "</table><br/><br/>Warnings:<br/>[1] Standard Errors assume that the covariance matrix of the errors is correctly specified."
      ],
      "text/plain": [
       "<class 'statsmodels.iolib.summary.Summary'>\n",
       "\"\"\"\n",
       "                            OLS Regression Results                            \n",
       "==============================================================================\n",
       "Dep. Variable:                  score   R-squared:                       0.246\n",
       "Model:                            OLS   Adj. R-squared:                  0.246\n",
       "Method:                 Least Squares   F-statistic:                 1.743e+04\n",
       "Date:                Sun, 22 Mar 2020   Prob (F-statistic):               0.00\n",
       "Time:                        12:36:34   Log-Likelihood:            -1.2820e+05\n",
       "No. Observations:               53415   AIC:                         2.564e+05\n",
       "Df Residuals:                   53413   BIC:                         2.564e+05\n",
       "Df Model:                           1                                         \n",
       "Covariance Type:            nonrobust                                         \n",
       "==============================================================================\n",
       "                 coef    std err          t      P>|t|      [0.025      0.975]\n",
       "------------------------------------------------------------------------------\n",
       "price          0.0849      0.001    132.017      0.000       0.084       0.086\n",
       "Ones          85.5685      0.025   3425.259      0.000      85.520      85.618\n",
       "==============================================================================\n",
       "Omnibus:                      691.727   Durbin-Watson:                   1.220\n",
       "Prob(Omnibus):                  0.000   Jarque-Bera (JB):              710.572\n",
       "Skew:                          -0.275   Prob(JB):                    5.03e-155\n",
       "Kurtosis:                       2.872   Cond. No.                         84.1\n",
       "==============================================================================\n",
       "\n",
       "Warnings:\n",
       "[1] Standard Errors assume that the covariance matrix of the errors is correctly specified.\n",
       "\"\"\""
      ]
     },
     "execution_count": 83,
     "metadata": {
      "tags": []
     },
     "output_type": "execute_result"
    }
   ],
   "source": [
    "data['Ones'] = np.ones(( len(data), ))\n",
    "Y = data['score']\n",
    "X = data[['price','Ones']]\n",
    "result = sm.OLS(Y,X).fit()\n",
    "result.summary()"
   ]
  },
  {
   "cell_type": "markdown",
   "metadata": {
    "colab_type": "text",
    "id": "YVE0DhoqIeEq"
   },
   "source": [
    "According to the result, P=0.00 < 0.05. Therefore, the Null hypothesis is rejected. There is a linear relationship between these two factors."
   ]
  },
  {
   "cell_type": "markdown",
   "metadata": {
    "colab_type": "text",
    "id": "AxekjYdJIeEr"
   },
   "source": [
    "   ## Explore the relationship between price/score and winery/variety/year"
   ]
  },
  {
   "cell_type": "code",
   "execution_count": 84,
   "metadata": {
    "colab": {
     "base_uri": "https://localhost:8080/",
     "height": 1000
    },
    "colab_type": "code",
    "id": "K6LRIA1NIeEr",
    "outputId": "b67cb33c-0eca-42cc-d129-4a8929138fa6"
   },
   "outputs": [
    {
     "data": {
      "image/png": "[encoded data removed]",
      "text/plain": [
       "<Figure size 432x288 with 1 Axes>"
      ]
     },
     "metadata": {
      "tags": []
     },
     "output_type": "display_data"
    },
    {
     "data": {
      "image/png": "[encoded data removed]",
      "text/plain": [
       "<Figure size 432x288 with 1 Axes>"
      ]
     },
     "metadata": {
      "tags": []
     },
     "output_type": "display_data"
    },
    {
     "data": {
      "image/png": "[encoded data removed]",
      "text/plain": [
       "<Figure size 432x288 with 1 Axes>"
      ]
     },
     "metadata": {
      "tags": []
     },
     "output_type": "display_data"
    },
    {
     "data": {
      "image/png": "[encoded data removed]",
      "text/plain": [
       "<Figure size 432x288 with 1 Axes>"
      ]
     },
     "metadata": {
      "tags": []
     },
     "output_type": "display_data"
    }
   ],
   "source": [
    "def continuous_categorical_relationship(a,b):\n",
    "    numeric_categorical = data.groupby(b)[a].mean().sort_values(ascending = False)\n",
    "    name = 'Average_'+ a\n",
    "\n",
    "    # Only keep the top 10 data\n",
    "    data_1 = numeric_categorical.head(10)\n",
    "\n",
    "    #Convert the series into a dataframe\n",
    "    data_1 = data_1.reset_index(name=name)\n",
    "    sns.barplot(x=name,y=b,data=data_1)\n",
    "    title= name+' vs '+b\n",
    "    plt.title(title,color='blue')\n",
    "    plt.tick_params(color='blue',labelcolor='blue')\n",
    "    plt.show()\n",
    "\n",
    "Numeric_list=['price','score']\n",
    "Categorical_list=['variety','winery']\n",
    "for i in Numeric_list:\n",
    "    for j in Categorical_list:\n",
    "        continuous_categorical_relationship(i,j)   "
   ]
  },
  {
   "cell_type": "markdown",
   "metadata": {
    "colab_type": "text",
    "id": "OpwTtLkTIeEt"
   },
   "source": [
    "The difference in variety has more siginificant influence on prices. Meriot-Malbec is the most profitable variety in this case.  "
   ]
  },
  {
   "cell_type": "markdown",
   "metadata": {
    "colab_type": "text",
    "id": "B4WNaeueIeEv"
   },
   "source": [
    "## The relationship between price/score and production year"
   ]
  },
  {
   "cell_type": "code",
   "execution_count": 85,
   "metadata": {
    "colab": {
     "base_uri": "https://localhost:8080/",
     "height": 626
    },
    "colab_type": "code",
    "id": "oIO82HlFIeEv",
    "outputId": "a9f87cc6-4a7d-44b2-8360-d64bca0dc07c"
   },
   "outputs": [
    {
     "data": {
      "image/png": "[encoded data removed]",
      "text/plain": [
       "<Figure size 1440x720 with 1 Axes>"
      ]
     },
     "metadata": {
      "tags": []
     },
     "output_type": "display_data"
    }
   ],
   "source": [
    "fig = plt.figure(figsize = (20,10))\n",
    "sns.barplot(x = 'Production_year', y = 'score', data = data)\n",
    "plt.tick_params(color='blue',labelcolor='blue')\n",
    "plt.show()"
   ]
  },
  {
   "cell_type": "markdown",
   "metadata": {
    "colab_type": "text",
    "id": "-1r9TSEBIeEz"
   },
   "source": [
    "1991 was a good year, while 1989 was the year to avoid."
   ]
  },
  {
   "cell_type": "code",
   "execution_count": 86,
   "metadata": {
    "colab": {
     "base_uri": "https://localhost:8080/",
     "height": 626
    },
    "colab_type": "code",
    "id": "--3a8NW4IeE0",
    "outputId": "e968f601-a155-4dd2-e0c0-9adc5cf0bcf5"
   },
   "outputs": [
    {
     "data": {
      "image/png": "[encoded data removed]",
      "text/plain": [
       "<Figure size 1440x720 with 1 Axes>"
      ]
     },
     "metadata": {
      "tags": []
     },
     "output_type": "display_data"
    }
   ],
   "source": [
    "fig = plt.figure(figsize = (20,10))\n",
    "sns.barplot(x = 'Production_year', y = 'price', data = data)\n",
    "plt.tick_params(color='blue',labelcolor='blue')\n",
    "plt.show()"
   ]
  },
  {
   "cell_type": "markdown",
   "metadata": {
    "colab_type": "text",
    "id": "7By1tf-vIeE1"
   },
   "source": [
    "The wine produced in 1991 is perhaps more profitable. The wine produced in 1989 has neither good reputation nor good prices."
   ]
  },
  {
   "cell_type": "code",
   "execution_count": 87,
   "metadata": {
    "colab": {
     "base_uri": "https://localhost:8080/",
     "height": 319
    },
    "colab_type": "code",
    "id": "XuRq5S6WIeE3",
    "outputId": "2575a69d-fb5b-4bf8-8b2f-383628cc21d4"
   },
   "outputs": [
    {
     "name": "stdout",
     "output_type": "stream",
     "text": [
      "<class 'pandas.core.frame.DataFrame'>\n",
      "Int64Index: 53415 entries, 0 to 54502\n",
      "Data columns (total 12 columns):\n",
      "price              53415 non-null float64\n",
      "state              53415 non-null object\n",
      "region_1           53415 non-null object\n",
      "region_2           53415 non-null object\n",
      "variety            53415 non-null object\n",
      "winery             53415 non-null object\n",
      "Production_year    53415 non-null object\n",
      "temperature        53415 non-null float64\n",
      "rainfall           53415 non-null float64\n",
      "heat_summation     53415 non-null float64\n",
      "Group              53415 non-null category\n",
      "Ones               53415 non-null float64\n",
      "dtypes: category(1), float64(5), object(6)\n",
      "memory usage: 7.4+ MB\n",
      "None\n"
     ]
    }
   ],
   "source": [
    "data = data.drop('score',axis=1)\n",
    "print(data.info())"
   ]
  },
  {
   "cell_type": "markdown",
   "metadata": {
    "colab_type": "text",
    "id": "7inrmT0-IeE5"
   },
   "source": [
    "# Predictive Modeling"
   ]
  },
  {
   "cell_type": "markdown",
   "metadata": {
    "colab_type": "text",
    "id": "sBLZuwU9IeE6"
   },
   "source": [
    "## Data Engineering\n",
    "  The dataset contains many data of string type, including state, region_1, region_2, variety and winery, which the machine could not recognise. Therefore, the first step is to convert these data into the format that is accessible to the machine.\n",
    "    \n",
    "  The principle of doing this is:\n",
    "  \n",
    "  (1) If the discontinuous data have inherent ordinal relationship, like the size of clothes (S, M, L, XL, XXL), then we could use sklearn.preprocessing.OrdinalEncoder to assign each observation a label. \n",
    "    \n",
    "  (2) If the discontinuous data do not have any ordinal relationship, like states in this case, we could use sklearn.preprocessing.OneHotEncoder, pd.get_dummies and sklearn.preprocessing.LableEncoder.\n",
    "    \n",
    "  In this case, all discontinous data are not ordinal, so I will use the second method to categorise them. To be more specific, I choose sklearn.preprocessing.LableEncoder to see which method could result in a better result."
   ]
  },
  {
   "cell_type": "markdown",
   "metadata": {
    "colab_type": "text",
    "id": "kIyHfjNrIeE6"
   },
   "source": [
    "  I use sklearn.preprocessing.LableEncoder method to categorise discontinuous features"
   ]
  },
  {
   "cell_type": "code",
   "execution_count": 88,
   "metadata": {
    "colab": {
     "base_uri": "https://localhost:8080/",
     "height": 454
    },
    "colab_type": "code",
    "id": "Ty5qMHN0IeE7",
    "outputId": "3e878428-92c5-4cef-9662-54c749d5071f",
    "scrolled": true
   },
   "outputs": [
    {
     "name": "stdout",
     "output_type": "stream",
     "text": [
      "   price  state  region_1  region_2  ...  rainfall  heat_summation  Group  Ones\n",
      "0   30.0     22       251        67  ...     38.64          1281.0      1   1.0\n",
      "1   30.0     22       255        12  ...     50.26          1386.0      1   1.0\n",
      "2   35.0     22       169        12  ...     40.24          1176.0      2   1.0\n",
      "3   32.0     22        46        12  ...     40.24          1176.0      1   1.0\n",
      "4   32.0     22        46        12  ...     40.24          1176.0      1   1.0\n",
      "\n",
      "[5 rows x 12 columns]\n",
      "<class 'pandas.core.frame.DataFrame'>\n",
      "Int64Index: 53415 entries, 0 to 54502\n",
      "Data columns (total 12 columns):\n",
      "price              53415 non-null float64\n",
      "state              53415 non-null int64\n",
      "region_1           53415 non-null int64\n",
      "region_2           53415 non-null int64\n",
      "variety            53415 non-null int64\n",
      "winery             53415 non-null int64\n",
      "Production_year    53415 non-null int64\n",
      "temperature        53415 non-null float64\n",
      "rainfall           53415 non-null float64\n",
      "heat_summation     53415 non-null float64\n",
      "Group              53415 non-null category\n",
      "Ones               53415 non-null float64\n",
      "dtypes: category(1), float64(5), int64(6)\n",
      "memory usage: 7.4 MB\n",
      "None\n"
     ]
    }
   ],
   "source": [
    "# Convert the columns of string type into int and give each unique string a unique number\n",
    "le = LabelEncoder()\n",
    "data['state'] = le.fit_transform(data['state'])\n",
    "data['region_1'] = le.fit_transform(data['region_1'])\n",
    "data['region_2'] = le.fit_transform(data['region_2'])\n",
    "data['variety'] = le.fit_transform(data['variety'])\n",
    "data['winery'] = le.fit_transform(data['winery'])\n",
    "data['Production_year'] = le.fit_transform(data['Production_year'])\n",
    "print(data.head())\n",
    "print(data.info())"
   ]
  },
  {
   "cell_type": "markdown",
   "metadata": {
    "colab_type": "text",
    "id": "YZHp-2BLIeE8"
   },
   "source": [
    " ## Model Construction"
   ]
  },
  {
   "cell_type": "markdown",
   "metadata": {
    "colab_type": "text",
    "id": "15rPmrzIIeE9"
   },
   "source": [
    "### Model Selection\n",
    "Because the dataset has several discountinuous data columns, converting these columns into dummy variables will result in thousands of new columns and the result of a regression model will not be good. Also I have categorised score data into 4 groups based on the guideline of Winespector.com. Therefore, the task is more about using classification models instead of regression models. Among the classification models I am familiar with, I first rule out cluster model, because of the following two reasons. \n",
    "\n",
    "(1) Converting discontinuous data columns into dummy variables will significantly increase computational complexity. \n",
    "\n",
    "(2) In the wine industry, boundaries already exist between wine with different varieties, scores or production years and it could be hard to explain if I cluster these observations based on the location of wineries or the average temperature of the year that the wine was produced. \n",
    "\n",
    "As for Logistic regression, it is only suitable for dealing with binary features. But there are four categories in this case.\n",
    "\n",
    "Thus I choose to use tree model to conduct classification this time. As the DecisionTree is the basic model of all tree models, it should not miss. Moreover, there are two diiferent categories of ensemble learning, bagging and boosting. RandomForest is a typical bagging model where data are resampled over and over again. By contrast, the data for boosting model, like Adaboost are constant for each round but the weights of each observation is different. Both these two models belong to the tree model, and the comparison between these two will be interesting.\n",
    "\n",
    "I will first compare the accuracy rates of these three algorithm with by default setting, and choose the one performs best to conduct hyperparameters in order to find the best parameters. Finally, the algorithm with optimal parameters will be used to identify the importance of each feature.  \n",
    "\n"
   ]
  },
  {
   "cell_type": "markdown",
   "metadata": {
    "colab_type": "text",
    "id": "8nGdlViOIeE-"
   },
   "source": [
    "### Divide into Train/Test Dataset"
   ]
  },
  {
   "cell_type": "code",
   "execution_count": 0,
   "metadata": {
    "colab": {},
    "colab_type": "code",
    "id": "k-526oI1IeE-"
   },
   "outputs": [],
   "source": [
    "# Group is the independent variable of this model and the rest variables are dependent variables\n",
    "X=data[['state','region_1','region_2','variety','winery','price','Production_year','temperature','rainfall','heat_summation']]\n",
    "y=data[['Group']]\n",
    "\n",
    "# build a training dataset with 70% data and a testing dataset with 30% data\n",
    "# use random_state to make sure results are the same  \n",
    "x_train,x_test,y_train,y_test=train_test_split(X,y,test_size=0.3,random_state=50)"
   ]
  },
  {
   "cell_type": "markdown",
   "metadata": {
    "colab_type": "text",
    "id": "k8QXzI4XIeFB"
   },
   "source": [
    "### DecisionTree"
   ]
  },
  {
   "cell_type": "code",
   "execution_count": 90,
   "metadata": {
    "colab": {
     "base_uri": "https://localhost:8080/",
     "height": 34
    },
    "colab_type": "code",
    "id": "Nh1HtETLIeFC",
    "outputId": "ea6f2184-fc04-42a2-d4f3-f3c24ed74fea"
   },
   "outputs": [
    {
     "name": "stdout",
     "output_type": "stream",
     "text": [
      "Accuracy: 0.5768486739469578\n"
     ]
    }
   ],
   "source": [
    "# Again, use random_state to make assure every run outputs the same result\n",
    "clf=DecisionTreeClassifier(random_state=50)\n",
    "clf.fit(x_train,y_train)\n",
    "y_pred = clf.predict(x_test)\n",
    "print(\"Accuracy:\",metrics.accuracy_score(y_test, y_pred))"
   ]
  },
  {
   "cell_type": "code",
   "execution_count": 91,
   "metadata": {
    "colab": {
     "base_uri": "https://localhost:8080/",
     "height": 354
    },
    "colab_type": "code",
    "id": "Jg32Hza3IeFE",
    "outputId": "c288464d-c97f-4f9b-a564-444226f94637"
   },
   "outputs": [
    {
     "data": {
      "text/plain": [
       "Text(0.5, 1.0, 'Feature Importances')"
      ]
     },
     "execution_count": 91,
     "metadata": {
      "tags": []
     },
     "output_type": "execute_result"
    },
    {
     "data": {
      "image/png": "[encoded data removed]",
      "text/plain": [
       "<Figure size 1080x360 with 1 Axes>"
      ]
     },
     "metadata": {
      "tags": []
     },
     "output_type": "display_data"
    }
   ],
   "source": [
    "f, ax = plt.subplots(figsize=(15, 5))\n",
    "\n",
    "# Feature_importances is to evaluate the importance of features on an artificial classification task\n",
    "ax.bar(('state','region_1','region_2','variety','winery','price','Production_year',\n",
    "        'temperature','rainfall','heat_summation'),clf.feature_importances_)\n",
    "plt.tick_params(color='blue',labelcolor='blue')\n",
    "ax.set_title(\"Feature Importances\",color='blue')"
   ]
  },
  {
   "cell_type": "markdown",
   "metadata": {
    "colab_type": "text",
    "id": "0u2yZNBrIeFG"
   },
   "source": [
    "### RandomForest"
   ]
  },
  {
   "cell_type": "code",
   "execution_count": 92,
   "metadata": {
    "colab": {
     "base_uri": "https://localhost:8080/",
     "height": 87
    },
    "colab_type": "code",
    "id": "otnRzrlAIeFG",
    "outputId": "71fb2d8b-48c4-4c20-8f9c-b721a6756f00"
   },
   "outputs": [
    {
     "name": "stderr",
     "output_type": "stream",
     "text": [
      "/usr/local/lib/python3.6/dist-packages/ipykernel_launcher.py:2: DataConversionWarning: A column-vector y was passed when a 1d array was expected. Please change the shape of y to (n_samples,), for example using ravel().\n",
      "  \n"
     ]
    },
    {
     "name": "stdout",
     "output_type": "stream",
     "text": [
      "Accuracy: 0.6446177847113884\n"
     ]
    }
   ],
   "source": [
    "# Again, use random_state to make assure every run outputs the same result\n",
    "clf = RandomForestClassifier(random_state=50)\n",
    "clf.fit(x_train,y_train)\n",
    "y_pred = clf.predict(x_test)\n",
    "print(\"Accuracy:\",metrics.accuracy_score(y_test, y_pred))"
   ]
  },
  {
   "cell_type": "code",
   "execution_count": 93,
   "metadata": {
    "colab": {
     "base_uri": "https://localhost:8080/",
     "height": 337
    },
    "colab_type": "code",
    "id": "jyiGTOi6IeFI",
    "outputId": "bdf758d6-d960-440e-8a7b-20d41277f111"
   },
   "outputs": [
    {
     "data": {
      "image/png": "[encoded data removed]",
      "text/plain": [
       "<Figure size 1080x360 with 1 Axes>"
      ]
     },
     "metadata": {
      "tags": []
     },
     "output_type": "display_data"
    }
   ],
   "source": [
    "f, ax = plt.subplots(figsize=(15, 5))\n",
    "\n",
    "# Feature_importances is to evaluate the importance of features on an artificial classification task\n",
    "ax.bar(('state','region_1','region_2','variety','winery','price','Production_year','temperature','rainfall','heat_summation'),clf.feature_importances_)\n",
    "plt.tick_params(color='blue',labelcolor='blue')\n",
    "ax.set_title(\"Feature Importances\",color='blue')\n",
    "f.show()"
   ]
  },
  {
   "cell_type": "markdown",
   "metadata": {
    "colab_type": "text",
    "id": "3IB0d1g0IeFL"
   },
   "source": [
    "### AdaBoost"
   ]
  },
  {
   "cell_type": "code",
   "execution_count": 94,
   "metadata": {
    "colab": {
     "base_uri": "https://localhost:8080/",
     "height": 87
    },
    "colab_type": "code",
    "id": "R3VMrakWIeFL",
    "outputId": "13ecbadf-077c-4951-e46c-b16ed139d5bf"
   },
   "outputs": [
    {
     "name": "stderr",
     "output_type": "stream",
     "text": [
      "/usr/local/lib/python3.6/dist-packages/sklearn/utils/validation.py:760: DataConversionWarning: A column-vector y was passed when a 1d array was expected. Please change the shape of y to (n_samples, ), for example using ravel().\n",
      "  y = column_or_1d(y, warn=True)\n"
     ]
    },
    {
     "name": "stdout",
     "output_type": "stream",
     "text": [
      "Accuracy: 0.604804992199688\n"
     ]
    }
   ],
   "source": [
    "from sklearn.ensemble import AdaBoostClassifier\n",
    "\n",
    "# Again, use random_state to make assure every run outputs the same result\n",
    "clf = AdaBoostClassifier(random_state=50)\n",
    "clf.fit(x_train,y_train)\n",
    "y_pred = clf.predict(x_test)\n",
    "print(\"Accuracy:\",metrics.accuracy_score(y_test, y_pred))"
   ]
  },
  {
   "cell_type": "code",
   "execution_count": 95,
   "metadata": {
    "colab": {
     "base_uri": "https://localhost:8080/",
     "height": 337
    },
    "colab_type": "code",
    "id": "obQ82pXYIeFN",
    "outputId": "f9419e51-ec92-4e15-a535-3842c460c024"
   },
   "outputs": [
    {
     "data": {
      "image/png": "[encoded data removed]",
      "text/plain": [
       "<Figure size 1080x360 with 1 Axes>"
      ]
     },
     "metadata": {
      "tags": []
     },
     "output_type": "display_data"
    }
   ],
   "source": [
    "f, ax = plt.subplots(figsize=(15, 5))\n",
    "\n",
    "# Feature_importances is to evaluate the importance of features on an artificial classification task\n",
    "ax.bar(('state','region_1','region_2','variety','winery','price','Production_year','temperature','rainfall','heat_summation'),clf.feature_importances_)\n",
    "plt.tick_params(color='blue',labelcolor='blue')\n",
    "ax.set_title(\"Feature Importances\",color='blue')\n",
    "f.show()"
   ]
  },
  {
   "cell_type": "markdown",
   "metadata": {
    "colab_type": "text",
    "id": "pJ5bu77SIeFO"
   },
   "source": [
    "The accuracy rate of RandomForest is the highest, about 64.4%. While Adaboost and DecisionTree could provide 60.7% and 57.6% accuracy rate respectively. Therefore, I will focus on the RandomForest algorithm and try to find the best parameters in order to increase its performance. "
   ]
  },
  {
   "cell_type": "markdown",
   "metadata": {
    "colab_type": "text",
    "id": "i1wTiZ85IeFP"
   },
   "source": [
    "### Hyperparameter Tuning"
   ]
  },
  {
   "cell_type": "markdown",
   "metadata": {
    "colab_type": "text",
    "id": "i1nxEY26IeFP"
   },
   "source": [
    "Although sklearn.model_selection provides a useful function, GridSearchCV, it will take too much time if all parameters are tested simultaneously. Therefore, I am going to choose the best parameter combination step by step by first identifying one parameter and including this parameter into the next round search to identify the second parameter and so on."
   ]
  },
  {
   "cell_type": "code",
   "execution_count": 0,
   "metadata": {
    "colab": {
     "base_uri": "https://localhost:8080/",
     "height": 1000
    },
    "colab_type": "code",
    "id": "QYT0wZIoIeFQ",
    "outputId": "5ca5a90a-e5d4-4da1-a575-eb2e5e9154cf"
   },
   "outputs": [
    {
     "name": "stderr",
     "output_type": "stream",
     "text": [
      "E:\\python\\Anaconda\\lib\\site-packages\\sklearn\\model_selection\\_validation.py:515: DataConversionWarning: A column-vector y was passed when a 1d array was expected. Please change the shape of y to (n_samples,), for example using ravel().\n",
      "  estimator.fit(X_train, y_train, **fit_params)\n",
      "E:\\python\\Anaconda\\lib\\site-packages\\sklearn\\model_selection\\_validation.py:515: DataConversionWarning: A column-vector y was passed when a 1d array was expected. Please change the shape of y to (n_samples,), for example using ravel().\n",
      "  estimator.fit(X_train, y_train, **fit_params)\n",
      "E:\\python\\Anaconda\\lib\\site-packages\\sklearn\\model_selection\\_validation.py:515: DataConversionWarning: A column-vector y was passed when a 1d array was expected. Please change the shape of y to (n_samples,), for example using ravel().\n",
      "  estimator.fit(X_train, y_train, **fit_params)\n",
      "E:\\python\\Anaconda\\lib\\site-packages\\sklearn\\model_selection\\_validation.py:515: DataConversionWarning: A column-vector y was passed when a 1d array was expected. Please change the shape of y to (n_samples,), for example using ravel().\n",
      "  estimator.fit(X_train, y_train, **fit_params)\n",
      "E:\\python\\Anaconda\\lib\\site-packages\\sklearn\\model_selection\\_validation.py:515: DataConversionWarning: A column-vector y was passed when a 1d array was expected. Please change the shape of y to (n_samples,), for example using ravel().\n",
      "  estimator.fit(X_train, y_train, **fit_params)\n",
      "E:\\python\\Anaconda\\lib\\site-packages\\sklearn\\model_selection\\_validation.py:515: DataConversionWarning: A column-vector y was passed when a 1d array was expected. Please change the shape of y to (n_samples,), for example using ravel().\n",
      "  estimator.fit(X_train, y_train, **fit_params)\n",
      "E:\\python\\Anaconda\\lib\\site-packages\\sklearn\\model_selection\\_validation.py:515: DataConversionWarning: A column-vector y was passed when a 1d array was expected. Please change the shape of y to (n_samples,), for example using ravel().\n",
      "  estimator.fit(X_train, y_train, **fit_params)\n",
      "E:\\python\\Anaconda\\lib\\site-packages\\sklearn\\model_selection\\_validation.py:515: DataConversionWarning: A column-vector y was passed when a 1d array was expected. Please change the shape of y to (n_samples,), for example using ravel().\n",
      "  estimator.fit(X_train, y_train, **fit_params)\n",
      "E:\\python\\Anaconda\\lib\\site-packages\\sklearn\\model_selection\\_validation.py:515: DataConversionWarning: A column-vector y was passed when a 1d array was expected. Please change the shape of y to (n_samples,), for example using ravel().\n",
      "  estimator.fit(X_train, y_train, **fit_params)\n",
      "E:\\python\\Anaconda\\lib\\site-packages\\sklearn\\model_selection\\_validation.py:515: DataConversionWarning: A column-vector y was passed when a 1d array was expected. Please change the shape of y to (n_samples,), for example using ravel().\n",
      "  estimator.fit(X_train, y_train, **fit_params)\n",
      "E:\\python\\Anaconda\\lib\\site-packages\\sklearn\\model_selection\\_validation.py:515: DataConversionWarning: A column-vector y was passed when a 1d array was expected. Please change the shape of y to (n_samples,), for example using ravel().\n",
      "  estimator.fit(X_train, y_train, **fit_params)\n",
      "E:\\python\\Anaconda\\lib\\site-packages\\sklearn\\model_selection\\_validation.py:515: DataConversionWarning: A column-vector y was passed when a 1d array was expected. Please change the shape of y to (n_samples,), for example using ravel().\n",
      "  estimator.fit(X_train, y_train, **fit_params)\n",
      "E:\\python\\Anaconda\\lib\\site-packages\\sklearn\\model_selection\\_validation.py:515: DataConversionWarning: A column-vector y was passed when a 1d array was expected. Please change the shape of y to (n_samples,), for example using ravel().\n",
      "  estimator.fit(X_train, y_train, **fit_params)\n",
      "E:\\python\\Anaconda\\lib\\site-packages\\sklearn\\model_selection\\_validation.py:515: DataConversionWarning: A column-vector y was passed when a 1d array was expected. Please change the shape of y to (n_samples,), for example using ravel().\n",
      "  estimator.fit(X_train, y_train, **fit_params)\n",
      "E:\\python\\Anaconda\\lib\\site-packages\\sklearn\\model_selection\\_validation.py:515: DataConversionWarning: A column-vector y was passed when a 1d array was expected. Please change the shape of y to (n_samples,), for example using ravel().\n",
      "  estimator.fit(X_train, y_train, **fit_params)\n",
      "E:\\python\\Anaconda\\lib\\site-packages\\sklearn\\model_selection\\_validation.py:515: DataConversionWarning: A column-vector y was passed when a 1d array was expected. Please change the shape of y to (n_samples,), for example using ravel().\n",
      "  estimator.fit(X_train, y_train, **fit_params)\n",
      "E:\\python\\Anaconda\\lib\\site-packages\\sklearn\\model_selection\\_validation.py:515: DataConversionWarning: A column-vector y was passed when a 1d array was expected. Please change the shape of y to (n_samples,), for example using ravel().\n",
      "  estimator.fit(X_train, y_train, **fit_params)\n",
      "E:\\python\\Anaconda\\lib\\site-packages\\sklearn\\model_selection\\_validation.py:515: DataConversionWarning: A column-vector y was passed when a 1d array was expected. Please change the shape of y to (n_samples,), for example using ravel().\n",
      "  estimator.fit(X_train, y_train, **fit_params)\n",
      "E:\\python\\Anaconda\\lib\\site-packages\\sklearn\\model_selection\\_validation.py:515: DataConversionWarning: A column-vector y was passed when a 1d array was expected. Please change the shape of y to (n_samples,), for example using ravel().\n",
      "  estimator.fit(X_train, y_train, **fit_params)\n",
      "E:\\python\\Anaconda\\lib\\site-packages\\sklearn\\model_selection\\_validation.py:515: DataConversionWarning: A column-vector y was passed when a 1d array was expected. Please change the shape of y to (n_samples,), for example using ravel().\n",
      "  estimator.fit(X_train, y_train, **fit_params)\n",
      "E:\\python\\Anaconda\\lib\\site-packages\\sklearn\\model_selection\\_validation.py:515: DataConversionWarning: A column-vector y was passed when a 1d array was expected. Please change the shape of y to (n_samples,), for example using ravel().\n",
      "  estimator.fit(X_train, y_train, **fit_params)\n",
      "E:\\python\\Anaconda\\lib\\site-packages\\sklearn\\model_selection\\_validation.py:515: DataConversionWarning: A column-vector y was passed when a 1d array was expected. Please change the shape of y to (n_samples,), for example using ravel().\n",
      "  estimator.fit(X_train, y_train, **fit_params)\n",
      "E:\\python\\Anaconda\\lib\\site-packages\\sklearn\\model_selection\\_validation.py:515: DataConversionWarning: A column-vector y was passed when a 1d array was expected. Please change the shape of y to (n_samples,), for example using ravel().\n",
      "  estimator.fit(X_train, y_train, **fit_params)\n",
      "E:\\python\\Anaconda\\lib\\site-packages\\sklearn\\model_selection\\_validation.py:515: DataConversionWarning: A column-vector y was passed when a 1d array was expected. Please change the shape of y to (n_samples,), for example using ravel().\n",
      "  estimator.fit(X_train, y_train, **fit_params)\n",
      "E:\\python\\Anaconda\\lib\\site-packages\\sklearn\\model_selection\\_validation.py:515: DataConversionWarning: A column-vector y was passed when a 1d array was expected. Please change the shape of y to (n_samples,), for example using ravel().\n",
      "  estimator.fit(X_train, y_train, **fit_params)\n",
      "E:\\python\\Anaconda\\lib\\site-packages\\sklearn\\model_selection\\_validation.py:515: DataConversionWarning: A column-vector y was passed when a 1d array was expected. Please change the shape of y to (n_samples,), for example using ravel().\n",
      "  estimator.fit(X_train, y_train, **fit_params)\n",
      "E:\\python\\Anaconda\\lib\\site-packages\\sklearn\\model_selection\\_validation.py:515: DataConversionWarning: A column-vector y was passed when a 1d array was expected. Please change the shape of y to (n_samples,), for example using ravel().\n",
      "  estimator.fit(X_train, y_train, **fit_params)\n",
      "E:\\python\\Anaconda\\lib\\site-packages\\sklearn\\model_selection\\_validation.py:515: DataConversionWarning: A column-vector y was passed when a 1d array was expected. Please change the shape of y to (n_samples,), for example using ravel().\n",
      "  estimator.fit(X_train, y_train, **fit_params)\n",
      "E:\\python\\Anaconda\\lib\\site-packages\\sklearn\\model_selection\\_validation.py:515: DataConversionWarning: A column-vector y was passed when a 1d array was expected. Please change the shape of y to (n_samples,), for example using ravel().\n",
      "  estimator.fit(X_train, y_train, **fit_params)\n",
      "E:\\python\\Anaconda\\lib\\site-packages\\sklearn\\model_selection\\_validation.py:515: DataConversionWarning: A column-vector y was passed when a 1d array was expected. Please change the shape of y to (n_samples,), for example using ravel().\n",
      "  estimator.fit(X_train, y_train, **fit_params)\n",
      "E:\\python\\Anaconda\\lib\\site-packages\\sklearn\\model_selection\\_validation.py:515: DataConversionWarning: A column-vector y was passed when a 1d array was expected. Please change the shape of y to (n_samples,), for example using ravel().\n",
      "  estimator.fit(X_train, y_train, **fit_params)\n",
      "E:\\python\\Anaconda\\lib\\site-packages\\sklearn\\model_selection\\_validation.py:515: DataConversionWarning: A column-vector y was passed when a 1d array was expected. Please change the shape of y to (n_samples,), for example using ravel().\n",
      "  estimator.fit(X_train, y_train, **fit_params)\n",
      "E:\\python\\Anaconda\\lib\\site-packages\\sklearn\\model_selection\\_validation.py:515: DataConversionWarning: A column-vector y was passed when a 1d array was expected. Please change the shape of y to (n_samples,), for example using ravel().\n",
      "  estimator.fit(X_train, y_train, **fit_params)\n",
      "E:\\python\\Anaconda\\lib\\site-packages\\sklearn\\model_selection\\_validation.py:515: DataConversionWarning: A column-vector y was passed when a 1d array was expected. Please change the shape of y to (n_samples,), for example using ravel().\n",
      "  estimator.fit(X_train, y_train, **fit_params)\n",
      "E:\\python\\Anaconda\\lib\\site-packages\\sklearn\\model_selection\\_validation.py:515: DataConversionWarning: A column-vector y was passed when a 1d array was expected. Please change the shape of y to (n_samples,), for example using ravel().\n",
      "  estimator.fit(X_train, y_train, **fit_params)\n",
      "E:\\python\\Anaconda\\lib\\site-packages\\sklearn\\model_selection\\_validation.py:515: DataConversionWarning: A column-vector y was passed when a 1d array was expected. Please change the shape of y to (n_samples,), for example using ravel().\n",
      "  estimator.fit(X_train, y_train, **fit_params)\n",
      "E:\\python\\Anaconda\\lib\\site-packages\\sklearn\\model_selection\\_validation.py:515: DataConversionWarning: A column-vector y was passed when a 1d array was expected. Please change the shape of y to (n_samples,), for example using ravel().\n",
      "  estimator.fit(X_train, y_train, **fit_params)\n",
      "E:\\python\\Anaconda\\lib\\site-packages\\sklearn\\model_selection\\_validation.py:515: DataConversionWarning: A column-vector y was passed when a 1d array was expected. Please change the shape of y to (n_samples,), for example using ravel().\n",
      "  estimator.fit(X_train, y_train, **fit_params)\n",
      "E:\\python\\Anaconda\\lib\\site-packages\\sklearn\\model_selection\\_validation.py:515: DataConversionWarning: A column-vector y was passed when a 1d array was expected. Please change the shape of y to (n_samples,), for example using ravel().\n",
      "  estimator.fit(X_train, y_train, **fit_params)\n",
      "E:\\python\\Anaconda\\lib\\site-packages\\sklearn\\model_selection\\_validation.py:515: DataConversionWarning: A column-vector y was passed when a 1d array was expected. Please change the shape of y to (n_samples,), for example using ravel().\n",
      "  estimator.fit(X_train, y_train, **fit_params)\n",
      "E:\\python\\Anaconda\\lib\\site-packages\\sklearn\\model_selection\\_validation.py:515: DataConversionWarning: A column-vector y was passed when a 1d array was expected. Please change the shape of y to (n_samples,), for example using ravel().\n",
      "  estimator.fit(X_train, y_train, **fit_params)\n",
      "E:\\python\\Anaconda\\lib\\site-packages\\sklearn\\model_selection\\_validation.py:515: DataConversionWarning: A column-vector y was passed when a 1d array was expected. Please change the shape of y to (n_samples,), for example using ravel().\n",
      "  estimator.fit(X_train, y_train, **fit_params)\n",
      "E:\\python\\Anaconda\\lib\\site-packages\\sklearn\\model_selection\\_validation.py:515: DataConversionWarning: A column-vector y was passed when a 1d array was expected. Please change the shape of y to (n_samples,), for example using ravel().\n",
      "  estimator.fit(X_train, y_train, **fit_params)\n",
      "E:\\python\\Anaconda\\lib\\site-packages\\sklearn\\model_selection\\_validation.py:515: DataConversionWarning: A column-vector y was passed when a 1d array was expected. Please change the shape of y to (n_samples,), for example using ravel().\n",
      "  estimator.fit(X_train, y_train, **fit_params)\n",
      "E:\\python\\Anaconda\\lib\\site-packages\\sklearn\\model_selection\\_validation.py:515: DataConversionWarning: A column-vector y was passed when a 1d array was expected. Please change the shape of y to (n_samples,), for example using ravel().\n",
      "  estimator.fit(X_train, y_train, **fit_params)\n",
      "E:\\python\\Anaconda\\lib\\site-packages\\sklearn\\model_selection\\_validation.py:515: DataConversionWarning: A column-vector y was passed when a 1d array was expected. Please change the shape of y to (n_samples,), for example using ravel().\n",
      "  estimator.fit(X_train, y_train, **fit_params)\n",
      "E:\\python\\Anaconda\\lib\\site-packages\\sklearn\\model_selection\\_validation.py:515: DataConversionWarning: A column-vector y was passed when a 1d array was expected. Please change the shape of y to (n_samples,), for example using ravel().\n",
      "  estimator.fit(X_train, y_train, **fit_params)\n",
      "E:\\python\\Anaconda\\lib\\site-packages\\sklearn\\model_selection\\_validation.py:515: DataConversionWarning: A column-vector y was passed when a 1d array was expected. Please change the shape of y to (n_samples,), for example using ravel().\n",
      "  estimator.fit(X_train, y_train, **fit_params)\n",
      "E:\\python\\Anaconda\\lib\\site-packages\\sklearn\\model_selection\\_validation.py:515: DataConversionWarning: A column-vector y was passed when a 1d array was expected. Please change the shape of y to (n_samples,), for example using ravel().\n",
      "  estimator.fit(X_train, y_train, **fit_params)\n",
      "E:\\python\\Anaconda\\lib\\site-packages\\sklearn\\model_selection\\_validation.py:515: DataConversionWarning: A column-vector y was passed when a 1d array was expected. Please change the shape of y to (n_samples,), for example using ravel().\n",
      "  estimator.fit(X_train, y_train, **fit_params)\n",
      "E:\\python\\Anaconda\\lib\\site-packages\\sklearn\\model_selection\\_validation.py:515: DataConversionWarning: A column-vector y was passed when a 1d array was expected. Please change the shape of y to (n_samples,), for example using ravel().\n",
      "  estimator.fit(X_train, y_train, **fit_params)\n",
      "E:\\python\\Anaconda\\lib\\site-packages\\sklearn\\model_selection\\_validation.py:515: DataConversionWarning: A column-vector y was passed when a 1d array was expected. Please change the shape of y to (n_samples,), for example using ravel().\n",
      "  estimator.fit(X_train, y_train, **fit_params)\n",
      "E:\\python\\Anaconda\\lib\\site-packages\\sklearn\\model_selection\\_validation.py:515: DataConversionWarning: A column-vector y was passed when a 1d array was expected. Please change the shape of y to (n_samples,), for example using ravel().\n",
      "  estimator.fit(X_train, y_train, **fit_params)\n",
      "E:\\python\\Anaconda\\lib\\site-packages\\sklearn\\model_selection\\_validation.py:515: DataConversionWarning: A column-vector y was passed when a 1d array was expected. Please change the shape of y to (n_samples,), for example using ravel().\n",
      "  estimator.fit(X_train, y_train, **fit_params)\n",
      "E:\\python\\Anaconda\\lib\\site-packages\\sklearn\\model_selection\\_validation.py:515: DataConversionWarning: A column-vector y was passed when a 1d array was expected. Please change the shape of y to (n_samples,), for example using ravel().\n",
      "  estimator.fit(X_train, y_train, **fit_params)\n",
      "E:\\python\\Anaconda\\lib\\site-packages\\sklearn\\model_selection\\_validation.py:515: DataConversionWarning: A column-vector y was passed when a 1d array was expected. Please change the shape of y to (n_samples,), for example using ravel().\n",
      "  estimator.fit(X_train, y_train, **fit_params)\n",
      "E:\\python\\Anaconda\\lib\\site-packages\\sklearn\\model_selection\\_validation.py:515: DataConversionWarning: A column-vector y was passed when a 1d array was expected. Please change the shape of y to (n_samples,), for example using ravel().\n",
      "  estimator.fit(X_train, y_train, **fit_params)\n",
      "E:\\python\\Anaconda\\lib\\site-packages\\sklearn\\model_selection\\_validation.py:515: DataConversionWarning: A column-vector y was passed when a 1d array was expected. Please change the shape of y to (n_samples,), for example using ravel().\n",
      "  estimator.fit(X_train, y_train, **fit_params)\n",
      "E:\\python\\Anaconda\\lib\\site-packages\\sklearn\\model_selection\\_validation.py:515: DataConversionWarning: A column-vector y was passed when a 1d array was expected. Please change the shape of y to (n_samples,), for example using ravel().\n",
      "  estimator.fit(X_train, y_train, **fit_params)\n",
      "E:\\python\\Anaconda\\lib\\site-packages\\sklearn\\model_selection\\_validation.py:515: DataConversionWarning: A column-vector y was passed when a 1d array was expected. Please change the shape of y to (n_samples,), for example using ravel().\n",
      "  estimator.fit(X_train, y_train, **fit_params)\n",
      "E:\\python\\Anaconda\\lib\\site-packages\\sklearn\\model_selection\\_validation.py:515: DataConversionWarning: A column-vector y was passed when a 1d array was expected. Please change the shape of y to (n_samples,), for example using ravel().\n",
      "  estimator.fit(X_train, y_train, **fit_params)\n",
      "E:\\python\\Anaconda\\lib\\site-packages\\sklearn\\model_selection\\_validation.py:515: DataConversionWarning: A column-vector y was passed when a 1d array was expected. Please change the shape of y to (n_samples,), for example using ravel().\n",
      "  estimator.fit(X_train, y_train, **fit_params)\n",
      "E:\\python\\Anaconda\\lib\\site-packages\\sklearn\\model_selection\\_validation.py:515: DataConversionWarning: A column-vector y was passed when a 1d array was expected. Please change the shape of y to (n_samples,), for example using ravel().\n",
      "  estimator.fit(X_train, y_train, **fit_params)\n",
      "E:\\python\\Anaconda\\lib\\site-packages\\sklearn\\model_selection\\_validation.py:515: DataConversionWarning: A column-vector y was passed when a 1d array was expected. Please change the shape of y to (n_samples,), for example using ravel().\n",
      "  estimator.fit(X_train, y_train, **fit_params)\n",
      "E:\\python\\Anaconda\\lib\\site-packages\\sklearn\\model_selection\\_validation.py:515: DataConversionWarning: A column-vector y was passed when a 1d array was expected. Please change the shape of y to (n_samples,), for example using ravel().\n",
      "  estimator.fit(X_train, y_train, **fit_params)\n",
      "E:\\python\\Anaconda\\lib\\site-packages\\sklearn\\model_selection\\_validation.py:515: DataConversionWarning: A column-vector y was passed when a 1d array was expected. Please change the shape of y to (n_samples,), for example using ravel().\n",
      "  estimator.fit(X_train, y_train, **fit_params)\n",
      "E:\\python\\Anaconda\\lib\\site-packages\\sklearn\\model_selection\\_validation.py:515: DataConversionWarning: A column-vector y was passed when a 1d array was expected. Please change the shape of y to (n_samples,), for example using ravel().\n",
      "  estimator.fit(X_train, y_train, **fit_params)\n",
      "E:\\python\\Anaconda\\lib\\site-packages\\sklearn\\model_selection\\_validation.py:515: DataConversionWarning: A column-vector y was passed when a 1d array was expected. Please change the shape of y to (n_samples,), for example using ravel().\n",
      "  estimator.fit(X_train, y_train, **fit_params)\n",
      "E:\\python\\Anaconda\\lib\\site-packages\\sklearn\\model_selection\\_validation.py:515: DataConversionWarning: A column-vector y was passed when a 1d array was expected. Please change the shape of y to (n_samples,), for example using ravel().\n",
      "  estimator.fit(X_train, y_train, **fit_params)\n",
      "E:\\python\\Anaconda\\lib\\site-packages\\sklearn\\model_selection\\_validation.py:515: DataConversionWarning: A column-vector y was passed when a 1d array was expected. Please change the shape of y to (n_samples,), for example using ravel().\n",
      "  estimator.fit(X_train, y_train, **fit_params)\n",
      "E:\\python\\Anaconda\\lib\\site-packages\\sklearn\\model_selection\\_validation.py:515: DataConversionWarning: A column-vector y was passed when a 1d array was expected. Please change the shape of y to (n_samples,), for example using ravel().\n",
      "  estimator.fit(X_train, y_train, **fit_params)\n",
      "E:\\python\\Anaconda\\lib\\site-packages\\sklearn\\model_selection\\_validation.py:515: DataConversionWarning: A column-vector y was passed when a 1d array was expected. Please change the shape of y to (n_samples,), for example using ravel().\n",
      "  estimator.fit(X_train, y_train, **fit_params)\n",
      "E:\\python\\Anaconda\\lib\\site-packages\\sklearn\\model_selection\\_validation.py:515: DataConversionWarning: A column-vector y was passed when a 1d array was expected. Please change the shape of y to (n_samples,), for example using ravel().\n",
      "  estimator.fit(X_train, y_train, **fit_params)\n",
      "E:\\python\\Anaconda\\lib\\site-packages\\sklearn\\model_selection\\_validation.py:515: DataConversionWarning: A column-vector y was passed when a 1d array was expected. Please change the shape of y to (n_samples,), for example using ravel().\n",
      "  estimator.fit(X_train, y_train, **fit_params)\n",
      "E:\\python\\Anaconda\\lib\\site-packages\\sklearn\\model_selection\\_validation.py:515: DataConversionWarning: A column-vector y was passed when a 1d array was expected. Please change the shape of y to (n_samples,), for example using ravel().\n",
      "  estimator.fit(X_train, y_train, **fit_params)\n",
      "E:\\python\\Anaconda\\lib\\site-packages\\sklearn\\model_selection\\_validation.py:515: DataConversionWarning: A column-vector y was passed when a 1d array was expected. Please change the shape of y to (n_samples,), for example using ravel().\n",
      "  estimator.fit(X_train, y_train, **fit_params)\n",
      "E:\\python\\Anaconda\\lib\\site-packages\\sklearn\\model_selection\\_validation.py:515: DataConversionWarning: A column-vector y was passed when a 1d array was expected. Please change the shape of y to (n_samples,), for example using ravel().\n",
      "  estimator.fit(X_train, y_train, **fit_params)\n",
      "E:\\python\\Anaconda\\lib\\site-packages\\sklearn\\model_selection\\_validation.py:515: DataConversionWarning: A column-vector y was passed when a 1d array was expected. Please change the shape of y to (n_samples,), for example using ravel().\n",
      "  estimator.fit(X_train, y_train, **fit_params)\n",
      "E:\\python\\Anaconda\\lib\\site-packages\\sklearn\\model_selection\\_validation.py:515: DataConversionWarning: A column-vector y was passed when a 1d array was expected. Please change the shape of y to (n_samples,), for example using ravel().\n",
      "  estimator.fit(X_train, y_train, **fit_params)\n",
      "E:\\python\\Anaconda\\lib\\site-packages\\sklearn\\model_selection\\_validation.py:515: DataConversionWarning: A column-vector y was passed when a 1d array was expected. Please change the shape of y to (n_samples,), for example using ravel().\n",
      "  estimator.fit(X_train, y_train, **fit_params)\n",
      "E:\\python\\Anaconda\\lib\\site-packages\\sklearn\\model_selection\\_validation.py:515: DataConversionWarning: A column-vector y was passed when a 1d array was expected. Please change the shape of y to (n_samples,), for example using ravel().\n",
      "  estimator.fit(X_train, y_train, **fit_params)\n",
      "E:\\python\\Anaconda\\lib\\site-packages\\sklearn\\model_selection\\_validation.py:515: DataConversionWarning: A column-vector y was passed when a 1d array was expected. Please change the shape of y to (n_samples,), for example using ravel().\n",
      "  estimator.fit(X_train, y_train, **fit_params)\n",
      "E:\\python\\Anaconda\\lib\\site-packages\\sklearn\\model_selection\\_validation.py:515: DataConversionWarning: A column-vector y was passed when a 1d array was expected. Please change the shape of y to (n_samples,), for example using ravel().\n",
      "  estimator.fit(X_train, y_train, **fit_params)\n",
      "E:\\python\\Anaconda\\lib\\site-packages\\sklearn\\model_selection\\_validation.py:515: DataConversionWarning: A column-vector y was passed when a 1d array was expected. Please change the shape of y to (n_samples,), for example using ravel().\n",
      "  estimator.fit(X_train, y_train, **fit_params)\n",
      "E:\\python\\Anaconda\\lib\\site-packages\\sklearn\\model_selection\\_validation.py:515: DataConversionWarning: A column-vector y was passed when a 1d array was expected. Please change the shape of y to (n_samples,), for example using ravel().\n",
      "  estimator.fit(X_train, y_train, **fit_params)\n",
      "E:\\python\\Anaconda\\lib\\site-packages\\sklearn\\model_selection\\_validation.py:515: DataConversionWarning: A column-vector y was passed when a 1d array was expected. Please change the shape of y to (n_samples,), for example using ravel().\n",
      "  estimator.fit(X_train, y_train, **fit_params)\n",
      "E:\\python\\Anaconda\\lib\\site-packages\\sklearn\\model_selection\\_validation.py:515: DataConversionWarning: A column-vector y was passed when a 1d array was expected. Please change the shape of y to (n_samples,), for example using ravel().\n",
      "  estimator.fit(X_train, y_train, **fit_params)\n",
      "E:\\python\\Anaconda\\lib\\site-packages\\sklearn\\model_selection\\_validation.py:515: DataConversionWarning: A column-vector y was passed when a 1d array was expected. Please change the shape of y to (n_samples,), for example using ravel().\n",
      "  estimator.fit(X_train, y_train, **fit_params)\n",
      "E:\\python\\Anaconda\\lib\\site-packages\\sklearn\\model_selection\\_validation.py:515: DataConversionWarning: A column-vector y was passed when a 1d array was expected. Please change the shape of y to (n_samples,), for example using ravel().\n",
      "  estimator.fit(X_train, y_train, **fit_params)\n",
      "E:\\python\\Anaconda\\lib\\site-packages\\sklearn\\model_selection\\_validation.py:515: DataConversionWarning: A column-vector y was passed when a 1d array was expected. Please change the shape of y to (n_samples,), for example using ravel().\n",
      "  estimator.fit(X_train, y_train, **fit_params)\n",
      "E:\\python\\Anaconda\\lib\\site-packages\\sklearn\\model_selection\\_validation.py:515: DataConversionWarning: A column-vector y was passed when a 1d array was expected. Please change the shape of y to (n_samples,), for example using ravel().\n",
      "  estimator.fit(X_train, y_train, **fit_params)\n",
      "E:\\python\\Anaconda\\lib\\site-packages\\sklearn\\model_selection\\_validation.py:515: DataConversionWarning: A column-vector y was passed when a 1d array was expected. Please change the shape of y to (n_samples,), for example using ravel().\n",
      "  estimator.fit(X_train, y_train, **fit_params)\n",
      "E:\\python\\Anaconda\\lib\\site-packages\\sklearn\\model_selection\\_validation.py:515: DataConversionWarning: A column-vector y was passed when a 1d array was expected. Please change the shape of y to (n_samples,), for example using ravel().\n",
      "  estimator.fit(X_train, y_train, **fit_params)\n",
      "E:\\python\\Anaconda\\lib\\site-packages\\sklearn\\model_selection\\_validation.py:515: DataConversionWarning: A column-vector y was passed when a 1d array was expected. Please change the shape of y to (n_samples,), for example using ravel().\n",
      "  estimator.fit(X_train, y_train, **fit_params)\n",
      "E:\\python\\Anaconda\\lib\\site-packages\\sklearn\\model_selection\\_validation.py:515: DataConversionWarning: A column-vector y was passed when a 1d array was expected. Please change the shape of y to (n_samples,), for example using ravel().\n",
      "  estimator.fit(X_train, y_train, **fit_params)\n",
      "E:\\python\\Anaconda\\lib\\site-packages\\sklearn\\model_selection\\_validation.py:515: DataConversionWarning: A column-vector y was passed when a 1d array was expected. Please change the shape of y to (n_samples,), for example using ravel().\n",
      "  estimator.fit(X_train, y_train, **fit_params)\n",
      "E:\\python\\Anaconda\\lib\\site-packages\\sklearn\\model_selection\\_validation.py:515: DataConversionWarning: A column-vector y was passed when a 1d array was expected. Please change the shape of y to (n_samples,), for example using ravel().\n",
      "  estimator.fit(X_train, y_train, **fit_params)\n",
      "E:\\python\\Anaconda\\lib\\site-packages\\sklearn\\model_selection\\_validation.py:515: DataConversionWarning: A column-vector y was passed when a 1d array was expected. Please change the shape of y to (n_samples,), for example using ravel().\n",
      "  estimator.fit(X_train, y_train, **fit_params)\n",
      "E:\\python\\Anaconda\\lib\\site-packages\\sklearn\\model_selection\\_validation.py:515: DataConversionWarning: A column-vector y was passed when a 1d array was expected. Please change the shape of y to (n_samples,), for example using ravel().\n",
      "  estimator.fit(X_train, y_train, **fit_params)\n",
      "E:\\python\\Anaconda\\lib\\site-packages\\sklearn\\model_selection\\_validation.py:515: DataConversionWarning: A column-vector y was passed when a 1d array was expected. Please change the shape of y to (n_samples,), for example using ravel().\n",
      "  estimator.fit(X_train, y_train, **fit_params)\n",
      "E:\\python\\Anaconda\\lib\\site-packages\\sklearn\\model_selection\\_validation.py:515: DataConversionWarning: A column-vector y was passed when a 1d array was expected. Please change the shape of y to (n_samples,), for example using ravel().\n",
      "  estimator.fit(X_train, y_train, **fit_params)\n",
      "E:\\python\\Anaconda\\lib\\site-packages\\sklearn\\model_selection\\_validation.py:515: DataConversionWarning: A column-vector y was passed when a 1d array was expected. Please change the shape of y to (n_samples,), for example using ravel().\n",
      "  estimator.fit(X_train, y_train, **fit_params)\n",
      "E:\\python\\Anaconda\\lib\\site-packages\\sklearn\\model_selection\\_validation.py:515: DataConversionWarning: A column-vector y was passed when a 1d array was expected. Please change the shape of y to (n_samples,), for example using ravel().\n",
      "  estimator.fit(X_train, y_train, **fit_params)\n",
      "E:\\python\\Anaconda\\lib\\site-packages\\sklearn\\model_selection\\_validation.py:515: DataConversionWarning: A column-vector y was passed when a 1d array was expected. Please change the shape of y to (n_samples,), for example using ravel().\n",
      "  estimator.fit(X_train, y_train, **fit_params)\n",
      "E:\\python\\Anaconda\\lib\\site-packages\\sklearn\\model_selection\\_validation.py:515: DataConversionWarning: A column-vector y was passed when a 1d array was expected. Please change the shape of y to (n_samples,), for example using ravel().\n",
      "  estimator.fit(X_train, y_train, **fit_params)\n",
      "E:\\python\\Anaconda\\lib\\site-packages\\sklearn\\model_selection\\_validation.py:515: DataConversionWarning: A column-vector y was passed when a 1d array was expected. Please change the shape of y to (n_samples,), for example using ravel().\n",
      "  estimator.fit(X_train, y_train, **fit_params)\n",
      "E:\\python\\Anaconda\\lib\\site-packages\\sklearn\\model_selection\\_validation.py:515: DataConversionWarning: A column-vector y was passed when a 1d array was expected. Please change the shape of y to (n_samples,), for example using ravel().\n",
      "  estimator.fit(X_train, y_train, **fit_params)\n",
      "E:\\python\\Anaconda\\lib\\site-packages\\sklearn\\model_selection\\_validation.py:515: DataConversionWarning: A column-vector y was passed when a 1d array was expected. Please change the shape of y to (n_samples,), for example using ravel().\n",
      "  estimator.fit(X_train, y_train, **fit_params)\n",
      "E:\\python\\Anaconda\\lib\\site-packages\\sklearn\\model_selection\\_validation.py:515: DataConversionWarning: A column-vector y was passed when a 1d array was expected. Please change the shape of y to (n_samples,), for example using ravel().\n",
      "  estimator.fit(X_train, y_train, **fit_params)\n",
      "E:\\python\\Anaconda\\lib\\site-packages\\sklearn\\model_selection\\_validation.py:515: DataConversionWarning: A column-vector y was passed when a 1d array was expected. Please change the shape of y to (n_samples,), for example using ravel().\n",
      "  estimator.fit(X_train, y_train, **fit_params)\n",
      "E:\\python\\Anaconda\\lib\\site-packages\\sklearn\\model_selection\\_validation.py:515: DataConversionWarning: A column-vector y was passed when a 1d array was expected. Please change the shape of y to (n_samples,), for example using ravel().\n",
      "  estimator.fit(X_train, y_train, **fit_params)\n",
      "E:\\python\\Anaconda\\lib\\site-packages\\sklearn\\model_selection\\_validation.py:515: DataConversionWarning: A column-vector y was passed when a 1d array was expected. Please change the shape of y to (n_samples,), for example using ravel().\n",
      "  estimator.fit(X_train, y_train, **fit_params)\n",
      "E:\\python\\Anaconda\\lib\\site-packages\\sklearn\\model_selection\\_validation.py:515: DataConversionWarning: A column-vector y was passed when a 1d array was expected. Please change the shape of y to (n_samples,), for example using ravel().\n",
      "  estimator.fit(X_train, y_train, **fit_params)\n",
      "E:\\python\\Anaconda\\lib\\site-packages\\sklearn\\model_selection\\_validation.py:515: DataConversionWarning: A column-vector y was passed when a 1d array was expected. Please change the shape of y to (n_samples,), for example using ravel().\n",
      "  estimator.fit(X_train, y_train, **fit_params)\n",
      "E:\\python\\Anaconda\\lib\\site-packages\\sklearn\\model_selection\\_validation.py:515: DataConversionWarning: A column-vector y was passed when a 1d array was expected. Please change the shape of y to (n_samples,), for example using ravel().\n",
      "  estimator.fit(X_train, y_train, **fit_params)\n",
      "E:\\python\\Anaconda\\lib\\site-packages\\sklearn\\model_selection\\_validation.py:515: DataConversionWarning: A column-vector y was passed when a 1d array was expected. Please change the shape of y to (n_samples,), for example using ravel().\n",
      "  estimator.fit(X_train, y_train, **fit_params)\n",
      "E:\\python\\Anaconda\\lib\\site-packages\\sklearn\\model_selection\\_validation.py:515: DataConversionWarning: A column-vector y was passed when a 1d array was expected. Please change the shape of y to (n_samples,), for example using ravel().\n",
      "  estimator.fit(X_train, y_train, **fit_params)\n",
      "E:\\python\\Anaconda\\lib\\site-packages\\sklearn\\model_selection\\_validation.py:515: DataConversionWarning: A column-vector y was passed when a 1d array was expected. Please change the shape of y to (n_samples,), for example using ravel().\n",
      "  estimator.fit(X_train, y_train, **fit_params)\n",
      "E:\\python\\Anaconda\\lib\\site-packages\\sklearn\\model_selection\\_validation.py:515: DataConversionWarning: A column-vector y was passed when a 1d array was expected. Please change the shape of y to (n_samples,), for example using ravel().\n",
      "  estimator.fit(X_train, y_train, **fit_params)\n",
      "E:\\python\\Anaconda\\lib\\site-packages\\sklearn\\model_selection\\_validation.py:515: DataConversionWarning: A column-vector y was passed when a 1d array was expected. Please change the shape of y to (n_samples,), for example using ravel().\n",
      "  estimator.fit(X_train, y_train, **fit_params)\n",
      "E:\\python\\Anaconda\\lib\\site-packages\\sklearn\\model_selection\\_search.py:739: DataConversionWarning: A column-vector y was passed when a 1d array was expected. Please change the shape of y to (n_samples,), for example using ravel().\n",
      "  self.best_estimator_.fit(X, y, **fit_params)\n"
     ]
    },
    {
     "name": "stdout",
     "output_type": "stream",
     "text": [
      "{'n_estimators': 490, 'n_jobs': 4}\n",
      "Accuracy: 0.6486115444617785\n"
     ]
    }
   ],
   "source": [
    "# Identify the n_estimators\n",
    "\n",
    "# The n_estimators parameter specifies the number of trees in the forest of the model. \n",
    "# The higher n_estimators, the higher accuracy but also the higher computational complexity.\n",
    "n_estimators_list=range(30,501,20)\n",
    "clf = RandomForestClassifier(random_state=50)\n",
    "grid_param = {'n_estimators': n_estimators_list,\n",
    "              'n_jobs' : [4]}\n",
    "\n",
    "# Use GridSearchCV to find out the best n_estimators parameter\n",
    "gd_sr = GridSearchCV(estimator=clf,param_grid=grid_param,scoring='accuracy')\n",
    "gd_sr.fit(x_train,y_train)\n",
    "y_pred = gd_sr.predict(x_test)\n",
    "\n",
    "# Display the parameter\n",
    "print(gd_sr.best_params_)\n",
    "print(\"Accuracy:\",metrics.accuracy_score(y_test, y_pred))"
   ]
  },
  {
   "cell_type": "markdown",
   "metadata": {
    "colab_type": "text",
    "id": "Q_w0cimBIeFR"
   },
   "source": [
    "According to the result, when the n_estimator is 490, the accuracy rate is the highest."
   ]
  },
  {
   "cell_type": "code",
   "execution_count": 0,
   "metadata": {
    "colab": {},
    "colab_type": "code",
    "id": "g3WAF_IbIeFR",
    "outputId": "459b6bdd-15ba-413b-93db-b2f1961b805d"
   },
   "outputs": [
    {
     "name": "stderr",
     "output_type": "stream",
     "text": [
      "E:\\python\\Anaconda\\lib\\site-packages\\sklearn\\model_selection\\_validation.py:515: DataConversionWarning: A column-vector y was passed when a 1d array was expected. Please change the shape of y to (n_samples,), for example using ravel().\n",
      "  estimator.fit(X_train, y_train, **fit_params)\n",
      "E:\\python\\Anaconda\\lib\\site-packages\\sklearn\\model_selection\\_validation.py:515: DataConversionWarning: A column-vector y was passed when a 1d array was expected. Please change the shape of y to (n_samples,), for example using ravel().\n",
      "  estimator.fit(X_train, y_train, **fit_params)\n",
      "E:\\python\\Anaconda\\lib\\site-packages\\sklearn\\model_selection\\_validation.py:515: DataConversionWarning: A column-vector y was passed when a 1d array was expected. Please change the shape of y to (n_samples,), for example using ravel().\n",
      "  estimator.fit(X_train, y_train, **fit_params)\n",
      "E:\\python\\Anaconda\\lib\\site-packages\\sklearn\\model_selection\\_validation.py:515: DataConversionWarning: A column-vector y was passed when a 1d array was expected. Please change the shape of y to (n_samples,), for example using ravel().\n",
      "  estimator.fit(X_train, y_train, **fit_params)\n",
      "E:\\python\\Anaconda\\lib\\site-packages\\sklearn\\model_selection\\_validation.py:515: DataConversionWarning: A column-vector y was passed when a 1d array was expected. Please change the shape of y to (n_samples,), for example using ravel().\n",
      "  estimator.fit(X_train, y_train, **fit_params)\n",
      "E:\\python\\Anaconda\\lib\\site-packages\\sklearn\\model_selection\\_validation.py:515: DataConversionWarning: A column-vector y was passed when a 1d array was expected. Please change the shape of y to (n_samples,), for example using ravel().\n",
      "  estimator.fit(X_train, y_train, **fit_params)\n",
      "E:\\python\\Anaconda\\lib\\site-packages\\sklearn\\model_selection\\_validation.py:515: DataConversionWarning: A column-vector y was passed when a 1d array was expected. Please change the shape of y to (n_samples,), for example using ravel().\n",
      "  estimator.fit(X_train, y_train, **fit_params)\n",
      "E:\\python\\Anaconda\\lib\\site-packages\\sklearn\\model_selection\\_validation.py:515: DataConversionWarning: A column-vector y was passed when a 1d array was expected. Please change the shape of y to (n_samples,), for example using ravel().\n",
      "  estimator.fit(X_train, y_train, **fit_params)\n",
      "E:\\python\\Anaconda\\lib\\site-packages\\sklearn\\model_selection\\_validation.py:515: DataConversionWarning: A column-vector y was passed when a 1d array was expected. Please change the shape of y to (n_samples,), for example using ravel().\n",
      "  estimator.fit(X_train, y_train, **fit_params)\n",
      "E:\\python\\Anaconda\\lib\\site-packages\\sklearn\\model_selection\\_validation.py:515: DataConversionWarning: A column-vector y was passed when a 1d array was expected. Please change the shape of y to (n_samples,), for example using ravel().\n",
      "  estimator.fit(X_train, y_train, **fit_params)\n",
      "E:\\python\\Anaconda\\lib\\site-packages\\sklearn\\model_selection\\_validation.py:515: DataConversionWarning: A column-vector y was passed when a 1d array was expected. Please change the shape of y to (n_samples,), for example using ravel().\n",
      "  estimator.fit(X_train, y_train, **fit_params)\n",
      "E:\\python\\Anaconda\\lib\\site-packages\\sklearn\\model_selection\\_validation.py:515: DataConversionWarning: A column-vector y was passed when a 1d array was expected. Please change the shape of y to (n_samples,), for example using ravel().\n",
      "  estimator.fit(X_train, y_train, **fit_params)\n",
      "E:\\python\\Anaconda\\lib\\site-packages\\sklearn\\model_selection\\_validation.py:515: DataConversionWarning: A column-vector y was passed when a 1d array was expected. Please change the shape of y to (n_samples,), for example using ravel().\n",
      "  estimator.fit(X_train, y_train, **fit_params)\n",
      "E:\\python\\Anaconda\\lib\\site-packages\\sklearn\\model_selection\\_validation.py:515: DataConversionWarning: A column-vector y was passed when a 1d array was expected. Please change the shape of y to (n_samples,), for example using ravel().\n",
      "  estimator.fit(X_train, y_train, **fit_params)\n",
      "E:\\python\\Anaconda\\lib\\site-packages\\sklearn\\model_selection\\_validation.py:515: DataConversionWarning: A column-vector y was passed when a 1d array was expected. Please change the shape of y to (n_samples,), for example using ravel().\n",
      "  estimator.fit(X_train, y_train, **fit_params)\n",
      "E:\\python\\Anaconda\\lib\\site-packages\\sklearn\\model_selection\\_validation.py:515: DataConversionWarning: A column-vector y was passed when a 1d array was expected. Please change the shape of y to (n_samples,), for example using ravel().\n",
      "  estimator.fit(X_train, y_train, **fit_params)\n",
      "E:\\python\\Anaconda\\lib\\site-packages\\sklearn\\model_selection\\_validation.py:515: DataConversionWarning: A column-vector y was passed when a 1d array was expected. Please change the shape of y to (n_samples,), for example using ravel().\n",
      "  estimator.fit(X_train, y_train, **fit_params)\n",
      "E:\\python\\Anaconda\\lib\\site-packages\\sklearn\\model_selection\\_validation.py:515: DataConversionWarning: A column-vector y was passed when a 1d array was expected. Please change the shape of y to (n_samples,), for example using ravel().\n",
      "  estimator.fit(X_train, y_train, **fit_params)\n",
      "E:\\python\\Anaconda\\lib\\site-packages\\sklearn\\model_selection\\_validation.py:515: DataConversionWarning: A column-vector y was passed when a 1d array was expected. Please change the shape of y to (n_samples,), for example using ravel().\n",
      "  estimator.fit(X_train, y_train, **fit_params)\n",
      "E:\\python\\Anaconda\\lib\\site-packages\\sklearn\\model_selection\\_validation.py:515: DataConversionWarning: A column-vector y was passed when a 1d array was expected. Please change the shape of y to (n_samples,), for example using ravel().\n",
      "  estimator.fit(X_train, y_train, **fit_params)\n",
      "E:\\python\\Anaconda\\lib\\site-packages\\sklearn\\model_selection\\_validation.py:515: DataConversionWarning: A column-vector y was passed when a 1d array was expected. Please change the shape of y to (n_samples,), for example using ravel().\n",
      "  estimator.fit(X_train, y_train, **fit_params)\n",
      "E:\\python\\Anaconda\\lib\\site-packages\\sklearn\\model_selection\\_validation.py:515: DataConversionWarning: A column-vector y was passed when a 1d array was expected. Please change the shape of y to (n_samples,), for example using ravel().\n",
      "  estimator.fit(X_train, y_train, **fit_params)\n",
      "E:\\python\\Anaconda\\lib\\site-packages\\sklearn\\model_selection\\_validation.py:515: DataConversionWarning: A column-vector y was passed when a 1d array was expected. Please change the shape of y to (n_samples,), for example using ravel().\n",
      "  estimator.fit(X_train, y_train, **fit_params)\n",
      "E:\\python\\Anaconda\\lib\\site-packages\\sklearn\\model_selection\\_validation.py:515: DataConversionWarning: A column-vector y was passed when a 1d array was expected. Please change the shape of y to (n_samples,), for example using ravel().\n",
      "  estimator.fit(X_train, y_train, **fit_params)\n",
      "E:\\python\\Anaconda\\lib\\site-packages\\sklearn\\model_selection\\_validation.py:515: DataConversionWarning: A column-vector y was passed when a 1d array was expected. Please change the shape of y to (n_samples,), for example using ravel().\n",
      "  estimator.fit(X_train, y_train, **fit_params)\n",
      "E:\\python\\Anaconda\\lib\\site-packages\\sklearn\\model_selection\\_validation.py:515: DataConversionWarning: A column-vector y was passed when a 1d array was expected. Please change the shape of y to (n_samples,), for example using ravel().\n",
      "  estimator.fit(X_train, y_train, **fit_params)\n",
      "E:\\python\\Anaconda\\lib\\site-packages\\sklearn\\model_selection\\_validation.py:515: DataConversionWarning: A column-vector y was passed when a 1d array was expected. Please change the shape of y to (n_samples,), for example using ravel().\n",
      "  estimator.fit(X_train, y_train, **fit_params)\n",
      "E:\\python\\Anaconda\\lib\\site-packages\\sklearn\\model_selection\\_validation.py:515: DataConversionWarning: A column-vector y was passed when a 1d array was expected. Please change the shape of y to (n_samples,), for example using ravel().\n",
      "  estimator.fit(X_train, y_train, **fit_params)\n",
      "E:\\python\\Anaconda\\lib\\site-packages\\sklearn\\model_selection\\_validation.py:515: DataConversionWarning: A column-vector y was passed when a 1d array was expected. Please change the shape of y to (n_samples,), for example using ravel().\n",
      "  estimator.fit(X_train, y_train, **fit_params)\n",
      "E:\\python\\Anaconda\\lib\\site-packages\\sklearn\\model_selection\\_validation.py:515: DataConversionWarning: A column-vector y was passed when a 1d array was expected. Please change the shape of y to (n_samples,), for example using ravel().\n",
      "  estimator.fit(X_train, y_train, **fit_params)\n",
      "E:\\python\\Anaconda\\lib\\site-packages\\sklearn\\model_selection\\_validation.py:515: DataConversionWarning: A column-vector y was passed when a 1d array was expected. Please change the shape of y to (n_samples,), for example using ravel().\n",
      "  estimator.fit(X_train, y_train, **fit_params)\n",
      "E:\\python\\Anaconda\\lib\\site-packages\\sklearn\\model_selection\\_validation.py:515: DataConversionWarning: A column-vector y was passed when a 1d array was expected. Please change the shape of y to (n_samples,), for example using ravel().\n",
      "  estimator.fit(X_train, y_train, **fit_params)\n",
      "E:\\python\\Anaconda\\lib\\site-packages\\sklearn\\model_selection\\_validation.py:515: DataConversionWarning: A column-vector y was passed when a 1d array was expected. Please change the shape of y to (n_samples,), for example using ravel().\n",
      "  estimator.fit(X_train, y_train, **fit_params)\n",
      "E:\\python\\Anaconda\\lib\\site-packages\\sklearn\\model_selection\\_validation.py:515: DataConversionWarning: A column-vector y was passed when a 1d array was expected. Please change the shape of y to (n_samples,), for example using ravel().\n",
      "  estimator.fit(X_train, y_train, **fit_params)\n",
      "E:\\python\\Anaconda\\lib\\site-packages\\sklearn\\model_selection\\_validation.py:515: DataConversionWarning: A column-vector y was passed when a 1d array was expected. Please change the shape of y to (n_samples,), for example using ravel().\n",
      "  estimator.fit(X_train, y_train, **fit_params)\n",
      "E:\\python\\Anaconda\\lib\\site-packages\\sklearn\\model_selection\\_validation.py:515: DataConversionWarning: A column-vector y was passed when a 1d array was expected. Please change the shape of y to (n_samples,), for example using ravel().\n",
      "  estimator.fit(X_train, y_train, **fit_params)\n",
      "E:\\python\\Anaconda\\lib\\site-packages\\sklearn\\model_selection\\_validation.py:515: DataConversionWarning: A column-vector y was passed when a 1d array was expected. Please change the shape of y to (n_samples,), for example using ravel().\n",
      "  estimator.fit(X_train, y_train, **fit_params)\n",
      "E:\\python\\Anaconda\\lib\\site-packages\\sklearn\\model_selection\\_validation.py:515: DataConversionWarning: A column-vector y was passed when a 1d array was expected. Please change the shape of y to (n_samples,), for example using ravel().\n",
      "  estimator.fit(X_train, y_train, **fit_params)\n",
      "E:\\python\\Anaconda\\lib\\site-packages\\sklearn\\model_selection\\_validation.py:515: DataConversionWarning: A column-vector y was passed when a 1d array was expected. Please change the shape of y to (n_samples,), for example using ravel().\n",
      "  estimator.fit(X_train, y_train, **fit_params)\n",
      "E:\\python\\Anaconda\\lib\\site-packages\\sklearn\\model_selection\\_validation.py:515: DataConversionWarning: A column-vector y was passed when a 1d array was expected. Please change the shape of y to (n_samples,), for example using ravel().\n",
      "  estimator.fit(X_train, y_train, **fit_params)\n",
      "E:\\python\\Anaconda\\lib\\site-packages\\sklearn\\model_selection\\_validation.py:515: DataConversionWarning: A column-vector y was passed when a 1d array was expected. Please change the shape of y to (n_samples,), for example using ravel().\n",
      "  estimator.fit(X_train, y_train, **fit_params)\n",
      "E:\\python\\Anaconda\\lib\\site-packages\\sklearn\\model_selection\\_validation.py:515: DataConversionWarning: A column-vector y was passed when a 1d array was expected. Please change the shape of y to (n_samples,), for example using ravel().\n",
      "  estimator.fit(X_train, y_train, **fit_params)\n",
      "E:\\python\\Anaconda\\lib\\site-packages\\sklearn\\model_selection\\_validation.py:515: DataConversionWarning: A column-vector y was passed when a 1d array was expected. Please change the shape of y to (n_samples,), for example using ravel().\n",
      "  estimator.fit(X_train, y_train, **fit_params)\n",
      "E:\\python\\Anaconda\\lib\\site-packages\\sklearn\\model_selection\\_validation.py:515: DataConversionWarning: A column-vector y was passed when a 1d array was expected. Please change the shape of y to (n_samples,), for example using ravel().\n",
      "  estimator.fit(X_train, y_train, **fit_params)\n",
      "E:\\python\\Anaconda\\lib\\site-packages\\sklearn\\model_selection\\_validation.py:515: DataConversionWarning: A column-vector y was passed when a 1d array was expected. Please change the shape of y to (n_samples,), for example using ravel().\n",
      "  estimator.fit(X_train, y_train, **fit_params)\n",
      "E:\\python\\Anaconda\\lib\\site-packages\\sklearn\\model_selection\\_validation.py:515: DataConversionWarning: A column-vector y was passed when a 1d array was expected. Please change the shape of y to (n_samples,), for example using ravel().\n",
      "  estimator.fit(X_train, y_train, **fit_params)\n",
      "E:\\python\\Anaconda\\lib\\site-packages\\sklearn\\model_selection\\_validation.py:515: DataConversionWarning: A column-vector y was passed when a 1d array was expected. Please change the shape of y to (n_samples,), for example using ravel().\n",
      "  estimator.fit(X_train, y_train, **fit_params)\n",
      "E:\\python\\Anaconda\\lib\\site-packages\\sklearn\\model_selection\\_validation.py:515: DataConversionWarning: A column-vector y was passed when a 1d array was expected. Please change the shape of y to (n_samples,), for example using ravel().\n",
      "  estimator.fit(X_train, y_train, **fit_params)\n",
      "E:\\python\\Anaconda\\lib\\site-packages\\sklearn\\model_selection\\_validation.py:515: DataConversionWarning: A column-vector y was passed when a 1d array was expected. Please change the shape of y to (n_samples,), for example using ravel().\n",
      "  estimator.fit(X_train, y_train, **fit_params)\n",
      "E:\\python\\Anaconda\\lib\\site-packages\\sklearn\\model_selection\\_validation.py:515: DataConversionWarning: A column-vector y was passed when a 1d array was expected. Please change the shape of y to (n_samples,), for example using ravel().\n",
      "  estimator.fit(X_train, y_train, **fit_params)\n",
      "E:\\python\\Anaconda\\lib\\site-packages\\sklearn\\model_selection\\_validation.py:515: DataConversionWarning: A column-vector y was passed when a 1d array was expected. Please change the shape of y to (n_samples,), for example using ravel().\n",
      "  estimator.fit(X_train, y_train, **fit_params)\n",
      "E:\\python\\Anaconda\\lib\\site-packages\\sklearn\\model_selection\\_validation.py:515: DataConversionWarning: A column-vector y was passed when a 1d array was expected. Please change the shape of y to (n_samples,), for example using ravel().\n",
      "  estimator.fit(X_train, y_train, **fit_params)\n",
      "E:\\python\\Anaconda\\lib\\site-packages\\sklearn\\model_selection\\_validation.py:515: DataConversionWarning: A column-vector y was passed when a 1d array was expected. Please change the shape of y to (n_samples,), for example using ravel().\n",
      "  estimator.fit(X_train, y_train, **fit_params)\n",
      "E:\\python\\Anaconda\\lib\\site-packages\\sklearn\\model_selection\\_validation.py:515: DataConversionWarning: A column-vector y was passed when a 1d array was expected. Please change the shape of y to (n_samples,), for example using ravel().\n",
      "  estimator.fit(X_train, y_train, **fit_params)\n",
      "E:\\python\\Anaconda\\lib\\site-packages\\sklearn\\model_selection\\_validation.py:515: DataConversionWarning: A column-vector y was passed when a 1d array was expected. Please change the shape of y to (n_samples,), for example using ravel().\n",
      "  estimator.fit(X_train, y_train, **fit_params)\n",
      "E:\\python\\Anaconda\\lib\\site-packages\\sklearn\\model_selection\\_validation.py:515: DataConversionWarning: A column-vector y was passed when a 1d array was expected. Please change the shape of y to (n_samples,), for example using ravel().\n",
      "  estimator.fit(X_train, y_train, **fit_params)\n",
      "E:\\python\\Anaconda\\lib\\site-packages\\sklearn\\model_selection\\_validation.py:515: DataConversionWarning: A column-vector y was passed when a 1d array was expected. Please change the shape of y to (n_samples,), for example using ravel().\n",
      "  estimator.fit(X_train, y_train, **fit_params)\n",
      "E:\\python\\Anaconda\\lib\\site-packages\\sklearn\\model_selection\\_validation.py:515: DataConversionWarning: A column-vector y was passed when a 1d array was expected. Please change the shape of y to (n_samples,), for example using ravel().\n",
      "  estimator.fit(X_train, y_train, **fit_params)\n",
      "E:\\python\\Anaconda\\lib\\site-packages\\sklearn\\model_selection\\_validation.py:515: DataConversionWarning: A column-vector y was passed when a 1d array was expected. Please change the shape of y to (n_samples,), for example using ravel().\n",
      "  estimator.fit(X_train, y_train, **fit_params)\n",
      "E:\\python\\Anaconda\\lib\\site-packages\\sklearn\\model_selection\\_validation.py:515: DataConversionWarning: A column-vector y was passed when a 1d array was expected. Please change the shape of y to (n_samples,), for example using ravel().\n",
      "  estimator.fit(X_train, y_train, **fit_params)\n",
      "E:\\python\\Anaconda\\lib\\site-packages\\sklearn\\model_selection\\_validation.py:515: DataConversionWarning: A column-vector y was passed when a 1d array was expected. Please change the shape of y to (n_samples,), for example using ravel().\n",
      "  estimator.fit(X_train, y_train, **fit_params)\n",
      "E:\\python\\Anaconda\\lib\\site-packages\\sklearn\\model_selection\\_validation.py:515: DataConversionWarning: A column-vector y was passed when a 1d array was expected. Please change the shape of y to (n_samples,), for example using ravel().\n",
      "  estimator.fit(X_train, y_train, **fit_params)\n",
      "E:\\python\\Anaconda\\lib\\site-packages\\sklearn\\model_selection\\_validation.py:515: DataConversionWarning: A column-vector y was passed when a 1d array was expected. Please change the shape of y to (n_samples,), for example using ravel().\n",
      "  estimator.fit(X_train, y_train, **fit_params)\n",
      "E:\\python\\Anaconda\\lib\\site-packages\\sklearn\\model_selection\\_validation.py:515: DataConversionWarning: A column-vector y was passed when a 1d array was expected. Please change the shape of y to (n_samples,), for example using ravel().\n",
      "  estimator.fit(X_train, y_train, **fit_params)\n",
      "E:\\python\\Anaconda\\lib\\site-packages\\sklearn\\model_selection\\_validation.py:515: DataConversionWarning: A column-vector y was passed when a 1d array was expected. Please change the shape of y to (n_samples,), for example using ravel().\n",
      "  estimator.fit(X_train, y_train, **fit_params)\n",
      "E:\\python\\Anaconda\\lib\\site-packages\\sklearn\\model_selection\\_validation.py:515: DataConversionWarning: A column-vector y was passed when a 1d array was expected. Please change the shape of y to (n_samples,), for example using ravel().\n",
      "  estimator.fit(X_train, y_train, **fit_params)\n",
      "E:\\python\\Anaconda\\lib\\site-packages\\sklearn\\model_selection\\_validation.py:515: DataConversionWarning: A column-vector y was passed when a 1d array was expected. Please change the shape of y to (n_samples,), for example using ravel().\n",
      "  estimator.fit(X_train, y_train, **fit_params)\n",
      "E:\\python\\Anaconda\\lib\\site-packages\\sklearn\\model_selection\\_validation.py:515: DataConversionWarning: A column-vector y was passed when a 1d array was expected. Please change the shape of y to (n_samples,), for example using ravel().\n",
      "  estimator.fit(X_train, y_train, **fit_params)\n",
      "E:\\python\\Anaconda\\lib\\site-packages\\sklearn\\model_selection\\_validation.py:515: DataConversionWarning: A column-vector y was passed when a 1d array was expected. Please change the shape of y to (n_samples,), for example using ravel().\n",
      "  estimator.fit(X_train, y_train, **fit_params)\n",
      "E:\\python\\Anaconda\\lib\\site-packages\\sklearn\\model_selection\\_validation.py:515: DataConversionWarning: A column-vector y was passed when a 1d array was expected. Please change the shape of y to (n_samples,), for example using ravel().\n",
      "  estimator.fit(X_train, y_train, **fit_params)\n",
      "E:\\python\\Anaconda\\lib\\site-packages\\sklearn\\model_selection\\_validation.py:515: DataConversionWarning: A column-vector y was passed when a 1d array was expected. Please change the shape of y to (n_samples,), for example using ravel().\n",
      "  estimator.fit(X_train, y_train, **fit_params)\n",
      "E:\\python\\Anaconda\\lib\\site-packages\\sklearn\\model_selection\\_validation.py:515: DataConversionWarning: A column-vector y was passed when a 1d array was expected. Please change the shape of y to (n_samples,), for example using ravel().\n",
      "  estimator.fit(X_train, y_train, **fit_params)\n",
      "E:\\python\\Anaconda\\lib\\site-packages\\sklearn\\model_selection\\_validation.py:515: DataConversionWarning: A column-vector y was passed when a 1d array was expected. Please change the shape of y to (n_samples,), for example using ravel().\n",
      "  estimator.fit(X_train, y_train, **fit_params)\n",
      "E:\\python\\Anaconda\\lib\\site-packages\\sklearn\\model_selection\\_validation.py:515: DataConversionWarning: A column-vector y was passed when a 1d array was expected. Please change the shape of y to (n_samples,), for example using ravel().\n",
      "  estimator.fit(X_train, y_train, **fit_params)\n",
      "E:\\python\\Anaconda\\lib\\site-packages\\sklearn\\model_selection\\_validation.py:515: DataConversionWarning: A column-vector y was passed when a 1d array was expected. Please change the shape of y to (n_samples,), for example using ravel().\n",
      "  estimator.fit(X_train, y_train, **fit_params)\n",
      "E:\\python\\Anaconda\\lib\\site-packages\\sklearn\\model_selection\\_validation.py:515: DataConversionWarning: A column-vector y was passed when a 1d array was expected. Please change the shape of y to (n_samples,), for example using ravel().\n",
      "  estimator.fit(X_train, y_train, **fit_params)\n",
      "E:\\python\\Anaconda\\lib\\site-packages\\sklearn\\model_selection\\_validation.py:515: DataConversionWarning: A column-vector y was passed when a 1d array was expected. Please change the shape of y to (n_samples,), for example using ravel().\n",
      "  estimator.fit(X_train, y_train, **fit_params)\n",
      "E:\\python\\Anaconda\\lib\\site-packages\\sklearn\\model_selection\\_validation.py:515: DataConversionWarning: A column-vector y was passed when a 1d array was expected. Please change the shape of y to (n_samples,), for example using ravel().\n",
      "  estimator.fit(X_train, y_train, **fit_params)\n",
      "E:\\python\\Anaconda\\lib\\site-packages\\sklearn\\model_selection\\_validation.py:515: DataConversionWarning: A column-vector y was passed when a 1d array was expected. Please change the shape of y to (n_samples,), for example using ravel().\n",
      "  estimator.fit(X_train, y_train, **fit_params)\n",
      "E:\\python\\Anaconda\\lib\\site-packages\\sklearn\\model_selection\\_validation.py:515: DataConversionWarning: A column-vector y was passed when a 1d array was expected. Please change the shape of y to (n_samples,), for example using ravel().\n",
      "  estimator.fit(X_train, y_train, **fit_params)\n",
      "E:\\python\\Anaconda\\lib\\site-packages\\sklearn\\model_selection\\_validation.py:515: DataConversionWarning: A column-vector y was passed when a 1d array was expected. Please change the shape of y to (n_samples,), for example using ravel().\n",
      "  estimator.fit(X_train, y_train, **fit_params)\n",
      "E:\\python\\Anaconda\\lib\\site-packages\\sklearn\\model_selection\\_validation.py:515: DataConversionWarning: A column-vector y was passed when a 1d array was expected. Please change the shape of y to (n_samples,), for example using ravel().\n",
      "  estimator.fit(X_train, y_train, **fit_params)\n",
      "E:\\python\\Anaconda\\lib\\site-packages\\sklearn\\model_selection\\_validation.py:515: DataConversionWarning: A column-vector y was passed when a 1d array was expected. Please change the shape of y to (n_samples,), for example using ravel().\n",
      "  estimator.fit(X_train, y_train, **fit_params)\n",
      "E:\\python\\Anaconda\\lib\\site-packages\\sklearn\\model_selection\\_validation.py:515: DataConversionWarning: A column-vector y was passed when a 1d array was expected. Please change the shape of y to (n_samples,), for example using ravel().\n",
      "  estimator.fit(X_train, y_train, **fit_params)\n",
      "E:\\python\\Anaconda\\lib\\site-packages\\sklearn\\model_selection\\_validation.py:515: DataConversionWarning: A column-vector y was passed when a 1d array was expected. Please change the shape of y to (n_samples,), for example using ravel().\n",
      "  estimator.fit(X_train, y_train, **fit_params)\n",
      "E:\\python\\Anaconda\\lib\\site-packages\\sklearn\\model_selection\\_validation.py:515: DataConversionWarning: A column-vector y was passed when a 1d array was expected. Please change the shape of y to (n_samples,), for example using ravel().\n",
      "  estimator.fit(X_train, y_train, **fit_params)\n",
      "E:\\python\\Anaconda\\lib\\site-packages\\sklearn\\model_selection\\_validation.py:515: DataConversionWarning: A column-vector y was passed when a 1d array was expected. Please change the shape of y to (n_samples,), for example using ravel().\n",
      "  estimator.fit(X_train, y_train, **fit_params)\n",
      "E:\\python\\Anaconda\\lib\\site-packages\\sklearn\\model_selection\\_validation.py:515: DataConversionWarning: A column-vector y was passed when a 1d array was expected. Please change the shape of y to (n_samples,), for example using ravel().\n",
      "  estimator.fit(X_train, y_train, **fit_params)\n",
      "E:\\python\\Anaconda\\lib\\site-packages\\sklearn\\model_selection\\_validation.py:515: DataConversionWarning: A column-vector y was passed when a 1d array was expected. Please change the shape of y to (n_samples,), for example using ravel().\n",
      "  estimator.fit(X_train, y_train, **fit_params)\n",
      "E:\\python\\Anaconda\\lib\\site-packages\\sklearn\\model_selection\\_validation.py:515: DataConversionWarning: A column-vector y was passed when a 1d array was expected. Please change the shape of y to (n_samples,), for example using ravel().\n",
      "  estimator.fit(X_train, y_train, **fit_params)\n",
      "E:\\python\\Anaconda\\lib\\site-packages\\sklearn\\model_selection\\_validation.py:515: DataConversionWarning: A column-vector y was passed when a 1d array was expected. Please change the shape of y to (n_samples,), for example using ravel().\n",
      "  estimator.fit(X_train, y_train, **fit_params)\n",
      "E:\\python\\Anaconda\\lib\\site-packages\\sklearn\\model_selection\\_validation.py:515: DataConversionWarning: A column-vector y was passed when a 1d array was expected. Please change the shape of y to (n_samples,), for example using ravel().\n",
      "  estimator.fit(X_train, y_train, **fit_params)\n",
      "E:\\python\\Anaconda\\lib\\site-packages\\sklearn\\model_selection\\_validation.py:515: DataConversionWarning: A column-vector y was passed when a 1d array was expected. Please change the shape of y to (n_samples,), for example using ravel().\n",
      "  estimator.fit(X_train, y_train, **fit_params)\n",
      "E:\\python\\Anaconda\\lib\\site-packages\\sklearn\\model_selection\\_validation.py:515: DataConversionWarning: A column-vector y was passed when a 1d array was expected. Please change the shape of y to (n_samples,), for example using ravel().\n",
      "  estimator.fit(X_train, y_train, **fit_params)\n",
      "E:\\python\\Anaconda\\lib\\site-packages\\sklearn\\model_selection\\_validation.py:515: DataConversionWarning: A column-vector y was passed when a 1d array was expected. Please change the shape of y to (n_samples,), for example using ravel().\n",
      "  estimator.fit(X_train, y_train, **fit_params)\n",
      "E:\\python\\Anaconda\\lib\\site-packages\\sklearn\\model_selection\\_validation.py:515: DataConversionWarning: A column-vector y was passed when a 1d array was expected. Please change the shape of y to (n_samples,), for example using ravel().\n",
      "  estimator.fit(X_train, y_train, **fit_params)\n",
      "E:\\python\\Anaconda\\lib\\site-packages\\sklearn\\model_selection\\_validation.py:515: DataConversionWarning: A column-vector y was passed when a 1d array was expected. Please change the shape of y to (n_samples,), for example using ravel().\n",
      "  estimator.fit(X_train, y_train, **fit_params)\n",
      "E:\\python\\Anaconda\\lib\\site-packages\\sklearn\\model_selection\\_validation.py:515: DataConversionWarning: A column-vector y was passed when a 1d array was expected. Please change the shape of y to (n_samples,), for example using ravel().\n",
      "  estimator.fit(X_train, y_train, **fit_params)\n",
      "E:\\python\\Anaconda\\lib\\site-packages\\sklearn\\model_selection\\_validation.py:515: DataConversionWarning: A column-vector y was passed when a 1d array was expected. Please change the shape of y to (n_samples,), for example using ravel().\n",
      "  estimator.fit(X_train, y_train, **fit_params)\n",
      "E:\\python\\Anaconda\\lib\\site-packages\\sklearn\\model_selection\\_validation.py:515: DataConversionWarning: A column-vector y was passed when a 1d array was expected. Please change the shape of y to (n_samples,), for example using ravel().\n",
      "  estimator.fit(X_train, y_train, **fit_params)\n",
      "E:\\python\\Anaconda\\lib\\site-packages\\sklearn\\model_selection\\_search.py:739: DataConversionWarning: A column-vector y was passed when a 1d array was expected. Please change the shape of y to (n_samples,), for example using ravel().\n",
      "  self.best_estimator_.fit(X, y, **fit_params)\n"
     ]
    },
    {
     "name": "stdout",
     "output_type": "stream",
     "text": [
      "{'max_depth': 20, 'n_estimators': 490, 'n_jobs': 4, 'random_state': 50}\n",
      "Accuracy: 0.6554134165366615\n"
     ]
    }
   ],
   "source": [
    "# Dientify the max_depth\n",
    "\n",
    "# The max_depth parameter specifies the maximum depth of each tree\n",
    "# When there are too many features and observations, it is better to restrict the max_depth\n",
    "max_depth_list=range(10,201,10)\n",
    "clf = RandomForestClassifier()\n",
    "grid_param = {'n_estimators': [490],\n",
    "              'max_depth':max_depth_list,\n",
    "              'n_jobs' : [4],\n",
    "              'random_state':[50]}\n",
    "\n",
    "# Given n_estimators is 490, use GridSearchCV to find out the best math_depth parameter\n",
    "gd_sr = GridSearchCV(estimator = clf,param_grid=grid_param,scoring='accuracy')\n",
    "gd_sr.fit(x_train,y_train)\n",
    "y_pred = gd_sr.predict(x_test)\n",
    "\n",
    "# Display the parameter\n",
    "print(gd_sr.best_params_)\n",
    "print(\"Accuracy:\",metrics.accuracy_score(y_test, y_pred))"
   ]
  },
  {
   "cell_type": "markdown",
   "metadata": {
    "colab_type": "text",
    "id": "8OwwURdQIeFT"
   },
   "source": [
    "Given the n_estimator is 490, the accuracy rate becomes the highest when the max_depth is 20"
   ]
  },
  {
   "cell_type": "code",
   "execution_count": 0,
   "metadata": {
    "colab": {},
    "colab_type": "code",
    "id": "9EzJnW8RIeFT",
    "outputId": "eea9d4c8-ff0d-4f23-8649-a1395d74a69b"
   },
   "outputs": [
    {
     "name": "stderr",
     "output_type": "stream",
     "text": [
      "E:\\python\\Anaconda\\lib\\site-packages\\sklearn\\model_selection\\_validation.py:515: DataConversionWarning: A column-vector y was passed when a 1d array was expected. Please change the shape of y to (n_samples,), for example using ravel().\n",
      "  estimator.fit(X_train, y_train, **fit_params)\n",
      "E:\\python\\Anaconda\\lib\\site-packages\\sklearn\\model_selection\\_validation.py:515: DataConversionWarning: A column-vector y was passed when a 1d array was expected. Please change the shape of y to (n_samples,), for example using ravel().\n",
      "  estimator.fit(X_train, y_train, **fit_params)\n",
      "E:\\python\\Anaconda\\lib\\site-packages\\sklearn\\model_selection\\_validation.py:515: DataConversionWarning: A column-vector y was passed when a 1d array was expected. Please change the shape of y to (n_samples,), for example using ravel().\n",
      "  estimator.fit(X_train, y_train, **fit_params)\n",
      "E:\\python\\Anaconda\\lib\\site-packages\\sklearn\\model_selection\\_validation.py:515: DataConversionWarning: A column-vector y was passed when a 1d array was expected. Please change the shape of y to (n_samples,), for example using ravel().\n",
      "  estimator.fit(X_train, y_train, **fit_params)\n",
      "E:\\python\\Anaconda\\lib\\site-packages\\sklearn\\model_selection\\_validation.py:515: DataConversionWarning: A column-vector y was passed when a 1d array was expected. Please change the shape of y to (n_samples,), for example using ravel().\n",
      "  estimator.fit(X_train, y_train, **fit_params)\n",
      "E:\\python\\Anaconda\\lib\\site-packages\\sklearn\\model_selection\\_validation.py:515: DataConversionWarning: A column-vector y was passed when a 1d array was expected. Please change the shape of y to (n_samples,), for example using ravel().\n",
      "  estimator.fit(X_train, y_train, **fit_params)\n",
      "E:\\python\\Anaconda\\lib\\site-packages\\sklearn\\model_selection\\_validation.py:515: DataConversionWarning: A column-vector y was passed when a 1d array was expected. Please change the shape of y to (n_samples,), for example using ravel().\n",
      "  estimator.fit(X_train, y_train, **fit_params)\n",
      "E:\\python\\Anaconda\\lib\\site-packages\\sklearn\\model_selection\\_validation.py:515: DataConversionWarning: A column-vector y was passed when a 1d array was expected. Please change the shape of y to (n_samples,), for example using ravel().\n",
      "  estimator.fit(X_train, y_train, **fit_params)\n",
      "E:\\python\\Anaconda\\lib\\site-packages\\sklearn\\model_selection\\_validation.py:515: DataConversionWarning: A column-vector y was passed when a 1d array was expected. Please change the shape of y to (n_samples,), for example using ravel().\n",
      "  estimator.fit(X_train, y_train, **fit_params)\n",
      "E:\\python\\Anaconda\\lib\\site-packages\\sklearn\\model_selection\\_validation.py:515: DataConversionWarning: A column-vector y was passed when a 1d array was expected. Please change the shape of y to (n_samples,), for example using ravel().\n",
      "  estimator.fit(X_train, y_train, **fit_params)\n",
      "E:\\python\\Anaconda\\lib\\site-packages\\sklearn\\model_selection\\_validation.py:515: DataConversionWarning: A column-vector y was passed when a 1d array was expected. Please change the shape of y to (n_samples,), for example using ravel().\n",
      "  estimator.fit(X_train, y_train, **fit_params)\n",
      "E:\\python\\Anaconda\\lib\\site-packages\\sklearn\\model_selection\\_validation.py:515: DataConversionWarning: A column-vector y was passed when a 1d array was expected. Please change the shape of y to (n_samples,), for example using ravel().\n",
      "  estimator.fit(X_train, y_train, **fit_params)\n",
      "E:\\python\\Anaconda\\lib\\site-packages\\sklearn\\model_selection\\_validation.py:515: DataConversionWarning: A column-vector y was passed when a 1d array was expected. Please change the shape of y to (n_samples,), for example using ravel().\n",
      "  estimator.fit(X_train, y_train, **fit_params)\n",
      "E:\\python\\Anaconda\\lib\\site-packages\\sklearn\\model_selection\\_validation.py:515: DataConversionWarning: A column-vector y was passed when a 1d array was expected. Please change the shape of y to (n_samples,), for example using ravel().\n",
      "  estimator.fit(X_train, y_train, **fit_params)\n",
      "E:\\python\\Anaconda\\lib\\site-packages\\sklearn\\model_selection\\_validation.py:515: DataConversionWarning: A column-vector y was passed when a 1d array was expected. Please change the shape of y to (n_samples,), for example using ravel().\n",
      "  estimator.fit(X_train, y_train, **fit_params)\n",
      "E:\\python\\Anaconda\\lib\\site-packages\\sklearn\\model_selection\\_validation.py:515: DataConversionWarning: A column-vector y was passed when a 1d array was expected. Please change the shape of y to (n_samples,), for example using ravel().\n",
      "  estimator.fit(X_train, y_train, **fit_params)\n",
      "E:\\python\\Anaconda\\lib\\site-packages\\sklearn\\model_selection\\_validation.py:515: DataConversionWarning: A column-vector y was passed when a 1d array was expected. Please change the shape of y to (n_samples,), for example using ravel().\n",
      "  estimator.fit(X_train, y_train, **fit_params)\n",
      "E:\\python\\Anaconda\\lib\\site-packages\\sklearn\\model_selection\\_validation.py:515: DataConversionWarning: A column-vector y was passed when a 1d array was expected. Please change the shape of y to (n_samples,), for example using ravel().\n",
      "  estimator.fit(X_train, y_train, **fit_params)\n",
      "E:\\python\\Anaconda\\lib\\site-packages\\sklearn\\model_selection\\_validation.py:515: DataConversionWarning: A column-vector y was passed when a 1d array was expected. Please change the shape of y to (n_samples,), for example using ravel().\n",
      "  estimator.fit(X_train, y_train, **fit_params)\n",
      "E:\\python\\Anaconda\\lib\\site-packages\\sklearn\\model_selection\\_validation.py:515: DataConversionWarning: A column-vector y was passed when a 1d array was expected. Please change the shape of y to (n_samples,), for example using ravel().\n",
      "  estimator.fit(X_train, y_train, **fit_params)\n",
      "E:\\python\\Anaconda\\lib\\site-packages\\sklearn\\model_selection\\_validation.py:515: DataConversionWarning: A column-vector y was passed when a 1d array was expected. Please change the shape of y to (n_samples,), for example using ravel().\n",
      "  estimator.fit(X_train, y_train, **fit_params)\n",
      "E:\\python\\Anaconda\\lib\\site-packages\\sklearn\\model_selection\\_validation.py:515: DataConversionWarning: A column-vector y was passed when a 1d array was expected. Please change the shape of y to (n_samples,), for example using ravel().\n",
      "  estimator.fit(X_train, y_train, **fit_params)\n",
      "E:\\python\\Anaconda\\lib\\site-packages\\sklearn\\model_selection\\_validation.py:515: DataConversionWarning: A column-vector y was passed when a 1d array was expected. Please change the shape of y to (n_samples,), for example using ravel().\n",
      "  estimator.fit(X_train, y_train, **fit_params)\n",
      "E:\\python\\Anaconda\\lib\\site-packages\\sklearn\\model_selection\\_validation.py:515: DataConversionWarning: A column-vector y was passed when a 1d array was expected. Please change the shape of y to (n_samples,), for example using ravel().\n",
      "  estimator.fit(X_train, y_train, **fit_params)\n",
      "E:\\python\\Anaconda\\lib\\site-packages\\sklearn\\model_selection\\_validation.py:515: DataConversionWarning: A column-vector y was passed when a 1d array was expected. Please change the shape of y to (n_samples,), for example using ravel().\n",
      "  estimator.fit(X_train, y_train, **fit_params)\n",
      "E:\\python\\Anaconda\\lib\\site-packages\\sklearn\\model_selection\\_validation.py:515: DataConversionWarning: A column-vector y was passed when a 1d array was expected. Please change the shape of y to (n_samples,), for example using ravel().\n",
      "  estimator.fit(X_train, y_train, **fit_params)\n",
      "E:\\python\\Anaconda\\lib\\site-packages\\sklearn\\model_selection\\_validation.py:515: DataConversionWarning: A column-vector y was passed when a 1d array was expected. Please change the shape of y to (n_samples,), for example using ravel().\n",
      "  estimator.fit(X_train, y_train, **fit_params)\n",
      "E:\\python\\Anaconda\\lib\\site-packages\\sklearn\\model_selection\\_validation.py:515: DataConversionWarning: A column-vector y was passed when a 1d array was expected. Please change the shape of y to (n_samples,), for example using ravel().\n",
      "  estimator.fit(X_train, y_train, **fit_params)\n",
      "E:\\python\\Anaconda\\lib\\site-packages\\sklearn\\model_selection\\_validation.py:515: DataConversionWarning: A column-vector y was passed when a 1d array was expected. Please change the shape of y to (n_samples,), for example using ravel().\n",
      "  estimator.fit(X_train, y_train, **fit_params)\n",
      "E:\\python\\Anaconda\\lib\\site-packages\\sklearn\\model_selection\\_validation.py:515: DataConversionWarning: A column-vector y was passed when a 1d array was expected. Please change the shape of y to (n_samples,), for example using ravel().\n",
      "  estimator.fit(X_train, y_train, **fit_params)\n",
      "E:\\python\\Anaconda\\lib\\site-packages\\sklearn\\model_selection\\_validation.py:515: DataConversionWarning: A column-vector y was passed when a 1d array was expected. Please change the shape of y to (n_samples,), for example using ravel().\n",
      "  estimator.fit(X_train, y_train, **fit_params)\n",
      "E:\\python\\Anaconda\\lib\\site-packages\\sklearn\\model_selection\\_validation.py:515: DataConversionWarning: A column-vector y was passed when a 1d array was expected. Please change the shape of y to (n_samples,), for example using ravel().\n",
      "  estimator.fit(X_train, y_train, **fit_params)\n",
      "E:\\python\\Anaconda\\lib\\site-packages\\sklearn\\model_selection\\_validation.py:515: DataConversionWarning: A column-vector y was passed when a 1d array was expected. Please change the shape of y to (n_samples,), for example using ravel().\n",
      "  estimator.fit(X_train, y_train, **fit_params)\n",
      "E:\\python\\Anaconda\\lib\\site-packages\\sklearn\\model_selection\\_validation.py:515: DataConversionWarning: A column-vector y was passed when a 1d array was expected. Please change the shape of y to (n_samples,), for example using ravel().\n",
      "  estimator.fit(X_train, y_train, **fit_params)\n",
      "E:\\python\\Anaconda\\lib\\site-packages\\sklearn\\model_selection\\_validation.py:515: DataConversionWarning: A column-vector y was passed when a 1d array was expected. Please change the shape of y to (n_samples,), for example using ravel().\n",
      "  estimator.fit(X_train, y_train, **fit_params)\n",
      "E:\\python\\Anaconda\\lib\\site-packages\\sklearn\\model_selection\\_validation.py:515: DataConversionWarning: A column-vector y was passed when a 1d array was expected. Please change the shape of y to (n_samples,), for example using ravel().\n",
      "  estimator.fit(X_train, y_train, **fit_params)\n",
      "E:\\python\\Anaconda\\lib\\site-packages\\sklearn\\model_selection\\_validation.py:515: DataConversionWarning: A column-vector y was passed when a 1d array was expected. Please change the shape of y to (n_samples,), for example using ravel().\n",
      "  estimator.fit(X_train, y_train, **fit_params)\n",
      "E:\\python\\Anaconda\\lib\\site-packages\\sklearn\\model_selection\\_validation.py:515: DataConversionWarning: A column-vector y was passed when a 1d array was expected. Please change the shape of y to (n_samples,), for example using ravel().\n",
      "  estimator.fit(X_train, y_train, **fit_params)\n",
      "E:\\python\\Anaconda\\lib\\site-packages\\sklearn\\model_selection\\_validation.py:515: DataConversionWarning: A column-vector y was passed when a 1d array was expected. Please change the shape of y to (n_samples,), for example using ravel().\n",
      "  estimator.fit(X_train, y_train, **fit_params)\n",
      "E:\\python\\Anaconda\\lib\\site-packages\\sklearn\\model_selection\\_validation.py:515: DataConversionWarning: A column-vector y was passed when a 1d array was expected. Please change the shape of y to (n_samples,), for example using ravel().\n",
      "  estimator.fit(X_train, y_train, **fit_params)\n",
      "E:\\python\\Anaconda\\lib\\site-packages\\sklearn\\model_selection\\_validation.py:515: DataConversionWarning: A column-vector y was passed when a 1d array was expected. Please change the shape of y to (n_samples,), for example using ravel().\n",
      "  estimator.fit(X_train, y_train, **fit_params)\n",
      "E:\\python\\Anaconda\\lib\\site-packages\\sklearn\\model_selection\\_validation.py:515: DataConversionWarning: A column-vector y was passed when a 1d array was expected. Please change the shape of y to (n_samples,), for example using ravel().\n",
      "  estimator.fit(X_train, y_train, **fit_params)\n",
      "E:\\python\\Anaconda\\lib\\site-packages\\sklearn\\model_selection\\_validation.py:515: DataConversionWarning: A column-vector y was passed when a 1d array was expected. Please change the shape of y to (n_samples,), for example using ravel().\n",
      "  estimator.fit(X_train, y_train, **fit_params)\n",
      "E:\\python\\Anaconda\\lib\\site-packages\\sklearn\\model_selection\\_validation.py:515: DataConversionWarning: A column-vector y was passed when a 1d array was expected. Please change the shape of y to (n_samples,), for example using ravel().\n",
      "  estimator.fit(X_train, y_train, **fit_params)\n",
      "E:\\python\\Anaconda\\lib\\site-packages\\sklearn\\model_selection\\_validation.py:515: DataConversionWarning: A column-vector y was passed when a 1d array was expected. Please change the shape of y to (n_samples,), for example using ravel().\n",
      "  estimator.fit(X_train, y_train, **fit_params)\n",
      "E:\\python\\Anaconda\\lib\\site-packages\\sklearn\\model_selection\\_validation.py:515: DataConversionWarning: A column-vector y was passed when a 1d array was expected. Please change the shape of y to (n_samples,), for example using ravel().\n",
      "  estimator.fit(X_train, y_train, **fit_params)\n",
      "E:\\python\\Anaconda\\lib\\site-packages\\sklearn\\model_selection\\_validation.py:515: DataConversionWarning: A column-vector y was passed when a 1d array was expected. Please change the shape of y to (n_samples,), for example using ravel().\n",
      "  estimator.fit(X_train, y_train, **fit_params)\n",
      "E:\\python\\Anaconda\\lib\\site-packages\\sklearn\\model_selection\\_validation.py:515: DataConversionWarning: A column-vector y was passed when a 1d array was expected. Please change the shape of y to (n_samples,), for example using ravel().\n",
      "  estimator.fit(X_train, y_train, **fit_params)\n",
      "E:\\python\\Anaconda\\lib\\site-packages\\sklearn\\model_selection\\_validation.py:515: DataConversionWarning: A column-vector y was passed when a 1d array was expected. Please change the shape of y to (n_samples,), for example using ravel().\n",
      "  estimator.fit(X_train, y_train, **fit_params)\n",
      "E:\\python\\Anaconda\\lib\\site-packages\\sklearn\\model_selection\\_validation.py:515: DataConversionWarning: A column-vector y was passed when a 1d array was expected. Please change the shape of y to (n_samples,), for example using ravel().\n",
      "  estimator.fit(X_train, y_train, **fit_params)\n",
      "E:\\python\\Anaconda\\lib\\site-packages\\sklearn\\model_selection\\_validation.py:515: DataConversionWarning: A column-vector y was passed when a 1d array was expected. Please change the shape of y to (n_samples,), for example using ravel().\n",
      "  estimator.fit(X_train, y_train, **fit_params)\n",
      "E:\\python\\Anaconda\\lib\\site-packages\\sklearn\\model_selection\\_validation.py:515: DataConversionWarning: A column-vector y was passed when a 1d array was expected. Please change the shape of y to (n_samples,), for example using ravel().\n",
      "  estimator.fit(X_train, y_train, **fit_params)\n",
      "E:\\python\\Anaconda\\lib\\site-packages\\sklearn\\model_selection\\_validation.py:515: DataConversionWarning: A column-vector y was passed when a 1d array was expected. Please change the shape of y to (n_samples,), for example using ravel().\n",
      "  estimator.fit(X_train, y_train, **fit_params)\n",
      "E:\\python\\Anaconda\\lib\\site-packages\\sklearn\\model_selection\\_validation.py:515: DataConversionWarning: A column-vector y was passed when a 1d array was expected. Please change the shape of y to (n_samples,), for example using ravel().\n",
      "  estimator.fit(X_train, y_train, **fit_params)\n",
      "E:\\python\\Anaconda\\lib\\site-packages\\sklearn\\model_selection\\_validation.py:515: DataConversionWarning: A column-vector y was passed when a 1d array was expected. Please change the shape of y to (n_samples,), for example using ravel().\n",
      "  estimator.fit(X_train, y_train, **fit_params)\n",
      "E:\\python\\Anaconda\\lib\\site-packages\\sklearn\\model_selection\\_validation.py:515: DataConversionWarning: A column-vector y was passed when a 1d array was expected. Please change the shape of y to (n_samples,), for example using ravel().\n",
      "  estimator.fit(X_train, y_train, **fit_params)\n",
      "E:\\python\\Anaconda\\lib\\site-packages\\sklearn\\model_selection\\_validation.py:515: DataConversionWarning: A column-vector y was passed when a 1d array was expected. Please change the shape of y to (n_samples,), for example using ravel().\n",
      "  estimator.fit(X_train, y_train, **fit_params)\n",
      "E:\\python\\Anaconda\\lib\\site-packages\\sklearn\\model_selection\\_validation.py:515: DataConversionWarning: A column-vector y was passed when a 1d array was expected. Please change the shape of y to (n_samples,), for example using ravel().\n",
      "  estimator.fit(X_train, y_train, **fit_params)\n",
      "E:\\python\\Anaconda\\lib\\site-packages\\sklearn\\model_selection\\_validation.py:515: DataConversionWarning: A column-vector y was passed when a 1d array was expected. Please change the shape of y to (n_samples,), for example using ravel().\n",
      "  estimator.fit(X_train, y_train, **fit_params)\n",
      "E:\\python\\Anaconda\\lib\\site-packages\\sklearn\\model_selection\\_validation.py:515: DataConversionWarning: A column-vector y was passed when a 1d array was expected. Please change the shape of y to (n_samples,), for example using ravel().\n",
      "  estimator.fit(X_train, y_train, **fit_params)\n",
      "E:\\python\\Anaconda\\lib\\site-packages\\sklearn\\model_selection\\_validation.py:515: DataConversionWarning: A column-vector y was passed when a 1d array was expected. Please change the shape of y to (n_samples,), for example using ravel().\n",
      "  estimator.fit(X_train, y_train, **fit_params)\n",
      "E:\\python\\Anaconda\\lib\\site-packages\\sklearn\\model_selection\\_validation.py:515: DataConversionWarning: A column-vector y was passed when a 1d array was expected. Please change the shape of y to (n_samples,), for example using ravel().\n",
      "  estimator.fit(X_train, y_train, **fit_params)\n",
      "E:\\python\\Anaconda\\lib\\site-packages\\sklearn\\model_selection\\_validation.py:515: DataConversionWarning: A column-vector y was passed when a 1d array was expected. Please change the shape of y to (n_samples,), for example using ravel().\n",
      "  estimator.fit(X_train, y_train, **fit_params)\n",
      "E:\\python\\Anaconda\\lib\\site-packages\\sklearn\\model_selection\\_validation.py:515: DataConversionWarning: A column-vector y was passed when a 1d array was expected. Please change the shape of y to (n_samples,), for example using ravel().\n",
      "  estimator.fit(X_train, y_train, **fit_params)\n",
      "E:\\python\\Anaconda\\lib\\site-packages\\sklearn\\model_selection\\_validation.py:515: DataConversionWarning: A column-vector y was passed when a 1d array was expected. Please change the shape of y to (n_samples,), for example using ravel().\n",
      "  estimator.fit(X_train, y_train, **fit_params)\n",
      "E:\\python\\Anaconda\\lib\\site-packages\\sklearn\\model_selection\\_validation.py:515: DataConversionWarning: A column-vector y was passed when a 1d array was expected. Please change the shape of y to (n_samples,), for example using ravel().\n",
      "  estimator.fit(X_train, y_train, **fit_params)\n",
      "E:\\python\\Anaconda\\lib\\site-packages\\sklearn\\model_selection\\_validation.py:515: DataConversionWarning: A column-vector y was passed when a 1d array was expected. Please change the shape of y to (n_samples,), for example using ravel().\n",
      "  estimator.fit(X_train, y_train, **fit_params)\n",
      "E:\\python\\Anaconda\\lib\\site-packages\\sklearn\\model_selection\\_validation.py:515: DataConversionWarning: A column-vector y was passed when a 1d array was expected. Please change the shape of y to (n_samples,), for example using ravel().\n",
      "  estimator.fit(X_train, y_train, **fit_params)\n",
      "E:\\python\\Anaconda\\lib\\site-packages\\sklearn\\model_selection\\_validation.py:515: DataConversionWarning: A column-vector y was passed when a 1d array was expected. Please change the shape of y to (n_samples,), for example using ravel().\n",
      "  estimator.fit(X_train, y_train, **fit_params)\n",
      "E:\\python\\Anaconda\\lib\\site-packages\\sklearn\\model_selection\\_validation.py:515: DataConversionWarning: A column-vector y was passed when a 1d array was expected. Please change the shape of y to (n_samples,), for example using ravel().\n",
      "  estimator.fit(X_train, y_train, **fit_params)\n",
      "E:\\python\\Anaconda\\lib\\site-packages\\sklearn\\model_selection\\_validation.py:515: DataConversionWarning: A column-vector y was passed when a 1d array was expected. Please change the shape of y to (n_samples,), for example using ravel().\n",
      "  estimator.fit(X_train, y_train, **fit_params)\n",
      "E:\\python\\Anaconda\\lib\\site-packages\\sklearn\\model_selection\\_validation.py:515: DataConversionWarning: A column-vector y was passed when a 1d array was expected. Please change the shape of y to (n_samples,), for example using ravel().\n",
      "  estimator.fit(X_train, y_train, **fit_params)\n",
      "E:\\python\\Anaconda\\lib\\site-packages\\sklearn\\model_selection\\_validation.py:515: DataConversionWarning: A column-vector y was passed when a 1d array was expected. Please change the shape of y to (n_samples,), for example using ravel().\n",
      "  estimator.fit(X_train, y_train, **fit_params)\n",
      "E:\\python\\Anaconda\\lib\\site-packages\\sklearn\\model_selection\\_validation.py:515: DataConversionWarning: A column-vector y was passed when a 1d array was expected. Please change the shape of y to (n_samples,), for example using ravel().\n",
      "  estimator.fit(X_train, y_train, **fit_params)\n",
      "E:\\python\\Anaconda\\lib\\site-packages\\sklearn\\model_selection\\_validation.py:515: DataConversionWarning: A column-vector y was passed when a 1d array was expected. Please change the shape of y to (n_samples,), for example using ravel().\n",
      "  estimator.fit(X_train, y_train, **fit_params)\n",
      "E:\\python\\Anaconda\\lib\\site-packages\\sklearn\\model_selection\\_validation.py:515: DataConversionWarning: A column-vector y was passed when a 1d array was expected. Please change the shape of y to (n_samples,), for example using ravel().\n",
      "  estimator.fit(X_train, y_train, **fit_params)\n",
      "E:\\python\\Anaconda\\lib\\site-packages\\sklearn\\model_selection\\_validation.py:515: DataConversionWarning: A column-vector y was passed when a 1d array was expected. Please change the shape of y to (n_samples,), for example using ravel().\n",
      "  estimator.fit(X_train, y_train, **fit_params)\n",
      "E:\\python\\Anaconda\\lib\\site-packages\\sklearn\\model_selection\\_validation.py:515: DataConversionWarning: A column-vector y was passed when a 1d array was expected. Please change the shape of y to (n_samples,), for example using ravel().\n",
      "  estimator.fit(X_train, y_train, **fit_params)\n",
      "E:\\python\\Anaconda\\lib\\site-packages\\sklearn\\model_selection\\_validation.py:515: DataConversionWarning: A column-vector y was passed when a 1d array was expected. Please change the shape of y to (n_samples,), for example using ravel().\n",
      "  estimator.fit(X_train, y_train, **fit_params)\n",
      "E:\\python\\Anaconda\\lib\\site-packages\\sklearn\\model_selection\\_validation.py:515: DataConversionWarning: A column-vector y was passed when a 1d array was expected. Please change the shape of y to (n_samples,), for example using ravel().\n",
      "  estimator.fit(X_train, y_train, **fit_params)\n",
      "E:\\python\\Anaconda\\lib\\site-packages\\sklearn\\model_selection\\_validation.py:515: DataConversionWarning: A column-vector y was passed when a 1d array was expected. Please change the shape of y to (n_samples,), for example using ravel().\n",
      "  estimator.fit(X_train, y_train, **fit_params)\n",
      "E:\\python\\Anaconda\\lib\\site-packages\\sklearn\\model_selection\\_validation.py:515: DataConversionWarning: A column-vector y was passed when a 1d array was expected. Please change the shape of y to (n_samples,), for example using ravel().\n",
      "  estimator.fit(X_train, y_train, **fit_params)\n",
      "E:\\python\\Anaconda\\lib\\site-packages\\sklearn\\model_selection\\_validation.py:515: DataConversionWarning: A column-vector y was passed when a 1d array was expected. Please change the shape of y to (n_samples,), for example using ravel().\n",
      "  estimator.fit(X_train, y_train, **fit_params)\n",
      "E:\\python\\Anaconda\\lib\\site-packages\\sklearn\\model_selection\\_validation.py:515: DataConversionWarning: A column-vector y was passed when a 1d array was expected. Please change the shape of y to (n_samples,), for example using ravel().\n",
      "  estimator.fit(X_train, y_train, **fit_params)\n",
      "E:\\python\\Anaconda\\lib\\site-packages\\sklearn\\model_selection\\_validation.py:515: DataConversionWarning: A column-vector y was passed when a 1d array was expected. Please change the shape of y to (n_samples,), for example using ravel().\n",
      "  estimator.fit(X_train, y_train, **fit_params)\n",
      "E:\\python\\Anaconda\\lib\\site-packages\\sklearn\\model_selection\\_validation.py:515: DataConversionWarning: A column-vector y was passed when a 1d array was expected. Please change the shape of y to (n_samples,), for example using ravel().\n",
      "  estimator.fit(X_train, y_train, **fit_params)\n",
      "E:\\python\\Anaconda\\lib\\site-packages\\sklearn\\model_selection\\_validation.py:515: DataConversionWarning: A column-vector y was passed when a 1d array was expected. Please change the shape of y to (n_samples,), for example using ravel().\n",
      "  estimator.fit(X_train, y_train, **fit_params)\n",
      "E:\\python\\Anaconda\\lib\\site-packages\\sklearn\\model_selection\\_validation.py:515: DataConversionWarning: A column-vector y was passed when a 1d array was expected. Please change the shape of y to (n_samples,), for example using ravel().\n",
      "  estimator.fit(X_train, y_train, **fit_params)\n",
      "E:\\python\\Anaconda\\lib\\site-packages\\sklearn\\model_selection\\_validation.py:515: DataConversionWarning: A column-vector y was passed when a 1d array was expected. Please change the shape of y to (n_samples,), for example using ravel().\n",
      "  estimator.fit(X_train, y_train, **fit_params)\n",
      "E:\\python\\Anaconda\\lib\\site-packages\\sklearn\\model_selection\\_validation.py:515: DataConversionWarning: A column-vector y was passed when a 1d array was expected. Please change the shape of y to (n_samples,), for example using ravel().\n",
      "  estimator.fit(X_train, y_train, **fit_params)\n",
      "E:\\python\\Anaconda\\lib\\site-packages\\sklearn\\model_selection\\_validation.py:515: DataConversionWarning: A column-vector y was passed when a 1d array was expected. Please change the shape of y to (n_samples,), for example using ravel().\n",
      "  estimator.fit(X_train, y_train, **fit_params)\n",
      "E:\\python\\Anaconda\\lib\\site-packages\\sklearn\\model_selection\\_validation.py:515: DataConversionWarning: A column-vector y was passed when a 1d array was expected. Please change the shape of y to (n_samples,), for example using ravel().\n",
      "  estimator.fit(X_train, y_train, **fit_params)\n",
      "E:\\python\\Anaconda\\lib\\site-packages\\sklearn\\model_selection\\_validation.py:515: DataConversionWarning: A column-vector y was passed when a 1d array was expected. Please change the shape of y to (n_samples,), for example using ravel().\n",
      "  estimator.fit(X_train, y_train, **fit_params)\n",
      "E:\\python\\Anaconda\\lib\\site-packages\\sklearn\\model_selection\\_validation.py:515: DataConversionWarning: A column-vector y was passed when a 1d array was expected. Please change the shape of y to (n_samples,), for example using ravel().\n",
      "  estimator.fit(X_train, y_train, **fit_params)\n",
      "E:\\python\\Anaconda\\lib\\site-packages\\sklearn\\model_selection\\_validation.py:515: DataConversionWarning: A column-vector y was passed when a 1d array was expected. Please change the shape of y to (n_samples,), for example using ravel().\n",
      "  estimator.fit(X_train, y_train, **fit_params)\n",
      "E:\\python\\Anaconda\\lib\\site-packages\\sklearn\\model_selection\\_validation.py:515: DataConversionWarning: A column-vector y was passed when a 1d array was expected. Please change the shape of y to (n_samples,), for example using ravel().\n",
      "  estimator.fit(X_train, y_train, **fit_params)\n",
      "E:\\python\\Anaconda\\lib\\site-packages\\sklearn\\model_selection\\_validation.py:515: DataConversionWarning: A column-vector y was passed when a 1d array was expected. Please change the shape of y to (n_samples,), for example using ravel().\n",
      "  estimator.fit(X_train, y_train, **fit_params)\n",
      "E:\\python\\Anaconda\\lib\\site-packages\\sklearn\\model_selection\\_validation.py:515: DataConversionWarning: A column-vector y was passed when a 1d array was expected. Please change the shape of y to (n_samples,), for example using ravel().\n",
      "  estimator.fit(X_train, y_train, **fit_params)\n",
      "E:\\python\\Anaconda\\lib\\site-packages\\sklearn\\model_selection\\_validation.py:515: DataConversionWarning: A column-vector y was passed when a 1d array was expected. Please change the shape of y to (n_samples,), for example using ravel().\n",
      "  estimator.fit(X_train, y_train, **fit_params)\n",
      "E:\\python\\Anaconda\\lib\\site-packages\\sklearn\\model_selection\\_validation.py:515: DataConversionWarning: A column-vector y was passed when a 1d array was expected. Please change the shape of y to (n_samples,), for example using ravel().\n",
      "  estimator.fit(X_train, y_train, **fit_params)\n",
      "E:\\python\\Anaconda\\lib\\site-packages\\sklearn\\model_selection\\_validation.py:515: DataConversionWarning: A column-vector y was passed when a 1d array was expected. Please change the shape of y to (n_samples,), for example using ravel().\n",
      "  estimator.fit(X_train, y_train, **fit_params)\n",
      "E:\\python\\Anaconda\\lib\\site-packages\\sklearn\\model_selection\\_validation.py:515: DataConversionWarning: A column-vector y was passed when a 1d array was expected. Please change the shape of y to (n_samples,), for example using ravel().\n",
      "  estimator.fit(X_train, y_train, **fit_params)\n",
      "E:\\python\\Anaconda\\lib\\site-packages\\sklearn\\model_selection\\_validation.py:515: DataConversionWarning: A column-vector y was passed when a 1d array was expected. Please change the shape of y to (n_samples,), for example using ravel().\n",
      "  estimator.fit(X_train, y_train, **fit_params)\n",
      "E:\\python\\Anaconda\\lib\\site-packages\\sklearn\\model_selection\\_validation.py:515: DataConversionWarning: A column-vector y was passed when a 1d array was expected. Please change the shape of y to (n_samples,), for example using ravel().\n",
      "  estimator.fit(X_train, y_train, **fit_params)\n",
      "E:\\python\\Anaconda\\lib\\site-packages\\sklearn\\model_selection\\_validation.py:515: DataConversionWarning: A column-vector y was passed when a 1d array was expected. Please change the shape of y to (n_samples,), for example using ravel().\n",
      "  estimator.fit(X_train, y_train, **fit_params)\n",
      "E:\\python\\Anaconda\\lib\\site-packages\\sklearn\\model_selection\\_validation.py:515: DataConversionWarning: A column-vector y was passed when a 1d array was expected. Please change the shape of y to (n_samples,), for example using ravel().\n",
      "  estimator.fit(X_train, y_train, **fit_params)\n",
      "E:\\python\\Anaconda\\lib\\site-packages\\sklearn\\model_selection\\_validation.py:515: DataConversionWarning: A column-vector y was passed when a 1d array was expected. Please change the shape of y to (n_samples,), for example using ravel().\n",
      "  estimator.fit(X_train, y_train, **fit_params)\n",
      "E:\\python\\Anaconda\\lib\\site-packages\\sklearn\\model_selection\\_validation.py:515: DataConversionWarning: A column-vector y was passed when a 1d array was expected. Please change the shape of y to (n_samples,), for example using ravel().\n",
      "  estimator.fit(X_train, y_train, **fit_params)\n",
      "E:\\python\\Anaconda\\lib\\site-packages\\sklearn\\model_selection\\_validation.py:515: DataConversionWarning: A column-vector y was passed when a 1d array was expected. Please change the shape of y to (n_samples,), for example using ravel().\n",
      "  estimator.fit(X_train, y_train, **fit_params)\n",
      "E:\\python\\Anaconda\\lib\\site-packages\\sklearn\\model_selection\\_validation.py:515: DataConversionWarning: A column-vector y was passed when a 1d array was expected. Please change the shape of y to (n_samples,), for example using ravel().\n",
      "  estimator.fit(X_train, y_train, **fit_params)\n",
      "E:\\python\\Anaconda\\lib\\site-packages\\sklearn\\model_selection\\_validation.py:515: DataConversionWarning: A column-vector y was passed when a 1d array was expected. Please change the shape of y to (n_samples,), for example using ravel().\n",
      "  estimator.fit(X_train, y_train, **fit_params)\n",
      "E:\\python\\Anaconda\\lib\\site-packages\\sklearn\\model_selection\\_validation.py:515: DataConversionWarning: A column-vector y was passed when a 1d array was expected. Please change the shape of y to (n_samples,), for example using ravel().\n",
      "  estimator.fit(X_train, y_train, **fit_params)\n",
      "E:\\python\\Anaconda\\lib\\site-packages\\sklearn\\model_selection\\_validation.py:515: DataConversionWarning: A column-vector y was passed when a 1d array was expected. Please change the shape of y to (n_samples,), for example using ravel().\n",
      "  estimator.fit(X_train, y_train, **fit_params)\n",
      "E:\\python\\Anaconda\\lib\\site-packages\\sklearn\\model_selection\\_validation.py:515: DataConversionWarning: A column-vector y was passed when a 1d array was expected. Please change the shape of y to (n_samples,), for example using ravel().\n",
      "  estimator.fit(X_train, y_train, **fit_params)\n",
      "E:\\python\\Anaconda\\lib\\site-packages\\sklearn\\model_selection\\_validation.py:515: DataConversionWarning: A column-vector y was passed when a 1d array was expected. Please change the shape of y to (n_samples,), for example using ravel().\n",
      "  estimator.fit(X_train, y_train, **fit_params)\n",
      "E:\\python\\Anaconda\\lib\\site-packages\\sklearn\\model_selection\\_validation.py:515: DataConversionWarning: A column-vector y was passed when a 1d array was expected. Please change the shape of y to (n_samples,), for example using ravel().\n",
      "  estimator.fit(X_train, y_train, **fit_params)\n",
      "E:\\python\\Anaconda\\lib\\site-packages\\sklearn\\model_selection\\_validation.py:515: DataConversionWarning: A column-vector y was passed when a 1d array was expected. Please change the shape of y to (n_samples,), for example using ravel().\n",
      "  estimator.fit(X_train, y_train, **fit_params)\n",
      "E:\\python\\Anaconda\\lib\\site-packages\\sklearn\\model_selection\\_validation.py:515: DataConversionWarning: A column-vector y was passed when a 1d array was expected. Please change the shape of y to (n_samples,), for example using ravel().\n",
      "  estimator.fit(X_train, y_train, **fit_params)\n",
      "E:\\python\\Anaconda\\lib\\site-packages\\sklearn\\model_selection\\_validation.py:515: DataConversionWarning: A column-vector y was passed when a 1d array was expected. Please change the shape of y to (n_samples,), for example using ravel().\n",
      "  estimator.fit(X_train, y_train, **fit_params)\n",
      "E:\\python\\Anaconda\\lib\\site-packages\\sklearn\\model_selection\\_validation.py:515: DataConversionWarning: A column-vector y was passed when a 1d array was expected. Please change the shape of y to (n_samples,), for example using ravel().\n",
      "  estimator.fit(X_train, y_train, **fit_params)\n",
      "E:\\python\\Anaconda\\lib\\site-packages\\sklearn\\model_selection\\_validation.py:515: DataConversionWarning: A column-vector y was passed when a 1d array was expected. Please change the shape of y to (n_samples,), for example using ravel().\n",
      "  estimator.fit(X_train, y_train, **fit_params)\n",
      "E:\\python\\Anaconda\\lib\\site-packages\\sklearn\\model_selection\\_validation.py:515: DataConversionWarning: A column-vector y was passed when a 1d array was expected. Please change the shape of y to (n_samples,), for example using ravel().\n",
      "  estimator.fit(X_train, y_train, **fit_params)\n",
      "E:\\python\\Anaconda\\lib\\site-packages\\sklearn\\model_selection\\_validation.py:515: DataConversionWarning: A column-vector y was passed when a 1d array was expected. Please change the shape of y to (n_samples,), for example using ravel().\n",
      "  estimator.fit(X_train, y_train, **fit_params)\n",
      "E:\\python\\Anaconda\\lib\\site-packages\\sklearn\\model_selection\\_validation.py:515: DataConversionWarning: A column-vector y was passed when a 1d array was expected. Please change the shape of y to (n_samples,), for example using ravel().\n",
      "  estimator.fit(X_train, y_train, **fit_params)\n",
      "E:\\python\\Anaconda\\lib\\site-packages\\sklearn\\model_selection\\_validation.py:515: DataConversionWarning: A column-vector y was passed when a 1d array was expected. Please change the shape of y to (n_samples,), for example using ravel().\n",
      "  estimator.fit(X_train, y_train, **fit_params)\n",
      "E:\\python\\Anaconda\\lib\\site-packages\\sklearn\\model_selection\\_validation.py:515: DataConversionWarning: A column-vector y was passed when a 1d array was expected. Please change the shape of y to (n_samples,), for example using ravel().\n",
      "  estimator.fit(X_train, y_train, **fit_params)\n",
      "E:\\python\\Anaconda\\lib\\site-packages\\sklearn\\model_selection\\_validation.py:515: DataConversionWarning: A column-vector y was passed when a 1d array was expected. Please change the shape of y to (n_samples,), for example using ravel().\n",
      "  estimator.fit(X_train, y_train, **fit_params)\n",
      "E:\\python\\Anaconda\\lib\\site-packages\\sklearn\\model_selection\\_validation.py:515: DataConversionWarning: A column-vector y was passed when a 1d array was expected. Please change the shape of y to (n_samples,), for example using ravel().\n",
      "  estimator.fit(X_train, y_train, **fit_params)\n",
      "E:\\python\\Anaconda\\lib\\site-packages\\sklearn\\model_selection\\_validation.py:515: DataConversionWarning: A column-vector y was passed when a 1d array was expected. Please change the shape of y to (n_samples,), for example using ravel().\n",
      "  estimator.fit(X_train, y_train, **fit_params)\n",
      "E:\\python\\Anaconda\\lib\\site-packages\\sklearn\\model_selection\\_validation.py:515: DataConversionWarning: A column-vector y was passed when a 1d array was expected. Please change the shape of y to (n_samples,), for example using ravel().\n",
      "  estimator.fit(X_train, y_train, **fit_params)\n",
      "E:\\python\\Anaconda\\lib\\site-packages\\sklearn\\model_selection\\_validation.py:515: DataConversionWarning: A column-vector y was passed when a 1d array was expected. Please change the shape of y to (n_samples,), for example using ravel().\n",
      "  estimator.fit(X_train, y_train, **fit_params)\n",
      "E:\\python\\Anaconda\\lib\\site-packages\\sklearn\\model_selection\\_validation.py:515: DataConversionWarning: A column-vector y was passed when a 1d array was expected. Please change the shape of y to (n_samples,), for example using ravel().\n",
      "  estimator.fit(X_train, y_train, **fit_params)\n",
      "E:\\python\\Anaconda\\lib\\site-packages\\sklearn\\model_selection\\_validation.py:515: DataConversionWarning: A column-vector y was passed when a 1d array was expected. Please change the shape of y to (n_samples,), for example using ravel().\n",
      "  estimator.fit(X_train, y_train, **fit_params)\n",
      "E:\\python\\Anaconda\\lib\\site-packages\\sklearn\\model_selection\\_validation.py:515: DataConversionWarning: A column-vector y was passed when a 1d array was expected. Please change the shape of y to (n_samples,), for example using ravel().\n",
      "  estimator.fit(X_train, y_train, **fit_params)\n",
      "E:\\python\\Anaconda\\lib\\site-packages\\sklearn\\model_selection\\_validation.py:515: DataConversionWarning: A column-vector y was passed when a 1d array was expected. Please change the shape of y to (n_samples,), for example using ravel().\n",
      "  estimator.fit(X_train, y_train, **fit_params)\n",
      "E:\\python\\Anaconda\\lib\\site-packages\\sklearn\\model_selection\\_validation.py:515: DataConversionWarning: A column-vector y was passed when a 1d array was expected. Please change the shape of y to (n_samples,), for example using ravel().\n",
      "  estimator.fit(X_train, y_train, **fit_params)\n",
      "E:\\python\\Anaconda\\lib\\site-packages\\sklearn\\model_selection\\_validation.py:515: DataConversionWarning: A column-vector y was passed when a 1d array was expected. Please change the shape of y to (n_samples,), for example using ravel().\n",
      "  estimator.fit(X_train, y_train, **fit_params)\n",
      "E:\\python\\Anaconda\\lib\\site-packages\\sklearn\\model_selection\\_validation.py:515: DataConversionWarning: A column-vector y was passed when a 1d array was expected. Please change the shape of y to (n_samples,), for example using ravel().\n",
      "  estimator.fit(X_train, y_train, **fit_params)\n",
      "E:\\python\\Anaconda\\lib\\site-packages\\sklearn\\model_selection\\_validation.py:515: DataConversionWarning: A column-vector y was passed when a 1d array was expected. Please change the shape of y to (n_samples,), for example using ravel().\n",
      "  estimator.fit(X_train, y_train, **fit_params)\n",
      "E:\\python\\Anaconda\\lib\\site-packages\\sklearn\\model_selection\\_validation.py:515: DataConversionWarning: A column-vector y was passed when a 1d array was expected. Please change the shape of y to (n_samples,), for example using ravel().\n",
      "  estimator.fit(X_train, y_train, **fit_params)\n",
      "E:\\python\\Anaconda\\lib\\site-packages\\sklearn\\model_selection\\_validation.py:515: DataConversionWarning: A column-vector y was passed when a 1d array was expected. Please change the shape of y to (n_samples,), for example using ravel().\n",
      "  estimator.fit(X_train, y_train, **fit_params)\n",
      "E:\\python\\Anaconda\\lib\\site-packages\\sklearn\\model_selection\\_validation.py:515: DataConversionWarning: A column-vector y was passed when a 1d array was expected. Please change the shape of y to (n_samples,), for example using ravel().\n",
      "  estimator.fit(X_train, y_train, **fit_params)\n",
      "E:\\python\\Anaconda\\lib\\site-packages\\sklearn\\model_selection\\_validation.py:515: DataConversionWarning: A column-vector y was passed when a 1d array was expected. Please change the shape of y to (n_samples,), for example using ravel().\n",
      "  estimator.fit(X_train, y_train, **fit_params)\n",
      "E:\\python\\Anaconda\\lib\\site-packages\\sklearn\\model_selection\\_validation.py:515: DataConversionWarning: A column-vector y was passed when a 1d array was expected. Please change the shape of y to (n_samples,), for example using ravel().\n",
      "  estimator.fit(X_train, y_train, **fit_params)\n",
      "E:\\python\\Anaconda\\lib\\site-packages\\sklearn\\model_selection\\_validation.py:515: DataConversionWarning: A column-vector y was passed when a 1d array was expected. Please change the shape of y to (n_samples,), for example using ravel().\n",
      "  estimator.fit(X_train, y_train, **fit_params)\n",
      "E:\\python\\Anaconda\\lib\\site-packages\\sklearn\\model_selection\\_validation.py:515: DataConversionWarning: A column-vector y was passed when a 1d array was expected. Please change the shape of y to (n_samples,), for example using ravel().\n",
      "  estimator.fit(X_train, y_train, **fit_params)\n",
      "E:\\python\\Anaconda\\lib\\site-packages\\sklearn\\model_selection\\_validation.py:515: DataConversionWarning: A column-vector y was passed when a 1d array was expected. Please change the shape of y to (n_samples,), for example using ravel().\n",
      "  estimator.fit(X_train, y_train, **fit_params)\n",
      "E:\\python\\Anaconda\\lib\\site-packages\\sklearn\\model_selection\\_validation.py:515: DataConversionWarning: A column-vector y was passed when a 1d array was expected. Please change the shape of y to (n_samples,), for example using ravel().\n",
      "  estimator.fit(X_train, y_train, **fit_params)\n",
      "E:\\python\\Anaconda\\lib\\site-packages\\sklearn\\model_selection\\_validation.py:515: DataConversionWarning: A column-vector y was passed when a 1d array was expected. Please change the shape of y to (n_samples,), for example using ravel().\n",
      "  estimator.fit(X_train, y_train, **fit_params)\n",
      "E:\\python\\Anaconda\\lib\\site-packages\\sklearn\\model_selection\\_validation.py:515: DataConversionWarning: A column-vector y was passed when a 1d array was expected. Please change the shape of y to (n_samples,), for example using ravel().\n",
      "  estimator.fit(X_train, y_train, **fit_params)\n",
      "E:\\python\\Anaconda\\lib\\site-packages\\sklearn\\model_selection\\_validation.py:515: DataConversionWarning: A column-vector y was passed when a 1d array was expected. Please change the shape of y to (n_samples,), for example using ravel().\n",
      "  estimator.fit(X_train, y_train, **fit_params)\n",
      "E:\\python\\Anaconda\\lib\\site-packages\\sklearn\\model_selection\\_validation.py:515: DataConversionWarning: A column-vector y was passed when a 1d array was expected. Please change the shape of y to (n_samples,), for example using ravel().\n",
      "  estimator.fit(X_train, y_train, **fit_params)\n",
      "E:\\python\\Anaconda\\lib\\site-packages\\sklearn\\model_selection\\_validation.py:515: DataConversionWarning: A column-vector y was passed when a 1d array was expected. Please change the shape of y to (n_samples,), for example using ravel().\n",
      "  estimator.fit(X_train, y_train, **fit_params)\n",
      "E:\\python\\Anaconda\\lib\\site-packages\\sklearn\\model_selection\\_validation.py:515: DataConversionWarning: A column-vector y was passed when a 1d array was expected. Please change the shape of y to (n_samples,), for example using ravel().\n",
      "  estimator.fit(X_train, y_train, **fit_params)\n",
      "E:\\python\\Anaconda\\lib\\site-packages\\sklearn\\model_selection\\_validation.py:515: DataConversionWarning: A column-vector y was passed when a 1d array was expected. Please change the shape of y to (n_samples,), for example using ravel().\n",
      "  estimator.fit(X_train, y_train, **fit_params)\n",
      "E:\\python\\Anaconda\\lib\\site-packages\\sklearn\\model_selection\\_validation.py:515: DataConversionWarning: A column-vector y was passed when a 1d array was expected. Please change the shape of y to (n_samples,), for example using ravel().\n",
      "  estimator.fit(X_train, y_train, **fit_params)\n",
      "E:\\python\\Anaconda\\lib\\site-packages\\sklearn\\model_selection\\_validation.py:515: DataConversionWarning: A column-vector y was passed when a 1d array was expected. Please change the shape of y to (n_samples,), for example using ravel().\n",
      "  estimator.fit(X_train, y_train, **fit_params)\n",
      "E:\\python\\Anaconda\\lib\\site-packages\\sklearn\\model_selection\\_validation.py:515: DataConversionWarning: A column-vector y was passed when a 1d array was expected. Please change the shape of y to (n_samples,), for example using ravel().\n",
      "  estimator.fit(X_train, y_train, **fit_params)\n",
      "E:\\python\\Anaconda\\lib\\site-packages\\sklearn\\model_selection\\_validation.py:515: DataConversionWarning: A column-vector y was passed when a 1d array was expected. Please change the shape of y to (n_samples,), for example using ravel().\n",
      "  estimator.fit(X_train, y_train, **fit_params)\n",
      "E:\\python\\Anaconda\\lib\\site-packages\\sklearn\\model_selection\\_validation.py:515: DataConversionWarning: A column-vector y was passed when a 1d array was expected. Please change the shape of y to (n_samples,), for example using ravel().\n",
      "  estimator.fit(X_train, y_train, **fit_params)\n",
      "E:\\python\\Anaconda\\lib\\site-packages\\sklearn\\model_selection\\_validation.py:515: DataConversionWarning: A column-vector y was passed when a 1d array was expected. Please change the shape of y to (n_samples,), for example using ravel().\n",
      "  estimator.fit(X_train, y_train, **fit_params)\n",
      "E:\\python\\Anaconda\\lib\\site-packages\\sklearn\\model_selection\\_validation.py:515: DataConversionWarning: A column-vector y was passed when a 1d array was expected. Please change the shape of y to (n_samples,), for example using ravel().\n",
      "  estimator.fit(X_train, y_train, **fit_params)\n",
      "E:\\python\\Anaconda\\lib\\site-packages\\sklearn\\model_selection\\_validation.py:515: DataConversionWarning: A column-vector y was passed when a 1d array was expected. Please change the shape of y to (n_samples,), for example using ravel().\n",
      "  estimator.fit(X_train, y_train, **fit_params)\n",
      "E:\\python\\Anaconda\\lib\\site-packages\\sklearn\\model_selection\\_validation.py:515: DataConversionWarning: A column-vector y was passed when a 1d array was expected. Please change the shape of y to (n_samples,), for example using ravel().\n",
      "  estimator.fit(X_train, y_train, **fit_params)\n",
      "E:\\python\\Anaconda\\lib\\site-packages\\sklearn\\model_selection\\_validation.py:515: DataConversionWarning: A column-vector y was passed when a 1d array was expected. Please change the shape of y to (n_samples,), for example using ravel().\n",
      "  estimator.fit(X_train, y_train, **fit_params)\n",
      "E:\\python\\Anaconda\\lib\\site-packages\\sklearn\\model_selection\\_validation.py:515: DataConversionWarning: A column-vector y was passed when a 1d array was expected. Please change the shape of y to (n_samples,), for example using ravel().\n",
      "  estimator.fit(X_train, y_train, **fit_params)\n",
      "E:\\python\\Anaconda\\lib\\site-packages\\sklearn\\model_selection\\_validation.py:515: DataConversionWarning: A column-vector y was passed when a 1d array was expected. Please change the shape of y to (n_samples,), for example using ravel().\n",
      "  estimator.fit(X_train, y_train, **fit_params)\n",
      "E:\\python\\Anaconda\\lib\\site-packages\\sklearn\\model_selection\\_validation.py:515: DataConversionWarning: A column-vector y was passed when a 1d array was expected. Please change the shape of y to (n_samples,), for example using ravel().\n",
      "  estimator.fit(X_train, y_train, **fit_params)\n",
      "E:\\python\\Anaconda\\lib\\site-packages\\sklearn\\model_selection\\_validation.py:515: DataConversionWarning: A column-vector y was passed when a 1d array was expected. Please change the shape of y to (n_samples,), for example using ravel().\n",
      "  estimator.fit(X_train, y_train, **fit_params)\n",
      "E:\\python\\Anaconda\\lib\\site-packages\\sklearn\\model_selection\\_validation.py:515: DataConversionWarning: A column-vector y was passed when a 1d array was expected. Please change the shape of y to (n_samples,), for example using ravel().\n",
      "  estimator.fit(X_train, y_train, **fit_params)\n",
      "E:\\python\\Anaconda\\lib\\site-packages\\sklearn\\model_selection\\_validation.py:515: DataConversionWarning: A column-vector y was passed when a 1d array was expected. Please change the shape of y to (n_samples,), for example using ravel().\n",
      "  estimator.fit(X_train, y_train, **fit_params)\n",
      "E:\\python\\Anaconda\\lib\\site-packages\\sklearn\\model_selection\\_validation.py:515: DataConversionWarning: A column-vector y was passed when a 1d array was expected. Please change the shape of y to (n_samples,), for example using ravel().\n",
      "  estimator.fit(X_train, y_train, **fit_params)\n",
      "E:\\python\\Anaconda\\lib\\site-packages\\sklearn\\model_selection\\_validation.py:515: DataConversionWarning: A column-vector y was passed when a 1d array was expected. Please change the shape of y to (n_samples,), for example using ravel().\n",
      "  estimator.fit(X_train, y_train, **fit_params)\n",
      "E:\\python\\Anaconda\\lib\\site-packages\\sklearn\\model_selection\\_validation.py:515: DataConversionWarning: A column-vector y was passed when a 1d array was expected. Please change the shape of y to (n_samples,), for example using ravel().\n",
      "  estimator.fit(X_train, y_train, **fit_params)\n",
      "E:\\python\\Anaconda\\lib\\site-packages\\sklearn\\model_selection\\_validation.py:515: DataConversionWarning: A column-vector y was passed when a 1d array was expected. Please change the shape of y to (n_samples,), for example using ravel().\n",
      "  estimator.fit(X_train, y_train, **fit_params)\n",
      "E:\\python\\Anaconda\\lib\\site-packages\\sklearn\\model_selection\\_validation.py:515: DataConversionWarning: A column-vector y was passed when a 1d array was expected. Please change the shape of y to (n_samples,), for example using ravel().\n",
      "  estimator.fit(X_train, y_train, **fit_params)\n",
      "E:\\python\\Anaconda\\lib\\site-packages\\sklearn\\model_selection\\_validation.py:515: DataConversionWarning: A column-vector y was passed when a 1d array was expected. Please change the shape of y to (n_samples,), for example using ravel().\n",
      "  estimator.fit(X_train, y_train, **fit_params)\n",
      "E:\\python\\Anaconda\\lib\\site-packages\\sklearn\\model_selection\\_validation.py:515: DataConversionWarning: A column-vector y was passed when a 1d array was expected. Please change the shape of y to (n_samples,), for example using ravel().\n",
      "  estimator.fit(X_train, y_train, **fit_params)\n",
      "E:\\python\\Anaconda\\lib\\site-packages\\sklearn\\model_selection\\_validation.py:515: DataConversionWarning: A column-vector y was passed when a 1d array was expected. Please change the shape of y to (n_samples,), for example using ravel().\n",
      "  estimator.fit(X_train, y_train, **fit_params)\n",
      "E:\\python\\Anaconda\\lib\\site-packages\\sklearn\\model_selection\\_validation.py:515: DataConversionWarning: A column-vector y was passed when a 1d array was expected. Please change the shape of y to (n_samples,), for example using ravel().\n",
      "  estimator.fit(X_train, y_train, **fit_params)\n",
      "E:\\python\\Anaconda\\lib\\site-packages\\sklearn\\model_selection\\_validation.py:515: DataConversionWarning: A column-vector y was passed when a 1d array was expected. Please change the shape of y to (n_samples,), for example using ravel().\n",
      "  estimator.fit(X_train, y_train, **fit_params)\n",
      "E:\\python\\Anaconda\\lib\\site-packages\\sklearn\\model_selection\\_validation.py:515: DataConversionWarning: A column-vector y was passed when a 1d array was expected. Please change the shape of y to (n_samples,), for example using ravel().\n",
      "  estimator.fit(X_train, y_train, **fit_params)\n",
      "E:\\python\\Anaconda\\lib\\site-packages\\sklearn\\model_selection\\_validation.py:515: DataConversionWarning: A column-vector y was passed when a 1d array was expected. Please change the shape of y to (n_samples,), for example using ravel().\n",
      "  estimator.fit(X_train, y_train, **fit_params)\n",
      "E:\\python\\Anaconda\\lib\\site-packages\\sklearn\\model_selection\\_validation.py:515: DataConversionWarning: A column-vector y was passed when a 1d array was expected. Please change the shape of y to (n_samples,), for example using ravel().\n",
      "  estimator.fit(X_train, y_train, **fit_params)\n",
      "E:\\python\\Anaconda\\lib\\site-packages\\sklearn\\model_selection\\_validation.py:515: DataConversionWarning: A column-vector y was passed when a 1d array was expected. Please change the shape of y to (n_samples,), for example using ravel().\n",
      "  estimator.fit(X_train, y_train, **fit_params)\n",
      "E:\\python\\Anaconda\\lib\\site-packages\\sklearn\\model_selection\\_validation.py:515: DataConversionWarning: A column-vector y was passed when a 1d array was expected. Please change the shape of y to (n_samples,), for example using ravel().\n",
      "  estimator.fit(X_train, y_train, **fit_params)\n",
      "E:\\python\\Anaconda\\lib\\site-packages\\sklearn\\model_selection\\_validation.py:515: DataConversionWarning: A column-vector y was passed when a 1d array was expected. Please change the shape of y to (n_samples,), for example using ravel().\n",
      "  estimator.fit(X_train, y_train, **fit_params)\n",
      "E:\\python\\Anaconda\\lib\\site-packages\\sklearn\\model_selection\\_validation.py:515: DataConversionWarning: A column-vector y was passed when a 1d array was expected. Please change the shape of y to (n_samples,), for example using ravel().\n",
      "  estimator.fit(X_train, y_train, **fit_params)\n",
      "E:\\python\\Anaconda\\lib\\site-packages\\sklearn\\model_selection\\_validation.py:515: DataConversionWarning: A column-vector y was passed when a 1d array was expected. Please change the shape of y to (n_samples,), for example using ravel().\n",
      "  estimator.fit(X_train, y_train, **fit_params)\n",
      "E:\\python\\Anaconda\\lib\\site-packages\\sklearn\\model_selection\\_validation.py:515: DataConversionWarning: A column-vector y was passed when a 1d array was expected. Please change the shape of y to (n_samples,), for example using ravel().\n",
      "  estimator.fit(X_train, y_train, **fit_params)\n",
      "E:\\python\\Anaconda\\lib\\site-packages\\sklearn\\model_selection\\_validation.py:515: DataConversionWarning: A column-vector y was passed when a 1d array was expected. Please change the shape of y to (n_samples,), for example using ravel().\n",
      "  estimator.fit(X_train, y_train, **fit_params)\n",
      "E:\\python\\Anaconda\\lib\\site-packages\\sklearn\\model_selection\\_validation.py:515: DataConversionWarning: A column-vector y was passed when a 1d array was expected. Please change the shape of y to (n_samples,), for example using ravel().\n",
      "  estimator.fit(X_train, y_train, **fit_params)\n",
      "E:\\python\\Anaconda\\lib\\site-packages\\sklearn\\model_selection\\_validation.py:515: DataConversionWarning: A column-vector y was passed when a 1d array was expected. Please change the shape of y to (n_samples,), for example using ravel().\n",
      "  estimator.fit(X_train, y_train, **fit_params)\n",
      "E:\\python\\Anaconda\\lib\\site-packages\\sklearn\\model_selection\\_validation.py:515: DataConversionWarning: A column-vector y was passed when a 1d array was expected. Please change the shape of y to (n_samples,), for example using ravel().\n",
      "  estimator.fit(X_train, y_train, **fit_params)\n",
      "E:\\python\\Anaconda\\lib\\site-packages\\sklearn\\model_selection\\_validation.py:515: DataConversionWarning: A column-vector y was passed when a 1d array was expected. Please change the shape of y to (n_samples,), for example using ravel().\n",
      "  estimator.fit(X_train, y_train, **fit_params)\n",
      "E:\\python\\Anaconda\\lib\\site-packages\\sklearn\\model_selection\\_validation.py:515: DataConversionWarning: A column-vector y was passed when a 1d array was expected. Please change the shape of y to (n_samples,), for example using ravel().\n",
      "  estimator.fit(X_train, y_train, **fit_params)\n",
      "E:\\python\\Anaconda\\lib\\site-packages\\sklearn\\model_selection\\_validation.py:515: DataConversionWarning: A column-vector y was passed when a 1d array was expected. Please change the shape of y to (n_samples,), for example using ravel().\n",
      "  estimator.fit(X_train, y_train, **fit_params)\n",
      "E:\\python\\Anaconda\\lib\\site-packages\\sklearn\\model_selection\\_validation.py:515: DataConversionWarning: A column-vector y was passed when a 1d array was expected. Please change the shape of y to (n_samples,), for example using ravel().\n",
      "  estimator.fit(X_train, y_train, **fit_params)\n",
      "E:\\python\\Anaconda\\lib\\site-packages\\sklearn\\model_selection\\_validation.py:515: DataConversionWarning: A column-vector y was passed when a 1d array was expected. Please change the shape of y to (n_samples,), for example using ravel().\n",
      "  estimator.fit(X_train, y_train, **fit_params)\n",
      "E:\\python\\Anaconda\\lib\\site-packages\\sklearn\\model_selection\\_validation.py:515: DataConversionWarning: A column-vector y was passed when a 1d array was expected. Please change the shape of y to (n_samples,), for example using ravel().\n",
      "  estimator.fit(X_train, y_train, **fit_params)\n",
      "E:\\python\\Anaconda\\lib\\site-packages\\sklearn\\model_selection\\_validation.py:515: DataConversionWarning: A column-vector y was passed when a 1d array was expected. Please change the shape of y to (n_samples,), for example using ravel().\n",
      "  estimator.fit(X_train, y_train, **fit_params)\n",
      "E:\\python\\Anaconda\\lib\\site-packages\\sklearn\\model_selection\\_validation.py:515: DataConversionWarning: A column-vector y was passed when a 1d array was expected. Please change the shape of y to (n_samples,), for example using ravel().\n",
      "  estimator.fit(X_train, y_train, **fit_params)\n",
      "E:\\python\\Anaconda\\lib\\site-packages\\sklearn\\model_selection\\_validation.py:515: DataConversionWarning: A column-vector y was passed when a 1d array was expected. Please change the shape of y to (n_samples,), for example using ravel().\n",
      "  estimator.fit(X_train, y_train, **fit_params)\n",
      "E:\\python\\Anaconda\\lib\\site-packages\\sklearn\\model_selection\\_validation.py:515: DataConversionWarning: A column-vector y was passed when a 1d array was expected. Please change the shape of y to (n_samples,), for example using ravel().\n",
      "  estimator.fit(X_train, y_train, **fit_params)\n",
      "E:\\python\\Anaconda\\lib\\site-packages\\sklearn\\model_selection\\_validation.py:515: DataConversionWarning: A column-vector y was passed when a 1d array was expected. Please change the shape of y to (n_samples,), for example using ravel().\n",
      "  estimator.fit(X_train, y_train, **fit_params)\n",
      "E:\\python\\Anaconda\\lib\\site-packages\\sklearn\\model_selection\\_validation.py:515: DataConversionWarning: A column-vector y was passed when a 1d array was expected. Please change the shape of y to (n_samples,), for example using ravel().\n",
      "  estimator.fit(X_train, y_train, **fit_params)\n",
      "E:\\python\\Anaconda\\lib\\site-packages\\sklearn\\model_selection\\_validation.py:515: DataConversionWarning: A column-vector y was passed when a 1d array was expected. Please change the shape of y to (n_samples,), for example using ravel().\n",
      "  estimator.fit(X_train, y_train, **fit_params)\n",
      "E:\\python\\Anaconda\\lib\\site-packages\\sklearn\\model_selection\\_validation.py:515: DataConversionWarning: A column-vector y was passed when a 1d array was expected. Please change the shape of y to (n_samples,), for example using ravel().\n",
      "  estimator.fit(X_train, y_train, **fit_params)\n",
      "E:\\python\\Anaconda\\lib\\site-packages\\sklearn\\model_selection\\_validation.py:515: DataConversionWarning: A column-vector y was passed when a 1d array was expected. Please change the shape of y to (n_samples,), for example using ravel().\n",
      "  estimator.fit(X_train, y_train, **fit_params)\n",
      "E:\\python\\Anaconda\\lib\\site-packages\\sklearn\\model_selection\\_validation.py:515: DataConversionWarning: A column-vector y was passed when a 1d array was expected. Please change the shape of y to (n_samples,), for example using ravel().\n",
      "  estimator.fit(X_train, y_train, **fit_params)\n",
      "E:\\python\\Anaconda\\lib\\site-packages\\sklearn\\model_selection\\_validation.py:515: DataConversionWarning: A column-vector y was passed when a 1d array was expected. Please change the shape of y to (n_samples,), for example using ravel().\n",
      "  estimator.fit(X_train, y_train, **fit_params)\n",
      "E:\\python\\Anaconda\\lib\\site-packages\\sklearn\\model_selection\\_validation.py:515: DataConversionWarning: A column-vector y was passed when a 1d array was expected. Please change the shape of y to (n_samples,), for example using ravel().\n",
      "  estimator.fit(X_train, y_train, **fit_params)\n",
      "E:\\python\\Anaconda\\lib\\site-packages\\sklearn\\model_selection\\_validation.py:515: DataConversionWarning: A column-vector y was passed when a 1d array was expected. Please change the shape of y to (n_samples,), for example using ravel().\n",
      "  estimator.fit(X_train, y_train, **fit_params)\n",
      "E:\\python\\Anaconda\\lib\\site-packages\\sklearn\\model_selection\\_validation.py:515: DataConversionWarning: A column-vector y was passed when a 1d array was expected. Please change the shape of y to (n_samples,), for example using ravel().\n",
      "  estimator.fit(X_train, y_train, **fit_params)\n",
      "E:\\python\\Anaconda\\lib\\site-packages\\sklearn\\model_selection\\_validation.py:515: DataConversionWarning: A column-vector y was passed when a 1d array was expected. Please change the shape of y to (n_samples,), for example using ravel().\n",
      "  estimator.fit(X_train, y_train, **fit_params)\n",
      "E:\\python\\Anaconda\\lib\\site-packages\\sklearn\\model_selection\\_validation.py:515: DataConversionWarning: A column-vector y was passed when a 1d array was expected. Please change the shape of y to (n_samples,), for example using ravel().\n",
      "  estimator.fit(X_train, y_train, **fit_params)\n",
      "E:\\python\\Anaconda\\lib\\site-packages\\sklearn\\model_selection\\_validation.py:515: DataConversionWarning: A column-vector y was passed when a 1d array was expected. Please change the shape of y to (n_samples,), for example using ravel().\n",
      "  estimator.fit(X_train, y_train, **fit_params)\n",
      "E:\\python\\Anaconda\\lib\\site-packages\\sklearn\\model_selection\\_validation.py:515: DataConversionWarning: A column-vector y was passed when a 1d array was expected. Please change the shape of y to (n_samples,), for example using ravel().\n",
      "  estimator.fit(X_train, y_train, **fit_params)\n",
      "E:\\python\\Anaconda\\lib\\site-packages\\sklearn\\model_selection\\_validation.py:515: DataConversionWarning: A column-vector y was passed when a 1d array was expected. Please change the shape of y to (n_samples,), for example using ravel().\n",
      "  estimator.fit(X_train, y_train, **fit_params)\n",
      "E:\\python\\Anaconda\\lib\\site-packages\\sklearn\\model_selection\\_validation.py:515: DataConversionWarning: A column-vector y was passed when a 1d array was expected. Please change the shape of y to (n_samples,), for example using ravel().\n",
      "  estimator.fit(X_train, y_train, **fit_params)\n",
      "E:\\python\\Anaconda\\lib\\site-packages\\sklearn\\model_selection\\_validation.py:515: DataConversionWarning: A column-vector y was passed when a 1d array was expected. Please change the shape of y to (n_samples,), for example using ravel().\n",
      "  estimator.fit(X_train, y_train, **fit_params)\n",
      "E:\\python\\Anaconda\\lib\\site-packages\\sklearn\\model_selection\\_validation.py:515: DataConversionWarning: A column-vector y was passed when a 1d array was expected. Please change the shape of y to (n_samples,), for example using ravel().\n",
      "  estimator.fit(X_train, y_train, **fit_params)\n",
      "E:\\python\\Anaconda\\lib\\site-packages\\sklearn\\model_selection\\_validation.py:515: DataConversionWarning: A column-vector y was passed when a 1d array was expected. Please change the shape of y to (n_samples,), for example using ravel().\n",
      "  estimator.fit(X_train, y_train, **fit_params)\n",
      "E:\\python\\Anaconda\\lib\\site-packages\\sklearn\\model_selection\\_validation.py:515: DataConversionWarning: A column-vector y was passed when a 1d array was expected. Please change the shape of y to (n_samples,), for example using ravel().\n",
      "  estimator.fit(X_train, y_train, **fit_params)\n",
      "E:\\python\\Anaconda\\lib\\site-packages\\sklearn\\model_selection\\_validation.py:515: DataConversionWarning: A column-vector y was passed when a 1d array was expected. Please change the shape of y to (n_samples,), for example using ravel().\n",
      "  estimator.fit(X_train, y_train, **fit_params)\n",
      "E:\\python\\Anaconda\\lib\\site-packages\\sklearn\\model_selection\\_validation.py:515: DataConversionWarning: A column-vector y was passed when a 1d array was expected. Please change the shape of y to (n_samples,), for example using ravel().\n",
      "  estimator.fit(X_train, y_train, **fit_params)\n",
      "E:\\python\\Anaconda\\lib\\site-packages\\sklearn\\model_selection\\_validation.py:515: DataConversionWarning: A column-vector y was passed when a 1d array was expected. Please change the shape of y to (n_samples,), for example using ravel().\n",
      "  estimator.fit(X_train, y_train, **fit_params)\n",
      "E:\\python\\Anaconda\\lib\\site-packages\\sklearn\\model_selection\\_validation.py:515: DataConversionWarning: A column-vector y was passed when a 1d array was expected. Please change the shape of y to (n_samples,), for example using ravel().\n",
      "  estimator.fit(X_train, y_train, **fit_params)\n",
      "E:\\python\\Anaconda\\lib\\site-packages\\sklearn\\model_selection\\_validation.py:515: DataConversionWarning: A column-vector y was passed when a 1d array was expected. Please change the shape of y to (n_samples,), for example using ravel().\n",
      "  estimator.fit(X_train, y_train, **fit_params)\n",
      "E:\\python\\Anaconda\\lib\\site-packages\\sklearn\\model_selection\\_validation.py:515: DataConversionWarning: A column-vector y was passed when a 1d array was expected. Please change the shape of y to (n_samples,), for example using ravel().\n",
      "  estimator.fit(X_train, y_train, **fit_params)\n",
      "E:\\python\\Anaconda\\lib\\site-packages\\sklearn\\model_selection\\_validation.py:515: DataConversionWarning: A column-vector y was passed when a 1d array was expected. Please change the shape of y to (n_samples,), for example using ravel().\n",
      "  estimator.fit(X_train, y_train, **fit_params)\n",
      "E:\\python\\Anaconda\\lib\\site-packages\\sklearn\\model_selection\\_validation.py:515: DataConversionWarning: A column-vector y was passed when a 1d array was expected. Please change the shape of y to (n_samples,), for example using ravel().\n",
      "  estimator.fit(X_train, y_train, **fit_params)\n",
      "E:\\python\\Anaconda\\lib\\site-packages\\sklearn\\model_selection\\_validation.py:515: DataConversionWarning: A column-vector y was passed when a 1d array was expected. Please change the shape of y to (n_samples,), for example using ravel().\n",
      "  estimator.fit(X_train, y_train, **fit_params)\n",
      "E:\\python\\Anaconda\\lib\\site-packages\\sklearn\\model_selection\\_validation.py:515: DataConversionWarning: A column-vector y was passed when a 1d array was expected. Please change the shape of y to (n_samples,), for example using ravel().\n",
      "  estimator.fit(X_train, y_train, **fit_params)\n",
      "E:\\python\\Anaconda\\lib\\site-packages\\sklearn\\model_selection\\_validation.py:515: DataConversionWarning: A column-vector y was passed when a 1d array was expected. Please change the shape of y to (n_samples,), for example using ravel().\n",
      "  estimator.fit(X_train, y_train, **fit_params)\n",
      "E:\\python\\Anaconda\\lib\\site-packages\\sklearn\\model_selection\\_validation.py:515: DataConversionWarning: A column-vector y was passed when a 1d array was expected. Please change the shape of y to (n_samples,), for example using ravel().\n",
      "  estimator.fit(X_train, y_train, **fit_params)\n",
      "E:\\python\\Anaconda\\lib\\site-packages\\sklearn\\model_selection\\_validation.py:515: DataConversionWarning: A column-vector y was passed when a 1d array was expected. Please change the shape of y to (n_samples,), for example using ravel().\n",
      "  estimator.fit(X_train, y_train, **fit_params)\n",
      "E:\\python\\Anaconda\\lib\\site-packages\\sklearn\\model_selection\\_validation.py:515: DataConversionWarning: A column-vector y was passed when a 1d array was expected. Please change the shape of y to (n_samples,), for example using ravel().\n",
      "  estimator.fit(X_train, y_train, **fit_params)\n",
      "E:\\python\\Anaconda\\lib\\site-packages\\sklearn\\model_selection\\_validation.py:515: DataConversionWarning: A column-vector y was passed when a 1d array was expected. Please change the shape of y to (n_samples,), for example using ravel().\n",
      "  estimator.fit(X_train, y_train, **fit_params)\n",
      "E:\\python\\Anaconda\\lib\\site-packages\\sklearn\\model_selection\\_validation.py:515: DataConversionWarning: A column-vector y was passed when a 1d array was expected. Please change the shape of y to (n_samples,), for example using ravel().\n",
      "  estimator.fit(X_train, y_train, **fit_params)\n",
      "E:\\python\\Anaconda\\lib\\site-packages\\sklearn\\model_selection\\_validation.py:515: DataConversionWarning: A column-vector y was passed when a 1d array was expected. Please change the shape of y to (n_samples,), for example using ravel().\n",
      "  estimator.fit(X_train, y_train, **fit_params)\n",
      "E:\\python\\Anaconda\\lib\\site-packages\\sklearn\\model_selection\\_validation.py:515: DataConversionWarning: A column-vector y was passed when a 1d array was expected. Please change the shape of y to (n_samples,), for example using ravel().\n",
      "  estimator.fit(X_train, y_train, **fit_params)\n",
      "E:\\python\\Anaconda\\lib\\site-packages\\sklearn\\model_selection\\_validation.py:515: DataConversionWarning: A column-vector y was passed when a 1d array was expected. Please change the shape of y to (n_samples,), for example using ravel().\n",
      "  estimator.fit(X_train, y_train, **fit_params)\n",
      "E:\\python\\Anaconda\\lib\\site-packages\\sklearn\\model_selection\\_validation.py:515: DataConversionWarning: A column-vector y was passed when a 1d array was expected. Please change the shape of y to (n_samples,), for example using ravel().\n",
      "  estimator.fit(X_train, y_train, **fit_params)\n",
      "E:\\python\\Anaconda\\lib\\site-packages\\sklearn\\model_selection\\_validation.py:515: DataConversionWarning: A column-vector y was passed when a 1d array was expected. Please change the shape of y to (n_samples,), for example using ravel().\n",
      "  estimator.fit(X_train, y_train, **fit_params)\n",
      "E:\\python\\Anaconda\\lib\\site-packages\\sklearn\\model_selection\\_validation.py:515: DataConversionWarning: A column-vector y was passed when a 1d array was expected. Please change the shape of y to (n_samples,), for example using ravel().\n",
      "  estimator.fit(X_train, y_train, **fit_params)\n",
      "E:\\python\\Anaconda\\lib\\site-packages\\sklearn\\model_selection\\_validation.py:515: DataConversionWarning: A column-vector y was passed when a 1d array was expected. Please change the shape of y to (n_samples,), for example using ravel().\n",
      "  estimator.fit(X_train, y_train, **fit_params)\n",
      "E:\\python\\Anaconda\\lib\\site-packages\\sklearn\\model_selection\\_validation.py:515: DataConversionWarning: A column-vector y was passed when a 1d array was expected. Please change the shape of y to (n_samples,), for example using ravel().\n",
      "  estimator.fit(X_train, y_train, **fit_params)\n",
      "E:\\python\\Anaconda\\lib\\site-packages\\sklearn\\model_selection\\_validation.py:515: DataConversionWarning: A column-vector y was passed when a 1d array was expected. Please change the shape of y to (n_samples,), for example using ravel().\n",
      "  estimator.fit(X_train, y_train, **fit_params)\n",
      "E:\\python\\Anaconda\\lib\\site-packages\\sklearn\\model_selection\\_validation.py:515: DataConversionWarning: A column-vector y was passed when a 1d array was expected. Please change the shape of y to (n_samples,), for example using ravel().\n",
      "  estimator.fit(X_train, y_train, **fit_params)\n",
      "E:\\python\\Anaconda\\lib\\site-packages\\sklearn\\model_selection\\_search.py:739: DataConversionWarning: A column-vector y was passed when a 1d array was expected. Please change the shape of y to (n_samples,), for example using ravel().\n",
      "  self.best_estimator_.fit(X, y, **fit_params)\n"
     ]
    },
    {
     "name": "stdout",
     "output_type": "stream",
     "text": [
      "{'max_depth': 20, 'min_samples_leaf': 1, 'min_samples_split': 6, 'n_estimators': 490, 'n_jobs': 4, 'random_state': 50}\n",
      "Accuracy: 0.6557878315132605\n"
     ]
    }
   ],
   "source": [
    "# The min_samples_split parameter specifies the minimum number of samples required to split an internal leaf node.\n",
    "\n",
    "# The min_samples_leaf parameter specifies the minimum number of samples required to be at a leaf node.\n",
    "# Again, when there are too many features and observations, it is better to restrict these two parameters.\n",
    "min_samples_split_list = range(2,21,2)\n",
    "min_samples_leaf_list = range(1,11,2)\n",
    "clf = RandomForestClassifier()\n",
    "grid_param = {'n_estimators': [490],\n",
    "              'max_depth': [20],\n",
    "              'min_samples_split': min_samples_split_list,\n",
    "              'min_samples_leaf' : min_samples_leaf_list,\n",
    "              'n_jobs' : [4],\n",
    "              'random_state':[50]}\n",
    "\n",
    "# Given n_estimators is 490 and max_depth is 20, use GridSearchCV to find out the best min_samples_split and min_samples_leaf parameters\n",
    "gd_sr = GridSearchCV(estimator = clf,param_grid=grid_param,scoring='accuracy')\n",
    "gd_sr.fit(x_train,y_train)\n",
    "y_pred = gd_sr.predict(x_test)\n",
    "\n",
    "# Display the parameters\n",
    "print(gd_sr.best_params_)\n",
    "print(\"Accuracy:\",metrics.accuracy_score(y_test, y_pred))"
   ]
  },
  {
   "cell_type": "markdown",
   "metadata": {
    "colab_type": "text",
    "id": "wd1ojIDpIeFV"
   },
   "source": [
    "The best combination for this pair of train and test dataset is {'max_depth': 20, 'min_samples_leaf': 1, 'min_samples_split': 6, 'n_estimators': 490} and the accuracy rate climbs to 65.6%."
   ]
  },
  {
   "cell_type": "code",
   "execution_count": 0,
   "metadata": {
    "colab": {},
    "colab_type": "code",
    "id": "z_AgaBQCIeFV",
    "outputId": "e86bfe24-d005-4552-8804-cf4582ee5444"
   },
   "outputs": [
    {
     "name": "stderr",
     "output_type": "stream",
     "text": [
      "E:\\python\\Anaconda\\lib\\site-packages\\ipykernel_launcher.py:3: DataConversionWarning: A column-vector y was passed when a 1d array was expected. Please change the shape of y to (n_samples,), for example using ravel().\n",
      "  This is separate from the ipykernel package so we can avoid doing imports until\n",
      "E:\\python\\Anaconda\\lib\\site-packages\\ipykernel_launcher.py:9: UserWarning: Matplotlib is currently using module://ipykernel.pylab.backend_inline, which is a non-GUI backend, so cannot show the figure.\n",
      "  if __name__ == '__main__':\n"
     ]
    },
    {
     "data": {
      "image/png": "[encoded data removed]",
      "text/plain": [
       "<Figure size 1080x360 with 1 Axes>"
      ]
     },
     "metadata": {
      "needs_background": "light",
      "tags": []
     },
     "output_type": "display_data"
    }
   ],
   "source": [
    "# Instantiate the classifier with the identified parameters\n",
    "clf = RandomForestClassifier(max_depth = 20, n_estimators = 490, \n",
    "                             min_samples_split = 6, min_samples_leaf = 1, random_state=50)\n",
    "clf.fit(x_train,y_train)\n",
    "f, ax = plt.subplots(figsize=(15, 5))\n",
    "\n",
    "# Display feature_importances of this new model\n",
    "ax.bar(('state','region_1','region_2','variety','winery','price','Production_year','temperature','rainfall','heat_summation'),clf.feature_importances_)\n",
    "plt.tick_params(color='blue',labelcolor='blue')\n",
    "ax.set_title(\"Feature Importances\",color='blue')\n",
    "f.show()"
   ]
  },
  {
   "cell_type": "markdown",
   "metadata": {
    "colab_type": "text",
    "id": "9BuQa10PIeFY"
   },
   "source": [
    "## Result\n",
    "Through the process of hyperparameter tuning, the accuracy rate increases to 65.6%.\n",
    "As for the feature importances, RandomForest algorithm identifies that \n",
    "winery and price contribute most to categorising scores. Region_1 and variety also have certain degrees of contribution. But the factors that could affect wine flavor, like production_year, temperature, rainfall and heat summation, contribute much less. "
   ]
  },
  {
   "cell_type": "markdown",
   "metadata": {
    "colab_type": "text",
    "id": "fGbqz9UIIeFY"
   },
   "source": [
    "# Business Insight\n",
    "The predictive model I come up with could utilise features to make the prediction of wine categoryies based on scores. That means our company could identify unscored valuable wine and because only a small group of wine have opportunities to be rated, our company could avoid competition with other supermarkets on these rated wine.\n",
    "Our procurment team could buy out target wine identified by this predictive model at a relatively low cost and they could also make better use of the budget to get more wine that customers will prefer in the future so that we could not only improve sale but also increase profits as wine prices will be higher without competition. "
   ]
  }
 ],
 "metadata": {
  "colab": {
   "name": "1954101_Individual_Assignment_1_IB9JV0.ipynb",
   "provenance": []
  },
  "hide_input": false,
  "kernelspec": {
   "display_name": "Python 3",
   "language": "python",
   "name": "python3"
  },
  "language_info": {
   "codemirror_mode": {
    "name": "ipython",
    "version": 3
   },
   "file_extension": ".py",
   "mimetype": "text/x-python",
   "name": "python",
   "nbconvert_exporter": "python",
   "pygments_lexer": "ipython3",
   "version": "3.8.5"
  },
  "toc": {
   "base_numbering": 1,
   "nav_menu": {},
   "number_sections": true,
   "sideBar": true,
   "skip_h1_title": false,
   "title_cell": "Table of Contents",
   "title_sidebar": "Contents",
   "toc_cell": true,
   "toc_position": {
    "height": "calc(100% - 180px)",
    "left": "10px",
    "top": "150px",
    "width": "466.625px"
   },
   "toc_section_display": true,
   "toc_window_display": false
  },
  "varInspector": {
   "cols": {
    "lenName": 16,
    "lenType": 16,
    "lenVar": 40
   },
   "kernels_config": {
    "python": {
     "delete_cmd_postfix": "",
     "delete_cmd_prefix": "del ",
     "library": "var_list.py",
     "varRefreshCmd": "print(var_dic_list())"
    },
    "r": {
     "delete_cmd_postfix": ") ",
     "delete_cmd_prefix": "rm(",
     "library": "var_list.r",
     "varRefreshCmd": "cat(var_dic_list()) "
    }
   },
   "types_to_exclude": [
    "module",
    "function",
    "builtin_function_or_method",
    "instance",
    "_Feature"
   ],
   "window_display": false
  }
 },
 "nbformat": 4,
 "nbformat_minor": 1
}
